{
 "cells": [
  {
   "cell_type": "markdown",
   "metadata": {
    "id": "tTEsEACoiaV9"
   },
   "source": [
    "# Numpy\n",
    "\n"
   ]
  },
  {
   "cell_type": "markdown",
   "metadata": {
    "id": "cISvMADCiaWF"
   },
   "source": [
    "#### 1. Import the numpy package under the name `np` (★☆☆) \n",
    "(**hint**: import … as …)"
   ]
  },
  {
   "cell_type": "code",
   "execution_count": 2,
   "metadata": {
    "id": "Ehj8IOLtiaWH"
   },
   "outputs": [],
   "source": [
    "import numpy as np"
   ]
  },
  {
   "cell_type": "markdown",
   "metadata": {
    "id": "eaw7KENSiaWI"
   },
   "source": [
    "#### 2. Print the numpy version and the configuration (★☆☆) \n",
    "(**hint**: np.\\_\\_version\\_\\_, np.show\\_config)"
   ]
  },
  {
   "cell_type": "code",
   "execution_count": 4,
   "metadata": {
    "id": "EjS3gM8FiaWJ"
   },
   "outputs": [
    {
     "name": "stdout",
     "output_type": "stream",
     "text": [
      "1.16.4\n",
      "mkl_info:\n",
      "    libraries = ['mkl_rt']\n",
      "    library_dirs = ['C:/Anaconda\\\\Library\\\\lib']\n",
      "    define_macros = [('SCIPY_MKL_H', None), ('HAVE_CBLAS', None)]\n",
      "    include_dirs = ['C:\\\\Program Files (x86)\\\\IntelSWTools\\\\compilers_and_libraries_2019.0.117\\\\windows\\\\mkl', 'C:\\\\Program Files (x86)\\\\IntelSWTools\\\\compilers_and_libraries_2019.0.117\\\\windows\\\\mkl\\\\include', 'C:\\\\Program Files (x86)\\\\IntelSWTools\\\\compilers_and_libraries_2019.0.117\\\\windows\\\\mkl\\\\lib', 'C:/Anaconda\\\\Library\\\\include']\n",
      "blas_mkl_info:\n",
      "    libraries = ['mkl_rt']\n",
      "    library_dirs = ['C:/Anaconda\\\\Library\\\\lib']\n",
      "    define_macros = [('SCIPY_MKL_H', None), ('HAVE_CBLAS', None)]\n",
      "    include_dirs = ['C:\\\\Program Files (x86)\\\\IntelSWTools\\\\compilers_and_libraries_2019.0.117\\\\windows\\\\mkl', 'C:\\\\Program Files (x86)\\\\IntelSWTools\\\\compilers_and_libraries_2019.0.117\\\\windows\\\\mkl\\\\include', 'C:\\\\Program Files (x86)\\\\IntelSWTools\\\\compilers_and_libraries_2019.0.117\\\\windows\\\\mkl\\\\lib', 'C:/Anaconda\\\\Library\\\\include']\n",
      "blas_opt_info:\n",
      "    libraries = ['mkl_rt']\n",
      "    library_dirs = ['C:/Anaconda\\\\Library\\\\lib']\n",
      "    define_macros = [('SCIPY_MKL_H', None), ('HAVE_CBLAS', None)]\n",
      "    include_dirs = ['C:\\\\Program Files (x86)\\\\IntelSWTools\\\\compilers_and_libraries_2019.0.117\\\\windows\\\\mkl', 'C:\\\\Program Files (x86)\\\\IntelSWTools\\\\compilers_and_libraries_2019.0.117\\\\windows\\\\mkl\\\\include', 'C:\\\\Program Files (x86)\\\\IntelSWTools\\\\compilers_and_libraries_2019.0.117\\\\windows\\\\mkl\\\\lib', 'C:/Anaconda\\\\Library\\\\include']\n",
      "lapack_mkl_info:\n",
      "    libraries = ['mkl_rt']\n",
      "    library_dirs = ['C:/Anaconda\\\\Library\\\\lib']\n",
      "    define_macros = [('SCIPY_MKL_H', None), ('HAVE_CBLAS', None)]\n",
      "    include_dirs = ['C:\\\\Program Files (x86)\\\\IntelSWTools\\\\compilers_and_libraries_2019.0.117\\\\windows\\\\mkl', 'C:\\\\Program Files (x86)\\\\IntelSWTools\\\\compilers_and_libraries_2019.0.117\\\\windows\\\\mkl\\\\include', 'C:\\\\Program Files (x86)\\\\IntelSWTools\\\\compilers_and_libraries_2019.0.117\\\\windows\\\\mkl\\\\lib', 'C:/Anaconda\\\\Library\\\\include']\n",
      "lapack_opt_info:\n",
      "    libraries = ['mkl_rt']\n",
      "    library_dirs = ['C:/Anaconda\\\\Library\\\\lib']\n",
      "    define_macros = [('SCIPY_MKL_H', None), ('HAVE_CBLAS', None)]\n",
      "    include_dirs = ['C:\\\\Program Files (x86)\\\\IntelSWTools\\\\compilers_and_libraries_2019.0.117\\\\windows\\\\mkl', 'C:\\\\Program Files (x86)\\\\IntelSWTools\\\\compilers_and_libraries_2019.0.117\\\\windows\\\\mkl\\\\include', 'C:\\\\Program Files (x86)\\\\IntelSWTools\\\\compilers_and_libraries_2019.0.117\\\\windows\\\\mkl\\\\lib', 'C:/Anaconda\\\\Library\\\\include']\n",
      "None\n"
     ]
    }
   ],
   "source": [
    "print(np.__version__)\n",
    "print(np.show_config())"
   ]
  },
  {
   "cell_type": "markdown",
   "metadata": {
    "id": "YpyQ0CLriaWJ"
   },
   "source": [
    "#### 3. Create a null vector of size 10 (★☆☆) \n",
    "(**hint**: np.zeros)"
   ]
  },
  {
   "cell_type": "code",
   "execution_count": 5,
   "metadata": {
    "id": "45X4OGnIiaWK"
   },
   "outputs": [
    {
     "name": "stdout",
     "output_type": "stream",
     "text": [
      "[0. 0. 0. 0. 0. 0. 0. 0. 0. 0.]\n"
     ]
    }
   ],
   "source": [
    "x = np.zeros(10)\n",
    "print(x)"
   ]
  },
  {
   "cell_type": "markdown",
   "metadata": {
    "id": "p9_JAcNWiaWL"
   },
   "source": [
    "#### 4.  How to find the memory size of any array (★☆☆) \n",
    "(**hint**: size, itemsize)"
   ]
  },
  {
   "cell_type": "code",
   "execution_count": 8,
   "metadata": {
    "id": "4dpcnRe_iaWM"
   },
   "outputs": [
    {
     "name": "stdout",
     "output_type": "stream",
     "text": [
      "80\n"
     ]
    }
   ],
   "source": [
    "#print(x.size)\n",
    "#print(x.itemsize)\n",
    "print(x.size*x.itemsize)"
   ]
  },
  {
   "cell_type": "markdown",
   "metadata": {
    "id": "4znzRX97iaWN"
   },
   "source": [
    "#### 5.  How to get the documentation of the numpy add function from the command line? (★☆☆) \n",
    "(**hint**: np.info)"
   ]
  },
  {
   "cell_type": "code",
   "execution_count": 9,
   "metadata": {
    "id": "jVdvbFDQiaWN"
   },
   "outputs": [
    {
     "name": "stdout",
     "output_type": "stream",
     "text": [
      "add(x1, x2, /, out=None, *, where=True, casting='same_kind', order='K', dtype=None, subok=True[, signature, extobj])\n",
      "\n",
      "Add arguments element-wise.\n",
      "\n",
      "Parameters\n",
      "----------\n",
      "x1, x2 : array_like\n",
      "    The arrays to be added.  If ``x1.shape != x2.shape``, they must be\n",
      "    broadcastable to a common shape (which may be the shape of one or\n",
      "    the other).\n",
      "out : ndarray, None, or tuple of ndarray and None, optional\n",
      "    A location into which the result is stored. If provided, it must have\n",
      "    a shape that the inputs broadcast to. If not provided or `None`,\n",
      "    a freshly-allocated array is returned. A tuple (possible only as a\n",
      "    keyword argument) must have length equal to the number of outputs.\n",
      "where : array_like, optional\n",
      "    Values of True indicate to calculate the ufunc at that position, values\n",
      "    of False indicate to leave the value in the output alone.\n",
      "**kwargs\n",
      "    For other keyword-only arguments, see the\n",
      "    :ref:`ufunc docs <ufuncs.kwargs>`.\n",
      "\n",
      "Returns\n",
      "-------\n",
      "add : ndarray or scalar\n",
      "    The sum of `x1` and `x2`, element-wise.\n",
      "    This is a scalar if both `x1` and `x2` are scalars.\n",
      "\n",
      "Notes\n",
      "-----\n",
      "Equivalent to `x1` + `x2` in terms of array broadcasting.\n",
      "\n",
      "Examples\n",
      "--------\n",
      ">>> np.add(1.0, 4.0)\n",
      "5.0\n",
      ">>> x1 = np.arange(9.0).reshape((3, 3))\n",
      ">>> x2 = np.arange(3.0)\n",
      ">>> np.add(x1, x2)\n",
      "array([[  0.,   2.,   4.],\n",
      "       [  3.,   5.,   7.],\n",
      "       [  6.,   8.,  10.]])\n",
      "None\n"
     ]
    }
   ],
   "source": [
    "print(np.info(np.add))"
   ]
  },
  {
   "cell_type": "markdown",
   "metadata": {
    "id": "nGLcs9WOiaWO"
   },
   "source": [
    "#### 6.  Create a null vector of size 10 but the fifth value which is 1 (★☆☆) \n",
    "(**hint**: array\\[4\\])"
   ]
  },
  {
   "cell_type": "code",
   "execution_count": 10,
   "metadata": {
    "id": "qsowhqa7iaWP"
   },
   "outputs": [
    {
     "name": "stdout",
     "output_type": "stream",
     "text": [
      "[0. 0. 0. 0. 1. 0. 0. 0. 0. 0.]\n"
     ]
    }
   ],
   "source": [
    "x = np.zeros(10)\n",
    "x[4] = 1\n",
    "print(x)"
   ]
  },
  {
   "cell_type": "markdown",
   "metadata": {
    "id": "8-nsNoyEiaWP"
   },
   "source": [
    "#### 7.  Create a vector with values ranging from 10 to 49 (★☆☆) \n",
    "(**hint**: np.arange)"
   ]
  },
  {
   "cell_type": "code",
   "execution_count": 14,
   "metadata": {
    "id": "vMDKahqFiaWQ"
   },
   "outputs": [
    {
     "name": "stdout",
     "output_type": "stream",
     "text": [
      "[10 13 16 19 22 25 28 31 34 37 40 43 46]\n"
     ]
    }
   ],
   "source": [
    "y = np.arange(10,49,3)\n",
    "print(y)"
   ]
  },
  {
   "cell_type": "markdown",
   "metadata": {
    "id": "PGLVxVdAiaWQ"
   },
   "source": [
    "#### 8.  Reverse a vector (first element becomes last) (★☆☆) \n",
    "(**hint**: array\\[::-1\\])"
   ]
  },
  {
   "cell_type": "code",
   "execution_count": 53,
   "metadata": {
    "id": "XzyMlFu3iaWR"
   },
   "outputs": [
    {
     "name": "stdout",
     "output_type": "stream",
     "text": [
      "[5 4 3 2 1]\n",
      "<class 'numpy.ndarray'>\n"
     ]
    }
   ],
   "source": [
    "a = [1,2,3,4,5]\n",
    "b = [[5],\n",
    "    [6],\n",
    "    [7],\n",
    "    [8]]\n",
    "y = np.flipud(a)\n",
    "print(y)\n",
    "\n",
    "\n",
    "#y = a[::-1]\n",
    "#print(y)"
   ]
  },
  {
   "cell_type": "markdown",
   "metadata": {
    "id": "osQQxZSpiaWR"
   },
   "source": [
    "#### 9.  Create a 3x3 matrix with values ranging from 0 to 8 (★☆☆) \n",
    "(**hint**: reshape)"
   ]
  },
  {
   "cell_type": "code",
   "execution_count": 7,
   "metadata": {
    "id": "Xud40LciiaWR"
   },
   "outputs": [
    {
     "name": "stdout",
     "output_type": "stream",
     "text": [
      "[[0 1 2]\n",
      " [3 4 5]\n",
      " [6 7 8]]\n"
     ]
    }
   ],
   "source": [
    "x = np.arange(9).reshape((3,3))\n",
    "print(x)"
   ]
  },
  {
   "cell_type": "markdown",
   "metadata": {
    "id": "q4OxWiWBiaWS"
   },
   "source": [
    "#### 10. Find indices of non-zero elements from \\[1,2,0,0,4,0\\] (★☆☆) \n",
    "(**hint**: np.nonzero)"
   ]
  },
  {
   "cell_type": "code",
   "execution_count": 8,
   "metadata": {
    "id": "mVUCP9jziaWS"
   },
   "outputs": [
    {
     "name": "stdout",
     "output_type": "stream",
     "text": [
      "(array([0, 1, 4], dtype=int64),)\n"
     ]
    }
   ],
   "source": [
    "a = [1,2,0,0,4,0]\n",
    "print(np.nonzero(a))"
   ]
  },
  {
   "cell_type": "markdown",
   "metadata": {
    "id": "iJVtT9INiaWT"
   },
   "source": [
    "#### 11. Create a 3x3 identity matrix (★☆☆) \n",
    "(**hint**: np.eye)"
   ]
  },
  {
   "cell_type": "code",
   "execution_count": 11,
   "metadata": {
    "id": "JN5ZmK5ciaWT"
   },
   "outputs": [
    {
     "name": "stdout",
     "output_type": "stream",
     "text": [
      "[[1. 0. 0.]\n",
      " [0. 1. 0.]\n",
      " [0. 0. 1.]]\n"
     ]
    }
   ],
   "source": [
    "x = np.eye(3)\n",
    "print(x)"
   ]
  },
  {
   "cell_type": "markdown",
   "metadata": {
    "id": "dP9vwI32iaWU"
   },
   "source": [
    "#### 12. Create a 3x3x3 array with random values (★☆☆) \n",
    "(**hint**: np.random.random)"
   ]
  },
  {
   "cell_type": "code",
   "execution_count": 35,
   "metadata": {
    "id": "ec1M7XD7iaWU"
   },
   "outputs": [
    {
     "name": "stdout",
     "output_type": "stream",
     "text": [
      "[[[0.9709401  0.79539997 0.75058918]\n",
      "  [0.52648893 0.59270427 0.83527364]\n",
      "  [0.792357   0.01190867 0.71262653]]\n",
      "\n",
      " [[0.99733355 0.27084818 0.06422677]\n",
      "  [0.5314475  0.06909747 0.89775036]\n",
      "  [0.40023754 0.34187837 0.64333134]]\n",
      "\n",
      " [[0.98461105 0.45066341 0.704684  ]\n",
      "  [0.93641962 0.26761318 0.2043583 ]\n",
      "  [0.01417704 0.56509871 0.82704985]]]\n"
     ]
    }
   ],
   "source": [
    "from numpy import random\n",
    "x = np.random.random((3,3,3))\n",
    "print(x)"
   ]
  },
  {
   "cell_type": "markdown",
   "metadata": {
    "id": "9QlB2_mYiaWU"
   },
   "source": [
    "#### 13. Create a 10x10 array with random values and find the minimum and maximum values (★☆☆) \n",
    "(**hint**: min, max)"
   ]
  },
  {
   "cell_type": "code",
   "execution_count": 28,
   "metadata": {
    "id": "-HqJXN1EiaWU"
   },
   "outputs": [
    {
     "name": "stdout",
     "output_type": "stream",
     "text": [
      "[[0.21170247 0.47127921 0.07306502 0.03535305 0.92139437 0.18029025\n",
      "  0.42849228 0.44837225 0.45768173 0.56122596]\n",
      " [0.14229051 0.77942542 0.76898108 0.8516312  0.22756586 0.97089969\n",
      "  0.83809772 0.78737094 0.1577153  0.63695667]\n",
      " [0.51095679 0.12437059 0.53273214 0.72107515 0.28367592 0.70459047\n",
      "  0.58063013 0.20846615 0.4721995  0.02053083]\n",
      " [0.29287366 0.1557198  0.22300301 0.20589247 0.13927379 0.07270466\n",
      "  0.55677181 0.83069259 0.69103334 0.16066772]\n",
      " [0.17723409 0.27105986 0.9573617  0.30242425 0.9228497  0.10775107\n",
      "  0.70832743 0.90684699 0.97313545 0.31121757]\n",
      " [0.41272763 0.98703455 0.35689026 0.3840062  0.98255786 0.07627652\n",
      "  0.74971576 0.52499109 0.34410482 0.01731803]\n",
      " [0.25262262 0.68139441 0.8856157  0.13333808 0.48280396 0.42652824\n",
      "  0.87532218 0.34793949 0.87120534 0.852092  ]\n",
      " [0.10758043 0.47244278 0.78489366 0.12407875 0.20109015 0.97073081\n",
      "  0.71114568 0.80940499 0.43030308 0.95509845]\n",
      " [0.74316408 0.60412258 0.28610934 0.91508552 0.95817747 0.04235656\n",
      "  0.15888753 0.14870184 0.367603   0.95756615]\n",
      " [0.68285894 0.55168371 0.71541267 0.0176663  0.04986958 0.46814861\n",
      "  0.48657576 0.3753048  0.61032865 0.89515361]]\n",
      "0.0173180252588091 0.9870345452075153\n"
     ]
    }
   ],
   "source": [
    "x = np.random.random((10,10))\n",
    "print(x)\n",
    "print(x.min(),x.max())"
   ]
  },
  {
   "cell_type": "markdown",
   "metadata": {
    "id": "XMN08B0UiaWV"
   },
   "source": [
    "#### 14. Create a random vector of size 30 and find the mean value (★☆☆) \n",
    "(**hint**: mean)"
   ]
  },
  {
   "cell_type": "code",
   "execution_count": 36,
   "metadata": {
    "id": "AbGegQDziaWV"
   },
   "outputs": [
    {
     "name": "stdout",
     "output_type": "stream",
     "text": [
      "0.47179369401278787\n"
     ]
    }
   ],
   "source": [
    "x = np.random.random(30)\n",
    "print(x.mean())"
   ]
  },
  {
   "cell_type": "markdown",
   "metadata": {
    "id": "hk8lUoCziaWV"
   },
   "source": [
    "#### 15. Create a 2d array with 1 on the border and 0 inside (★☆☆) \n",
    "(**hint**: array\\[1:-1, 1:-1\\])"
   ]
  },
  {
   "cell_type": "code",
   "execution_count": 74,
   "metadata": {
    "id": "wMcHsMajiaWW"
   },
   "outputs": [
    {
     "name": "stdout",
     "output_type": "stream",
     "text": [
      "[[1. 1. 1. 1.]\n",
      " [1. 0. 0. 1.]\n",
      " [1. 0. 0. 1.]\n",
      " [1. 1. 1. 1.]]\n"
     ]
    }
   ],
   "source": [
    "x = np.ones((4,4))\n",
    "#print(x)\n",
    "x[1:-1,1:-1] = 0\n",
    "print(x)"
   ]
  },
  {
   "cell_type": "markdown",
   "metadata": {
    "id": "WC_FDauriaWW"
   },
   "source": [
    "#### 16. How to add a border (filled with 0's) around an existing array? (★☆☆) \n",
    "(**hint**: np.pad)"
   ]
  },
  {
   "cell_type": "code",
   "execution_count": 55,
   "metadata": {
    "id": "z3oGXGAziaWW"
   },
   "outputs": [
    {
     "name": "stdout",
     "output_type": "stream",
     "text": [
      "[[0 0 0 0 0]\n",
      " [0 0 1 2 0]\n",
      " [0 3 4 5 0]\n",
      " [0 6 7 8 0]\n",
      " [0 0 0 0 0]]\n"
     ]
    }
   ],
   "source": [
    "x = np.arange(9).reshape(3,3)\n",
    "y = np.pad(x, pad_width=1, mode='constant', constant_values=0)\n",
    "print(y)"
   ]
  },
  {
   "cell_type": "markdown",
   "metadata": {
    "id": "gtq7I2HLiaWW"
   },
   "source": [
    "#### 17. What is the result of the following expression? (★☆☆) \n",
    "(**hint**: NaN = not a number, inf = infinity)"
   ]
  },
  {
   "cell_type": "markdown",
   "metadata": {
    "id": "XMGYY8o2iaWX"
   },
   "source": [
    "```python\n",
    "0 * np.nan\n",
    "np.nan == np.nan\n",
    "np.inf > np.nan\n",
    "np.nan - np.nan\n",
    "0.3 == 3 * 0.1\n",
    "```"
   ]
  },
  {
   "cell_type": "markdown",
   "metadata": {
    "id": "B1KPgJADiaWX"
   },
   "source": [
    "nan\n",
    "False\n",
    "False\n",
    "nan\n",
    "False"
   ]
  },
  {
   "cell_type": "markdown",
   "metadata": {
    "id": "1HxAiqk9iaWX"
   },
   "source": [
    "#### 18. Create a 5x5 matrix with values 1,2,3,4 just below the diagonal (★☆☆) \n",
    "(**hint**: np.diag)"
   ]
  },
  {
   "cell_type": "code",
   "execution_count": 83,
   "metadata": {
    "id": "Z3AMnR89iaWY"
   },
   "outputs": [
    {
     "name": "stdout",
     "output_type": "stream",
     "text": [
      "[[0 0 0 0 0]\n",
      " [1 0 0 0 0]\n",
      " [0 2 0 0 0]\n",
      " [0 0 3 0 0]\n",
      " [0 0 0 4 0]]\n"
     ]
    }
   ],
   "source": [
    "x = np.diag([1, 2, 3, 4],k=-1)\n",
    "print(x)"
   ]
  },
  {
   "cell_type": "markdown",
   "metadata": {
    "id": "D-3TGyHIiaWY"
   },
   "source": [
    "#### 19. Create a 8x8 matrix and fill it with a checkerboard pattern (★☆☆) \n",
    "(**hint**: array\\[::2\\])"
   ]
  },
  {
   "cell_type": "code",
   "execution_count": 84,
   "metadata": {
    "id": "e-fKT7wyiaWY"
   },
   "outputs": [
    {
     "name": "stdout",
     "output_type": "stream",
     "text": [
      "[[0 1 0 1 0 1 0 1]\n",
      " [1 0 1 0 1 0 1 0]\n",
      " [0 1 0 1 0 1 0 1]\n",
      " [1 0 1 0 1 0 1 0]\n",
      " [0 1 0 1 0 1 0 1]\n",
      " [1 0 1 0 1 0 1 0]\n",
      " [0 1 0 1 0 1 0 1]\n",
      " [1 0 1 0 1 0 1 0]]\n"
     ]
    }
   ],
   "source": [
    "x = np.ones((8,8),dtype=int)\n",
    "x[::2,::2] = 0\n",
    "x[1::2,1::2] = 0\n",
    "print(x)"
   ]
  },
  {
   "cell_type": "markdown",
   "metadata": {
    "id": "S6FDbLuCiaWZ"
   },
   "source": [
    "#### 20. Consider a (6,7,8) shape array, what is the index (x,y,z) of the 100th element? \n",
    "(**hint**: np.unravel_index)"
   ]
  },
  {
   "cell_type": "code",
   "execution_count": 93,
   "metadata": {
    "id": "-OJlEFg5iaWZ"
   },
   "outputs": [
    {
     "data": {
      "text/plain": [
       "(1, 5, 4)"
      ]
     },
     "execution_count": 93,
     "metadata": {},
     "output_type": "execute_result"
    }
   ],
   "source": [
    "np.unravel_index(100,(6,7,8))"
   ]
  },
  {
   "cell_type": "markdown",
   "metadata": {
    "id": "RWf4NdvDiaWZ"
   },
   "source": [
    "#### 21. Create a checkerboard 8x8 matrix using the tile function (★☆☆) \n",
    "(**hint**: np.tile)"
   ]
  },
  {
   "cell_type": "code",
   "execution_count": 103,
   "metadata": {
    "id": "vwSD7PRqiaWa"
   },
   "outputs": [
    {
     "name": "stdout",
     "output_type": "stream",
     "text": [
      "[[1 0 1 0 1 0 1 0]\n",
      " [0 1 0 1 0 1 0 1]\n",
      " [1 0 1 0 1 0 1 0]\n",
      " [0 1 0 1 0 1 0 1]\n",
      " [1 0 1 0 1 0 1 0]\n",
      " [0 1 0 1 0 1 0 1]\n",
      " [1 0 1 0 1 0 1 0]\n",
      " [0 1 0 1 0 1 0 1]]\n"
     ]
    }
   ],
   "source": [
    "x = np.array([[1,0],[0,1]])\n",
    "print(np.tile(x,(4,4)))"
   ]
  },
  {
   "cell_type": "markdown",
   "metadata": {
    "id": "VDMwhUUfiaWa"
   },
   "source": [
    "#### 22. Normalize a 5x5 random matrix (★☆☆) \n",
    "(**hint**: (x - min) / (max - min))"
   ]
  },
  {
   "cell_type": "code",
   "execution_count": 108,
   "metadata": {
    "id": "UkTL6u_XiaWa"
   },
   "outputs": [
    {
     "name": "stdout",
     "output_type": "stream",
     "text": [
      "[[0.09943193 0.50473966 0.54623588 0.17485764 0.44231824]\n",
      " [0.16165059 0.19913205 0.8741038  0.84689043 0.84289976]\n",
      " [0.19892512 1.         0.50159525 0.08693358 0.78627662]\n",
      " [0.3706214  0.57927311 0.23732418 0.93268703 0.62870762]\n",
      " [0.34703828 0.         0.75092086 0.35711392 0.2223225 ]]\n"
     ]
    }
   ],
   "source": [
    "x = np.random.random((5,5))\n",
    "y = (x-x.min())/(x.max() - x.min())\n",
    "print(y)"
   ]
  },
  {
   "cell_type": "markdown",
   "metadata": {
    "id": "9qiiTZRCiaWa"
   },
   "source": [
    "#### 23. Create a custom dtype that describes a color as four unsigned bytes (RGBA) (★☆☆) \n",
    "(**hint**: np.dtype)"
   ]
  },
  {
   "cell_type": "code",
   "execution_count": 112,
   "metadata": {
    "id": "ATVt-IfdiaWb"
   },
   "outputs": [
    {
     "name": "stdout",
     "output_type": "stream",
     "text": [
      "[('r', 'u1'), ('g', 'u1'), ('b', 'u1'), ('a', 'u1')]\n"
     ]
    }
   ],
   "source": [
    "color = np.dtype([(\"r\", np.ubyte, 1),\n",
    "                  (\"g\", np.ubyte, 1),\n",
    "                  (\"b\", np.ubyte, 1),\n",
    "                  (\"a\", np.ubyte, 1)])"
   ]
  },
  {
   "cell_type": "markdown",
   "metadata": {
    "id": "ZXNQRXVsiaWb"
   },
   "source": [
    "#### 24. Multiply a 5x3 matrix by a 3x2 matrix (real matrix product) (★☆☆) \n",
    "(**hint**: np.dot | @)"
   ]
  },
  {
   "cell_type": "code",
   "execution_count": 116,
   "metadata": {
    "id": "wZvuqNvAiaWb"
   },
   "outputs": [
    {
     "name": "stdout",
     "output_type": "stream",
     "text": [
      "[[3. 3.]\n",
      " [3. 3.]\n",
      " [3. 3.]\n",
      " [3. 3.]\n",
      " [3. 3.]]\n"
     ]
    }
   ],
   "source": [
    "x = np.dot(np.ones((5,3)),np.ones((3,2)))\n",
    "print(x)\n",
    "\n",
    "y = np.ones((5,3)) @ np.ones((3,2))\n",
    "print(y)"
   ]
  },
  {
   "cell_type": "markdown",
   "metadata": {
    "id": "-BRg86SViaWb"
   },
   "source": [
    "#### 25. Given a 1D array, negate all elements which are between 3 and 8, in place. (★☆☆) \n",
    "(**hint**: >, <=)"
   ]
  },
  {
   "cell_type": "code",
   "execution_count": 119,
   "metadata": {
    "id": "PVdxgwCdiaWc"
   },
   "outputs": [
    {
     "name": "stdout",
     "output_type": "stream",
     "text": [
      "[ 0  1  2  3 -4 -5 -6 -7 -8  9]\n"
     ]
    }
   ],
   "source": [
    "x = np.arange(10)\n",
    "x[(3 < x) & (x <= 8)] *= -1\n",
    "print(x)"
   ]
  },
  {
   "cell_type": "markdown",
   "metadata": {
    "id": "JHFJA9AqiaWc"
   },
   "source": [
    "#### 26. What is the output of the following script? (★☆☆) \n",
    "(**hint**: np.sum)"
   ]
  },
  {
   "cell_type": "markdown",
   "metadata": {
    "id": "QY1qbN6viaWc"
   },
   "source": [
    "```python\n",
    "# Author: Jake VanderPlas\n",
    "\n",
    "print(sum(range(5),-1))\n",
    "from numpy import *\n",
    "print(sum(range(5),-1))\n",
    "```"
   ]
  },
  {
   "cell_type": "code",
   "execution_count": 120,
   "metadata": {
    "id": "Fj9SinMTiaWc"
   },
   "outputs": [
    {
     "name": "stdout",
     "output_type": "stream",
     "text": [
      "9\n",
      "10\n"
     ]
    }
   ],
   "source": [
    "print(sum(range(5),-1))\n",
    "\n",
    "#numpy.sum considers -1 as axis,thats why no change has been reflected in the sum\n",
    "from numpy import *\n",
    "print(sum(range(5),-1))"
   ]
  },
  {
   "cell_type": "markdown",
   "metadata": {
    "id": "aWpqYBvLiaWd"
   },
   "source": [
    "#### 27. Consider an integer vector Z, which of these expressions are legal? (★☆☆)"
   ]
  },
  {
   "cell_type": "markdown",
   "metadata": {
    "id": "OZxTojt8iaWd"
   },
   "source": [
    "```python\n",
    "Z**Z\n",
    "2 << Z >> 2\n",
    "Z <- Z\n",
    "1j*Z\n",
    "Z/1/1\n",
    "Z<Z>Z\n",
    "```"
   ]
  },
  {
   "cell_type": "code",
   "execution_count": 134,
   "metadata": {
    "id": "-MQ7UtuhiaWd"
   },
   "outputs": [
    {
     "name": "stdout",
     "output_type": "stream",
     "text": [
      "[1]\n"
     ]
    },
    {
     "data": {
      "text/plain": [
       "array([False])"
      ]
     },
     "execution_count": 134,
     "metadata": {},
     "output_type": "execute_result"
    }
   ],
   "source": [
    "Z=np.array([1])\n",
    "print(Z)\n",
    "\n"
   ]
  },
  {
   "cell_type": "markdown",
   "metadata": {
    "id": "X2Q3d0kniaWe"
   },
   "source": [
    "#### 28. What are the result of the following expressions?"
   ]
  },
  {
   "cell_type": "markdown",
   "metadata": {
    "id": "Ny7c89q6iaWe"
   },
   "source": [
    "```python\n",
    "np.array(0) / np.array(0)\n",
    "np.array(0) // np.array(0)\n",
    "np.array([np.nan]).astype(int).astype(float)\n",
    "```"
   ]
  },
  {
   "cell_type": "code",
   "execution_count": 140,
   "metadata": {
    "id": "dNARj8QTiaWe"
   },
   "outputs": [
    {
     "name": "stdout",
     "output_type": "stream",
     "text": [
      "nan\n",
      "0\n",
      "[-2.14748365e+09]\n"
     ]
    },
    {
     "name": "stderr",
     "output_type": "stream",
     "text": [
      "C:\\Anaconda\\lib\\site-packages\\ipykernel_launcher.py:1: RuntimeWarning: invalid value encountered in true_divide\n",
      "  \"\"\"Entry point for launching an IPython kernel.\n",
      "C:\\Anaconda\\lib\\site-packages\\ipykernel_launcher.py:2: RuntimeWarning: divide by zero encountered in floor_divide\n",
      "  \n"
     ]
    }
   ],
   "source": [
    "print(np.array(0) / np.array(0))\n",
    "print(np.array(0) // np.array(0))\n",
    "print(np.array([np.nan]).astype(int).astype(float))"
   ]
  },
  {
   "cell_type": "markdown",
   "metadata": {
    "id": "BQH2acmZiaWe"
   },
   "source": [
    "#### 29. How to round away from zero a float array ? (★☆☆) \n",
    "(**hint**: np.uniform, np.copysign, np.ceil, np.abs)"
   ]
  },
  {
   "cell_type": "code",
   "execution_count": 145,
   "metadata": {
    "id": "u6m7wHKaiaWf"
   },
   "outputs": [
    {
     "name": "stdout",
     "output_type": "stream",
     "text": [
      "[ 41.93855755  37.52195872  21.35971536 -22.75266516  47.87510601]\n",
      "[ 42.  38.  22. -23.  48.]\n"
     ]
    }
   ],
   "source": [
    "x = np.random.uniform(-50,+50,5)\n",
    "y = np.copysign(np.ceil(np.abs(x)),x)\n",
    "print(x)\n",
    "print(y)\n",
    "\n",
    "#x2=np.abs(x)\n",
    "#print(x2)\n",
    "#x3=np.ceil(x2)\n",
    "#print(x3)\n",
    "#x4=np.copysign(x3,x)\n",
    "#print(x4)"
   ]
  },
  {
   "cell_type": "markdown",
   "metadata": {
    "id": "MRWRDxrziaWf"
   },
   "source": [
    "#### 30. How to find common values between two arrays? (★☆☆) \n",
    "(**hint**: np.intersect1d)"
   ]
  },
  {
   "cell_type": "code",
   "execution_count": 146,
   "metadata": {
    "id": "jXoufNUiiaWf"
   },
   "outputs": [
    {
     "name": "stdout",
     "output_type": "stream",
     "text": [
      "[2 4 7]\n"
     ]
    }
   ],
   "source": [
    "x = np.array([1,2,4,6,7])\n",
    "y = np.array([2,3,8,4,7,0])\n",
    "print(np.intersect1d(x,y))"
   ]
  },
  {
   "cell_type": "markdown",
   "metadata": {
    "id": "wGUL1fUxiaWf"
   },
   "source": [
    "#### 31. How to ignore all numpy warnings (not recommended)? (★☆☆) \n",
    "(**hint**: np.seterr, np.errstate)"
   ]
  },
  {
   "cell_type": "code",
   "execution_count": 154,
   "metadata": {
    "id": "hSkfk2_jiaWg"
   },
   "outputs": [],
   "source": [
    "# Suicide mode on\n",
    "defaults = np.seterr(all=\"ignore\")\n",
    "Z = np.ones(1) / 0\n",
    "\n",
    "# Back to sanity\n",
    "_ = np.seterr(**defaults)\n",
    "\n",
    "#An equivalent way, with a context manager:\n",
    "with np.errstate(divide='ignore'):\n",
    "    Z = np.ones(1) / 0"
   ]
  },
  {
   "cell_type": "markdown",
   "metadata": {
    "id": "mNKt0hgxiaWg"
   },
   "source": [
    "#### 32. Is the following expressions true? (★☆☆) \n",
    "(**hint**: imaginary number)"
   ]
  },
  {
   "cell_type": "markdown",
   "metadata": {
    "id": "XCfoD2OviaWg"
   },
   "source": [
    "```python\n",
    "np.sqrt(-1) == np.emath.sqrt(-1)\n",
    "```"
   ]
  },
  {
   "cell_type": "code",
   "execution_count": 155,
   "metadata": {
    "id": "jLCtRpONiaWg"
   },
   "outputs": [
    {
     "data": {
      "text/plain": [
       "False"
      ]
     },
     "execution_count": 155,
     "metadata": {},
     "output_type": "execute_result"
    }
   ],
   "source": [
    "np.sqrt(-1) == np.emath.sqrt(-1)"
   ]
  },
  {
   "cell_type": "markdown",
   "metadata": {
    "id": "q6N7CNeQiaWg"
   },
   "source": [
    "#### 33. How to get the dates of yesterday, today and tomorrow? (★☆☆) \n",
    "(**hint**: np.datetime64, np.timedelta64)"
   ]
  },
  {
   "cell_type": "code",
   "execution_count": 159,
   "metadata": {
    "id": "HPlP48CXiaWh"
   },
   "outputs": [
    {
     "name": "stdout",
     "output_type": "stream",
     "text": [
      "2022-02-07\n",
      "2022-02-08\n",
      "2022-02-09\n"
     ]
    }
   ],
   "source": [
    "yest = np.datetime64(\"today\",\"D\") - np.timedelta64(1,\"D\")\n",
    "today = np.datetime64(\"today\",\"D\")\n",
    "tomorrow = np.datetime64(\"today\",\"D\") + np.timedelta64(1,\"D\")\n",
    "print(yest)\n",
    "print(today)\n",
    "print(tomorrow)"
   ]
  },
  {
   "cell_type": "markdown",
   "metadata": {
    "id": "bGQgkbCyiaWh"
   },
   "source": [
    "#### 34. How to get all the dates corresponding to the month of July 2016? (★★☆) \n",
    "(**hint**: np.arange(dtype=datetime64\\['D'\\]))"
   ]
  },
  {
   "cell_type": "code",
   "execution_count": 171,
   "metadata": {
    "id": "-iYou9p5iaWh"
   },
   "outputs": [
    {
     "name": "stdout",
     "output_type": "stream",
     "text": [
      "['2016-07-01' '2016-07-02' '2016-07-03' '2016-07-04' '2016-07-05'\n",
      " '2016-07-06' '2016-07-07' '2016-07-08' '2016-07-09' '2016-07-10'\n",
      " '2016-07-11' '2016-07-12' '2016-07-13' '2016-07-14' '2016-07-15'\n",
      " '2016-07-16' '2016-07-17' '2016-07-18' '2016-07-19' '2016-07-20'\n",
      " '2016-07-21' '2016-07-22' '2016-07-23' '2016-07-24' '2016-07-25'\n",
      " '2016-07-26' '2016-07-27' '2016-07-28' '2016-07-29' '2016-07-30'\n",
      " '2016-07-31']\n"
     ]
    }
   ],
   "source": [
    "x = np.arange(\"2016-07\",\"2016-08\", dtype=\"datetime64[D]\")\n",
    "print(x)"
   ]
  },
  {
   "cell_type": "markdown",
   "metadata": {
    "id": "499Sjd0hiaWh"
   },
   "source": [
    "#### 35. How to compute ((A+B)\\*(-A/2)) in place (without copy)? (★★☆) \n",
    "(**hint**: np.add(out=), np.negative(out=), np.multiply(out=), np.divide(out=))"
   ]
  },
  {
   "cell_type": "code",
   "execution_count": 183,
   "metadata": {
    "id": "q_ZlOmCviaWi"
   },
   "outputs": [
    {
     "data": {
      "text/plain": [
       "array([-0., -3., -8.])"
      ]
     },
     "execution_count": 183,
     "metadata": {},
     "output_type": "execute_result"
    }
   ],
   "source": [
    "A = np.arange(3.0)\n",
    "B = np.arange(4.0,7.0)\n",
    "\n",
    "np.add(A,B,out = B)\n",
    "\n",
    "np.divide(A,2,out=A)\n",
    "\n",
    "np.negative(A,out =A)\n",
    "\n",
    "np.multiply(A,B,out=A)"
   ]
  },
  {
   "cell_type": "markdown",
   "metadata": {
    "id": "REBNQ2ZeiaWi"
   },
   "source": [
    "#### 36. Extract the integer part of a random array using 5 different methods (★★☆) \n",
    "(**hint**: %, np.floor, np.ceil, astype, np.trunc)"
   ]
  },
  {
   "cell_type": "code",
   "execution_count": 198,
   "metadata": {
    "id": "m7dH7dATiaWi"
   },
   "outputs": [
    {
     "name": "stdout",
     "output_type": "stream",
     "text": [
      "[2. 4. 1. 0. 4.]\n",
      "[2. 4. 1. 0. 4.]\n",
      "[2. 4. 1. 0. 4.]\n",
      "[2 4 1 0 4]\n",
      "[2. 4. 1. 0. 4.]\n"
     ]
    }
   ],
   "source": [
    "x = np.random.uniform(0,5,5)\n",
    "print(x-x%1)\n",
    "print(np.floor(x))\n",
    "print(np.ceil(x)-1)\n",
    "print(x.astype(\"int64\"))\n",
    "print(np.trunc(x))"
   ]
  },
  {
   "cell_type": "markdown",
   "metadata": {
    "id": "8KUBVNzCiaWi"
   },
   "source": [
    "#### 37. Create a 5x5 matrix with row values ranging from 0 to 4 (★★☆) \n",
    "(**hint**: np.arange)"
   ]
  },
  {
   "cell_type": "code",
   "execution_count": 210,
   "metadata": {
    "id": "drTZSDi4iaWi"
   },
   "outputs": [
    {
     "name": "stdout",
     "output_type": "stream",
     "text": [
      "[[0. 1. 2. 3. 4.]\n",
      " [0. 1. 2. 3. 4.]\n",
      " [0. 1. 2. 3. 4.]\n",
      " [0. 1. 2. 3. 4.]\n",
      " [0. 1. 2. 3. 4.]]\n",
      "[[0. 1. 2. 3. 4.]\n",
      " [0. 1. 2. 3. 4.]\n",
      " [0. 1. 2. 3. 4.]\n",
      " [0. 1. 2. 3. 4.]\n",
      " [0. 1. 2. 3. 4.]]\n",
      "[[0. 1. 2. 3. 4.]\n",
      " [0. 1. 2. 3. 4.]\n",
      " [0. 1. 2. 3. 4.]\n",
      " [0. 1. 2. 3. 4.]\n",
      " [0. 1. 2. 3. 4.]]\n"
     ]
    }
   ],
   "source": [
    "#method1\n",
    "x = np.ones((5,5))\n",
    "y = np.multiply(np.arange(0,5),x)\n",
    "\n",
    "#method2\n",
    "x *= np.arange(5)\n",
    "\n",
    "print(x)\n",
    "print(y)\n",
    "\n",
    "#method3\n",
    "z = np.zeros((5,5))\n",
    "z += np.arange(5)\n",
    "print(z)"
   ]
  },
  {
   "cell_type": "markdown",
   "metadata": {
    "id": "Jd2sKUxfiaWj"
   },
   "source": [
    "#### 38. Consider a generator function that generates 10 integers and use it to build an array (★☆☆) \n",
    "(**hint**: np.fromiter)"
   ]
  },
  {
   "cell_type": "code",
   "execution_count": 211,
   "metadata": {
    "id": "i1tb_j6XiaWj"
   },
   "outputs": [
    {
     "name": "stdout",
     "output_type": "stream",
     "text": [
      "[0 1 2 3 4 5 6 7 8 9]\n"
     ]
    }
   ],
   "source": [
    "def generate():\n",
    "    for x in range(10):\n",
    "        yield x\n",
    "print(np.fromiter(generate(),int,count=-1))"
   ]
  },
  {
   "cell_type": "markdown",
   "metadata": {
    "id": "jba-I_TziaWj"
   },
   "source": [
    "#### 39. Create a vector of size 10 with values ranging from 0 to 1, both excluded (★★☆) \n",
    "(**hint**: np.linspace)"
   ]
  },
  {
   "cell_type": "code",
   "execution_count": 220,
   "metadata": {
    "id": "dc5uMbrBiaWj"
   },
   "outputs": [
    {
     "name": "stdout",
     "output_type": "stream",
     "text": [
      "[0.09090909 0.18181818 0.27272727 0.36363636 0.45454545 0.54545455\n",
      " 0.63636364 0.72727273 0.81818182 0.90909091]\n"
     ]
    }
   ],
   "source": [
    "x=np.linspace(0,1,num = 11,endpoint = False)[1:]\n",
    "print(x)"
   ]
  },
  {
   "cell_type": "markdown",
   "metadata": {
    "id": "khmumEcXiaWk"
   },
   "source": [
    "#### 40. Create a random vector of size 10 and sort it (★★☆) \n",
    "(**hint**: sort)"
   ]
  },
  {
   "cell_type": "code",
   "execution_count": 222,
   "metadata": {
    "id": "nJ9mx3M0iaWk"
   },
   "outputs": [
    {
     "name": "stdout",
     "output_type": "stream",
     "text": [
      "[0.04743219 0.30884768 0.38585539 0.40602417 0.47337216 0.52309355\n",
      " 0.53120829 0.78406038 0.81958784 0.89383919]\n"
     ]
    }
   ],
   "source": [
    "x = np.random.random(10)\n",
    "x.sort()\n",
    "print(x)"
   ]
  },
  {
   "cell_type": "markdown",
   "metadata": {
    "id": "2Q29DiteiaWk"
   },
   "source": [
    "#### 41. How to sum a small array faster than np.sum? (★★☆) \n",
    "(**hint**: np.add.reduce)"
   ]
  },
  {
   "cell_type": "code",
   "execution_count": 229,
   "metadata": {
    "id": "lDpC0xETiaWk"
   },
   "outputs": [
    {
     "data": {
      "text/plain": [
       "45"
      ]
     },
     "execution_count": 229,
     "metadata": {},
     "output_type": "execute_result"
    }
   ],
   "source": [
    "x = np.arange(1,10)\n",
    "np.add.reduce(x)"
   ]
  },
  {
   "cell_type": "markdown",
   "metadata": {
    "id": "rsPRQUMWiaWk"
   },
   "source": [
    "#### 42. Consider two random array A and B, check if they are equal (★★☆) \n",
    "(**hint**: np.allclose, np.array\\_equal)"
   ]
  },
  {
   "cell_type": "code",
   "execution_count": 235,
   "metadata": {
    "id": "f9wVho12iaWl"
   },
   "outputs": [
    {
     "name": "stdout",
     "output_type": "stream",
     "text": [
      "[3 6 7 2 2]\n",
      "[5 7 0 4 7]\n",
      "False\n",
      "False\n"
     ]
    }
   ],
   "source": [
    "A = np.random.randint(0,10,5)\n",
    "print(A)\n",
    "B = np.random.randint(0,10,5)\n",
    "print(B)\n",
    "print(np.allclose(A,B))\n",
    "print(np.array_equal(A,B))"
   ]
  },
  {
   "cell_type": "markdown",
   "metadata": {
    "id": "co7KQz2viaWl"
   },
   "source": [
    "#### 43. Make an array immutable (read-only) (★★☆) \n",
    "(**hint**: flags.writeable)"
   ]
  },
  {
   "cell_type": "code",
   "execution_count": 236,
   "metadata": {
    "id": "hSPDRRKTiaWl"
   },
   "outputs": [
    {
     "name": "stdout",
     "output_type": "stream",
     "text": [
      "[0. 0. 0. 0. 0. 0. 0. 0. 0. 0.]\n"
     ]
    },
    {
     "ename": "ValueError",
     "evalue": "assignment destination is read-only",
     "output_type": "error",
     "traceback": [
      "\u001b[1;31m---------------------------------------------------------------------------\u001b[0m",
      "\u001b[1;31mValueError\u001b[0m                                Traceback (most recent call last)",
      "\u001b[1;32m<ipython-input-236-880435c69f1a>\u001b[0m in \u001b[0;36m<module>\u001b[1;34m\u001b[0m\n\u001b[0;32m      2\u001b[0m \u001b[0mprint\u001b[0m\u001b[1;33m(\u001b[0m\u001b[0mx\u001b[0m\u001b[1;33m)\u001b[0m\u001b[1;33m\u001b[0m\u001b[1;33m\u001b[0m\u001b[0m\n\u001b[0;32m      3\u001b[0m \u001b[0mx\u001b[0m\u001b[1;33m.\u001b[0m\u001b[0mflags\u001b[0m\u001b[1;33m.\u001b[0m\u001b[0mwriteable\u001b[0m \u001b[1;33m=\u001b[0m \u001b[1;32mFalse\u001b[0m\u001b[1;33m\u001b[0m\u001b[1;33m\u001b[0m\u001b[0m\n\u001b[1;32m----> 4\u001b[1;33m \u001b[0mx\u001b[0m\u001b[1;33m[\u001b[0m\u001b[1;36m0\u001b[0m\u001b[1;33m]\u001b[0m \u001b[1;33m=\u001b[0m \u001b[1;36m1\u001b[0m\u001b[1;33m\u001b[0m\u001b[1;33m\u001b[0m\u001b[0m\n\u001b[0m",
      "\u001b[1;31mValueError\u001b[0m: assignment destination is read-only"
     ]
    }
   ],
   "source": [
    "x = np.zeros(10)\n",
    "print(x)\n",
    "x.flags.writeable = False\n",
    "x[0] = 1"
   ]
  },
  {
   "cell_type": "markdown",
   "metadata": {
    "id": "XFJzDJFsiaWl"
   },
   "source": [
    "#### 44. Consider a random 10x2 matrix representing cartesian coordinates, convert them to polar coordinates (★★☆) \n",
    "(**hint**: np.sqrt, np.arctan2)"
   ]
  },
  {
   "cell_type": "code",
   "execution_count": 243,
   "metadata": {
    "id": "CffvepQ5iaWm"
   },
   "outputs": [
    {
     "name": "stdout",
     "output_type": "stream",
     "text": [
      "[0.41336337 0.66340031 0.43242507 0.94137802 0.31666477 0.68990494\n",
      " 0.72881597 0.81000922 1.07728026 0.88700757]\n",
      "[0.7217828  0.35609057 0.57401111 0.04653608 1.54059803 1.53375265\n",
      " 0.35894492 0.74945724 0.95591848 1.49729751]\n"
     ]
    }
   ],
   "source": [
    "z = np.random.random((10,2))\n",
    "#print(z)\n",
    "x,y = z[:,0],z[:,1]\n",
    "#print(x,y)\n",
    "sq = np.sqrt(x**2 + y**2)\n",
    "a= np.arctan2(y,x)\n",
    "print(sq)\n",
    "print(a)"
   ]
  },
  {
   "cell_type": "markdown",
   "metadata": {
    "id": "A_45DyQtiaWm"
   },
   "source": [
    "#### 45. Create random vector of size 10 and replace the maximum value by 0 (★★☆) \n",
    "(**hint**: argmax)"
   ]
  },
  {
   "cell_type": "code",
   "execution_count": 247,
   "metadata": {
    "id": "vfixcTEYiaWm"
   },
   "outputs": [
    {
     "name": "stdout",
     "output_type": "stream",
     "text": [
      "[9 8 3 5 8 2 2 6 3 1]\n",
      "[0 8 3 5 8 2 2 6 3 1]\n"
     ]
    }
   ],
   "source": [
    "x = np.random.randint(1,10,10)\n",
    "print(x)\n",
    "x[x.argmax()] = 0\n",
    "print(x)"
   ]
  },
  {
   "cell_type": "markdown",
   "metadata": {
    "id": "V0f-ywOQiaWm"
   },
   "source": [
    "#### 46. Create a structured array with `x` and `y` coordinates covering the \\[0,1\\]x\\[0,1\\] area (★★☆) \n",
    "(**hint**: np.meshgrid)"
   ]
  },
  {
   "cell_type": "code",
   "execution_count": 248,
   "metadata": {
    "id": "rn0zFAMliaWm"
   },
   "outputs": [
    {
     "name": "stdout",
     "output_type": "stream",
     "text": [
      "[[(0., 0.) (0., 0.) (0., 0.) (0., 0.) (0., 0.)]\n",
      " [(0., 0.) (0., 0.) (0., 0.) (0., 0.) (0., 0.)]\n",
      " [(0., 0.) (0., 0.) (0., 0.) (0., 0.) (0., 0.)]\n",
      " [(0., 0.) (0., 0.) (0., 0.) (0., 0.) (0., 0.)]\n",
      " [(0., 0.) (0., 0.) (0., 0.) (0., 0.) (0., 0.)]]\n",
      "[[(0.  , 0.  ) (1.25, 0.  ) (2.5 , 0.  ) (3.75, 0.  ) (5.  , 0.  )]\n",
      " [(0.  , 1.25) (1.25, 1.25) (2.5 , 1.25) (3.75, 1.25) (5.  , 1.25)]\n",
      " [(0.  , 2.5 ) (1.25, 2.5 ) (2.5 , 2.5 ) (3.75, 2.5 ) (5.  , 2.5 )]\n",
      " [(0.  , 3.75) (1.25, 3.75) (2.5 , 3.75) (3.75, 3.75) (5.  , 3.75)]\n",
      " [(0.  , 5.  ) (1.25, 5.  ) (2.5 , 5.  ) (3.75, 5.  ) (5.  , 5.  )]]\n"
     ]
    }
   ],
   "source": [
    "Z = np.zeros((5,5), [('x',float),('y',float)])\n",
    "print(Z)\n",
    "Z['x'], Z['y'] = np.meshgrid(np.linspace(0,5,5), np.linspace(0,5,5))\n",
    "print(Z)"
   ]
  },
  {
   "cell_type": "markdown",
   "metadata": {
    "id": "AejSYFlwiaWn"
   },
   "source": [
    "####  47. Given two arrays, X and Y, construct the Cauchy matrix C (Cij =1/(xi - yj)) \n",
    "(**hint**: np.subtract.outer)"
   ]
  },
  {
   "cell_type": "code",
   "execution_count": 249,
   "metadata": {
    "id": "vzvf2RxtiaWn"
   },
   "outputs": [
    {
     "name": "stdout",
     "output_type": "stream",
     "text": [
      "3638.1636371179666\n"
     ]
    }
   ],
   "source": [
    "X = np.arange(8)\n",
    "Y = X + 0.5\n",
    "C = 1.0 / np.subtract.outer(X, Y)\n",
    "print(np.linalg.det(C))"
   ]
  },
  {
   "cell_type": "markdown",
   "metadata": {
    "id": "9KBuNDYjiaWn"
   },
   "source": [
    "#### 48. Print the minimum and maximum representable value for each numpy scalar type (★★☆) \n",
    "(**hint**: np.iinfo, np.finfo, eps)"
   ]
  },
  {
   "cell_type": "code",
   "execution_count": 250,
   "metadata": {
    "id": "6W6lhoimiaWn"
   },
   "outputs": [
    {
     "name": "stdout",
     "output_type": "stream",
     "text": [
      "-128\n",
      "127\n",
      "-2147483648\n",
      "2147483647\n",
      "-9223372036854775808\n",
      "9223372036854775807\n",
      "-3.4028235e+38\n",
      "3.4028235e+38\n",
      "1.1920929e-07\n",
      "-1.7976931348623157e+308\n",
      "1.7976931348623157e+308\n",
      "2.220446049250313e-16\n"
     ]
    }
   ],
   "source": [
    "#for integer types\n",
    "for dtype in [np.int8, np.int32, np.int64]:\n",
    "    print(np.iinfo(dtype).min)\n",
    "    print(np.iinfo(dtype).max)\n",
    "    \n",
    "#for float types\n",
    "for dtype in [np.float32, np.float64]:\n",
    "    print(np.finfo(dtype).min)\n",
    "    print(np.finfo(dtype).max)\n",
    "    print(np.finfo(dtype).eps)"
   ]
  },
  {
   "cell_type": "markdown",
   "metadata": {
    "id": "rvkuae-9iaWo"
   },
   "source": [
    "#### 49. How to print all the values of an array? (★★☆) \n",
    "(**hint**: np.set\\_printoptions)"
   ]
  },
  {
   "cell_type": "code",
   "execution_count": 251,
   "metadata": {
    "id": "U6Z3eZTOiaWo"
   },
   "outputs": [
    {
     "name": "stdout",
     "output_type": "stream",
     "text": [
      "[[0. 0. 0. 0. 0. 0. 0. 0. 0. 0. 0. 0. 0. 0. 0. 0. 0. 0. 0. 0.]\n",
      " [0. 0. 0. 0. 0. 0. 0. 0. 0. 0. 0. 0. 0. 0. 0. 0. 0. 0. 0. 0.]\n",
      " [0. 0. 0. 0. 0. 0. 0. 0. 0. 0. 0. 0. 0. 0. 0. 0. 0. 0. 0. 0.]\n",
      " [0. 0. 0. 0. 0. 0. 0. 0. 0. 0. 0. 0. 0. 0. 0. 0. 0. 0. 0. 0.]\n",
      " [0. 0. 0. 0. 0. 0. 0. 0. 0. 0. 0. 0. 0. 0. 0. 0. 0. 0. 0. 0.]\n",
      " [0. 0. 0. 0. 0. 0. 0. 0. 0. 0. 0. 0. 0. 0. 0. 0. 0. 0. 0. 0.]\n",
      " [0. 0. 0. 0. 0. 0. 0. 0. 0. 0. 0. 0. 0. 0. 0. 0. 0. 0. 0. 0.]\n",
      " [0. 0. 0. 0. 0. 0. 0. 0. 0. 0. 0. 0. 0. 0. 0. 0. 0. 0. 0. 0.]\n",
      " [0. 0. 0. 0. 0. 0. 0. 0. 0. 0. 0. 0. 0. 0. 0. 0. 0. 0. 0. 0.]\n",
      " [0. 0. 0. 0. 0. 0. 0. 0. 0. 0. 0. 0. 0. 0. 0. 0. 0. 0. 0. 0.]\n",
      " [0. 0. 0. 0. 0. 0. 0. 0. 0. 0. 0. 0. 0. 0. 0. 0. 0. 0. 0. 0.]\n",
      " [0. 0. 0. 0. 0. 0. 0. 0. 0. 0. 0. 0. 0. 0. 0. 0. 0. 0. 0. 0.]\n",
      " [0. 0. 0. 0. 0. 0. 0. 0. 0. 0. 0. 0. 0. 0. 0. 0. 0. 0. 0. 0.]\n",
      " [0. 0. 0. 0. 0. 0. 0. 0. 0. 0. 0. 0. 0. 0. 0. 0. 0. 0. 0. 0.]\n",
      " [0. 0. 0. 0. 0. 0. 0. 0. 0. 0. 0. 0. 0. 0. 0. 0. 0. 0. 0. 0.]\n",
      " [0. 0. 0. 0. 0. 0. 0. 0. 0. 0. 0. 0. 0. 0. 0. 0. 0. 0. 0. 0.]\n",
      " [0. 0. 0. 0. 0. 0. 0. 0. 0. 0. 0. 0. 0. 0. 0. 0. 0. 0. 0. 0.]\n",
      " [0. 0. 0. 0. 0. 0. 0. 0. 0. 0. 0. 0. 0. 0. 0. 0. 0. 0. 0. 0.]\n",
      " [0. 0. 0. 0. 0. 0. 0. 0. 0. 0. 0. 0. 0. 0. 0. 0. 0. 0. 0. 0.]\n",
      " [0. 0. 0. 0. 0. 0. 0. 0. 0. 0. 0. 0. 0. 0. 0. 0. 0. 0. 0. 0.]]\n"
     ]
    }
   ],
   "source": [
    "np.set_printoptions(threshold=np.inf)\n",
    "x = np.zeros((20,20))\n",
    "print(x)"
   ]
  },
  {
   "cell_type": "markdown",
   "metadata": {
    "id": "-8luA1rYiaWo"
   },
   "source": [
    "#### 50. How to find the closest value (to a given scalar) in a vector? (★★☆) \n",
    "(**hint**: argmin)"
   ]
  },
  {
   "cell_type": "code",
   "execution_count": 252,
   "metadata": {
    "id": "G6vP8bcuiaWo"
   },
   "outputs": [
    {
     "name": "stdout",
     "output_type": "stream",
     "text": [
      "76\n"
     ]
    }
   ],
   "source": [
    "x = np.arange(100)\n",
    "y = np.random.uniform(0,100)\n",
    "index = (np.abs(x-y)).argmin()\n",
    "print(x[index])"
   ]
  },
  {
   "cell_type": "markdown",
   "metadata": {
    "id": "s9DD7SEsiaWo"
   },
   "source": [
    "#### 51. Create a structured array representing a position (x,y) and a color (r,g,b) (★★☆) \n",
    "(**hint**: dtype)"
   ]
  },
  {
   "cell_type": "code",
   "execution_count": 253,
   "metadata": {
    "id": "vYqoZ7uLiaWp"
   },
   "outputs": [
    {
     "name": "stdout",
     "output_type": "stream",
     "text": [
      "[((1., 1.), (1., 1., 1.)) ((1., 1.), (1., 1., 1.))\n",
      " ((1., 1.), (1., 1., 1.)) ((1., 1.), (1., 1., 1.))\n",
      " ((1., 1.), (1., 1., 1.))]\n"
     ]
    }
   ],
   "source": [
    "z = np.ones(5, [ ('position', [ ('x', float, 1),\n",
    "                                  ('y', float, 1)]),\n",
    "                   ('color',    [ ('r', float, 1),\n",
    "                                  ('g', float, 1),\n",
    "                                  ('b', float, 1)])])\n",
    "print(z)"
   ]
  },
  {
   "cell_type": "markdown",
   "metadata": {
    "id": "VgukrSB8iaWp"
   },
   "source": [
    "#### 52. Consider a random vector with shape (100,2) representing coordinates, find point by point distances (★★☆) \n",
    "(**hint**: np.atleast\\_2d, T, np.sqrt)"
   ]
  },
  {
   "cell_type": "code",
   "execution_count": 255,
   "metadata": {
    "id": "3OCclo2SiaWp"
   },
   "outputs": [
    {
     "name": "stdout",
     "output_type": "stream",
     "text": [
      "[[0.20784734 0.95390164]\n",
      " [0.02076623 0.50338584]\n",
      " [0.54001611 0.66051068]\n",
      " [0.10967249 0.5287809 ]\n",
      " [0.43669868 0.93036373]\n",
      " [0.28843554 0.86266411]\n",
      " [0.05545267 0.86268103]\n",
      " [0.23408739 0.63298929]\n",
      " [0.3419182  0.88583703]\n",
      " [0.62275604 0.5685982 ]]\n",
      "[[0.         0.48781536 0.44318658 0.43630946 0.23005861 0.12173226\n",
      "  0.17761007 0.32198335 0.15035885 0.56622254]\n",
      " [0.48781536 0.         0.54250222 0.09246205 0.59607879 0.44802649\n",
      "  0.36096562 0.24960564 0.49940715 0.60551167]\n",
      " [0.44318658 0.54250222 0.         0.45005375 0.28895529 0.32273642\n",
      "  0.52504722 0.30716414 0.30002458 0.12366811]\n",
      " [0.43630946 0.09246205 0.45005375 0.         0.51789468 0.37872711\n",
      "  0.33827368 0.16229127 0.42594266 0.51462622]\n",
      " [0.23005861 0.59607879 0.28895529 0.51789468 0.         0.16298834\n",
      "  0.38720726 0.35983731 0.10471851 0.40680664]\n",
      " [0.12173226 0.44802649 0.32273642 0.37872711 0.16298834 0.\n",
      "  0.23298287 0.23601746 0.05828704 0.44524708]\n",
      " [0.17761007 0.36096562 0.52504722 0.33827368 0.38720726 0.23298287\n",
      "  0.         0.2909788  0.28739989 0.63899752]\n",
      " [0.32198335 0.24960564 0.30716414 0.16229127 0.35983731 0.23601746\n",
      "  0.2909788  0.         0.27488081 0.3939664 ]\n",
      " [0.15035885 0.49940715 0.30002458 0.42594266 0.10471851 0.05828704\n",
      "  0.28739989 0.27488081 0.         0.42368664]\n",
      " [0.56622254 0.60551167 0.12366811 0.51462622 0.40680664 0.44524708\n",
      "  0.63899752 0.3939664  0.42368664 0.        ]]\n"
     ]
    }
   ],
   "source": [
    "Z = np.random.random((10,2))\n",
    "print(Z)\n",
    "X,Y = np.atleast_2d(Z[:,0],Z[:,1])\n",
    "A = np.sqrt((X-X.T)**2+(Y-Y.T)**2)\n",
    "print(A)"
   ]
  },
  {
   "cell_type": "markdown",
   "metadata": {
    "id": "O4flq8R1iaWq"
   },
   "source": [
    "#### 53. How to convert a float (32 bits) array into an integer (32 bits) in place? \n",
    "(**hint**: astype(copy=False))"
   ]
  },
  {
   "cell_type": "code",
   "execution_count": 256,
   "metadata": {
    "id": "Hfjq9a5-iaWq"
   },
   "outputs": [
    {
     "name": "stdout",
     "output_type": "stream",
     "text": [
      "[0 1 2 3 4 5 6 7 8 9]\n"
     ]
    }
   ],
   "source": [
    "Z = np.arange(10, dtype=np.float32)\n",
    "Z = Z.astype(np.int32, copy=False)\n",
    "print(Z)"
   ]
  },
  {
   "cell_type": "markdown",
   "metadata": {
    "id": "9mg_cqH6iaWq"
   },
   "source": [
    "#### 54. How to read the following file? (★★☆) \n",
    "(**hint**: np.genfromtxt)"
   ]
  },
  {
   "cell_type": "markdown",
   "metadata": {
    "id": "rBlBAxcniaWq"
   },
   "source": [
    "```\n",
    "1, 2, 3, 4, 5\n",
    "6,  ,  , 7, 8\n",
    " ,  , 9,10,11\n",
    "```"
   ]
  },
  {
   "cell_type": "code",
   "execution_count": 260,
   "metadata": {
    "id": "D905ntUWiaWr"
   },
   "outputs": [
    {
     "name": "stdout",
     "output_type": "stream",
     "text": [
      "[[ 1  2  3  4  5]\n",
      " [ 6 -1 -1  7  8]\n",
      " [-1 -1  9 10 11]]\n"
     ]
    }
   ],
   "source": [
    "from io import StringIO\n",
    "s = StringIO(\"\"\"1, 2, 3, 4, 5\\n\n",
    "                6,  ,  , 7, 8\\n\n",
    "                 ,  , 9,10,11\\n\"\"\")\n",
    "Z = np.genfromtxt(s, delimiter=\",\", dtype=np.int)\n",
    "print(Z)"
   ]
  },
  {
   "cell_type": "markdown",
   "metadata": {
    "id": "6uh3dlPOiaWr"
   },
   "source": [
    "#### 55. What is the equivalent of enumerate for numpy arrays? (★★☆) \n",
    "(**hint**: np.ndenumerate, np.ndindex)"
   ]
  },
  {
   "cell_type": "code",
   "execution_count": 264,
   "metadata": {
    "id": "ub6vHzCciaWr"
   },
   "outputs": [
    {
     "name": "stdout",
     "output_type": "stream",
     "text": [
      "[[0 1]\n",
      " [2 3]]\n",
      "(0, 0) 0\n",
      "(0, 1) 1\n",
      "(1, 0) 2\n",
      "(1, 1) 3\n",
      "\n",
      "\n",
      "(0, 0) 0\n",
      "(0, 1) 1\n",
      "(1, 0) 2\n",
      "(1, 1) 3\n"
     ]
    }
   ],
   "source": [
    "x = np.arange(4).reshape(2,2)\n",
    "print(x)\n",
    "\n",
    "for ind,ele in np.ndenumerate(x):\n",
    "    print(ind,ele)\n",
    "    \n",
    "print(\"\\n\")\n",
    "    \n",
    "for ind in np.ndindex(np.shape(x)):\n",
    "    print(ind,x[ind])"
   ]
  },
  {
   "cell_type": "markdown",
   "metadata": {
    "id": "ZbTBmPV6iaWr"
   },
   "source": [
    "#### 56. Generate a generic 2D Gaussian-like array (★★☆) \n",
    "(**hint**: np.meshgrid, np.exp)"
   ]
  },
  {
   "cell_type": "code",
   "execution_count": 267,
   "metadata": {
    "id": "9EFW3yY5iaWr"
   },
   "outputs": [
    {
     "name": "stdout",
     "output_type": "stream",
     "text": [
      "[[0.36787944 0.44822088 0.51979489 0.57375342 0.60279818 0.60279818\n",
      "  0.57375342 0.51979489 0.44822088 0.36787944]\n",
      " [0.44822088 0.54610814 0.63331324 0.69905581 0.73444367 0.73444367\n",
      "  0.69905581 0.63331324 0.54610814 0.44822088]\n",
      " [0.51979489 0.63331324 0.73444367 0.81068432 0.85172308 0.85172308\n",
      "  0.81068432 0.73444367 0.63331324 0.51979489]\n",
      " [0.57375342 0.69905581 0.81068432 0.89483932 0.9401382  0.9401382\n",
      "  0.89483932 0.81068432 0.69905581 0.57375342]\n",
      " [0.60279818 0.73444367 0.85172308 0.9401382  0.98773022 0.98773022\n",
      "  0.9401382  0.85172308 0.73444367 0.60279818]\n",
      " [0.60279818 0.73444367 0.85172308 0.9401382  0.98773022 0.98773022\n",
      "  0.9401382  0.85172308 0.73444367 0.60279818]\n",
      " [0.57375342 0.69905581 0.81068432 0.89483932 0.9401382  0.9401382\n",
      "  0.89483932 0.81068432 0.69905581 0.57375342]\n",
      " [0.51979489 0.63331324 0.73444367 0.81068432 0.85172308 0.85172308\n",
      "  0.81068432 0.73444367 0.63331324 0.51979489]\n",
      " [0.44822088 0.54610814 0.63331324 0.69905581 0.73444367 0.73444367\n",
      "  0.69905581 0.63331324 0.54610814 0.44822088]\n",
      " [0.36787944 0.44822088 0.51979489 0.57375342 0.60279818 0.60279818\n",
      "  0.57375342 0.51979489 0.44822088 0.36787944]]\n"
     ]
    }
   ],
   "source": [
    "X, Y = np.meshgrid(np.linspace(-1,1,10), np.linspace(-1,1,10))\n",
    "D = np.sqrt(X*X+Y*Y)\n",
    "sigma, mu = 1.0, 0.0\n",
    "G = np.exp(-((D-mu)**2 / (2.0 * sigma**2)))\n",
    "print(G)"
   ]
  },
  {
   "cell_type": "markdown",
   "metadata": {
    "id": "Ru0_a6bEiaWs"
   },
   "source": [
    "#### 57. How to randomly place p elements in a 2D array? (★★☆) \n",
    "(**hint**: np.put, np.random.choice)"
   ]
  },
  {
   "cell_type": "code",
   "execution_count": 268,
   "metadata": {
    "id": "PT_E3ZRqiaWs"
   },
   "outputs": [
    {
     "name": "stdout",
     "output_type": "stream",
     "text": [
      "[ 5 24 10]\n",
      "[[0. 0. 0. 0. 0.]\n",
      " [5. 0. 0. 0. 0.]\n",
      " [5. 0. 0. 0. 0.]\n",
      " [0. 0. 0. 0. 0.]\n",
      " [0. 0. 0. 0. 5.]]\n"
     ]
    }
   ],
   "source": [
    "n = 5\n",
    "p = 3\n",
    "Z = np.zeros((n,n))\n",
    "\n",
    "a = np.random.choice(range(n*n), p, replace=False)\n",
    "print(a)\n",
    "\n",
    "np.put(Z, a,5)\n",
    "print(Z)"
   ]
  },
  {
   "cell_type": "markdown",
   "metadata": {
    "id": "ua3RYvcviaWs"
   },
   "source": [
    "#### 58. Subtract the mean of each row of a matrix (★★☆) \n",
    "(**hint**: mean(axis=,keepdims=))"
   ]
  },
  {
   "cell_type": "code",
   "execution_count": 269,
   "metadata": {
    "id": "kAIOm_JpiaWs"
   },
   "outputs": [
    {
     "name": "stdout",
     "output_type": "stream",
     "text": [
      "[[-3.80953487e-01  4.74881076e-01 -2.41814774e-01  4.63693232e-01\n",
      "   3.67818861e-01  4.95083793e-01 -2.01852825e-01 -2.57479737e-01\n",
      "  -3.69056581e-01 -3.50319560e-01]\n",
      " [ 2.76182337e-01 -6.19847584e-02 -4.84223587e-01 -4.55919589e-02\n",
      "   1.74933772e-01 -2.10713387e-01  2.52632030e-01  3.27350348e-01\n",
      "  -3.73732301e-01  1.45147505e-01]\n",
      " [ 2.79729565e-01 -5.89570611e-01  3.72897683e-02  8.98154916e-02\n",
      "   1.80365992e-01  3.16583086e-01 -2.17036054e-01  1.57814408e-01\n",
      "  -4.55661880e-01  2.00670233e-01]\n",
      " [-1.50252681e-01  1.02507077e-01  8.80116236e-02 -4.90194080e-01\n",
      "  -3.96580535e-01 -3.21364460e-04  4.72410364e-01 -5.05532315e-01\n",
      "   4.68331938e-01  4.11619972e-01]\n",
      " [-9.43367485e-02 -2.62462700e-01 -4.54049732e-01  3.32994967e-01\n",
      "  -3.00549593e-02 -4.44249824e-01 -7.42888522e-02  2.48400782e-01\n",
      "   3.38882032e-01  4.39165035e-01]]\n"
     ]
    }
   ],
   "source": [
    "X = np.random.rand(5, 10)\n",
    "Y = X - X.mean(axis=1, keepdims=True)\n",
    "print(Y)"
   ]
  },
  {
   "cell_type": "markdown",
   "metadata": {
    "id": "0dPIBD9qiaWt"
   },
   "source": [
    "#### 59. How to sort an array by the nth column? (★★☆) \n",
    "(**hint**: argsort)"
   ]
  },
  {
   "cell_type": "code",
   "execution_count": 270,
   "metadata": {
    "id": "F5IJAvBhiaWt"
   },
   "outputs": [
    {
     "name": "stdout",
     "output_type": "stream",
     "text": [
      "[[7 1 6]\n",
      " [9 2 3]\n",
      " [4 5 8]]\n"
     ]
    }
   ],
   "source": [
    "a = np.array([[9, 2, 3],[4, 5, 8],[7, 1, 6]])\n",
    "b = a[a[:,1].argsort()]\n",
    "print(b)"
   ]
  },
  {
   "cell_type": "markdown",
   "metadata": {
    "id": "IN85F_GpiaWt"
   },
   "source": [
    "#### 60. How to tell if a given 2D array has null columns? (★★☆) \n",
    "(**hint**: any, ~)"
   ]
  },
  {
   "cell_type": "code",
   "execution_count": 271,
   "metadata": {
    "id": "mxS5VTk1iaWt"
   },
   "outputs": [
    {
     "name": "stdout",
     "output_type": "stream",
     "text": [
      "False\n"
     ]
    }
   ],
   "source": [
    "x = np.random.randint(0,3,(5,10))\n",
    "print((~x.any(axis=0)).any())"
   ]
  },
  {
   "cell_type": "markdown",
   "metadata": {
    "id": "zBvZNPZKiaWu"
   },
   "source": [
    "#### 61. Find the nearest value from a given value in an array (★★☆) \n",
    "(**hint**: np.abs, argmin, flat)"
   ]
  },
  {
   "cell_type": "code",
   "execution_count": 272,
   "metadata": {
    "id": "C3aP02cXiaWu"
   },
   "outputs": [
    {
     "name": "stdout",
     "output_type": "stream",
     "text": [
      "[[0.06689216 0.00188643 0.2718363  0.52290873 0.89430332 0.8983449 ]\n",
      " [0.86997206 0.76363877 0.75374959 0.31957032 0.32582433 0.59031859]\n",
      " [0.40244115 0.78742012 0.56840444 0.06050057 0.75505227 0.7437969 ]\n",
      " [0.95446741 0.21720706 0.46417013 0.63733628 0.77470002 0.10831859]\n",
      " [0.20644208 0.85371671 0.34074123 0.86664987 0.02378743 0.06923021]\n",
      " [0.55700579 0.17228299 0.74912948 0.45085302 0.95490704 0.5983738 ]]\n",
      "3\n",
      "0.5229087265509188\n"
     ]
    }
   ],
   "source": [
    "x = np.random.uniform(0,1,(6,6))\n",
    "print(x)\n",
    "y = 0.5\n",
    "k = np.abs(x - y).argmin()\n",
    "print(k)\n",
    "z = x.flat[k]\n",
    "print(z)"
   ]
  },
  {
   "cell_type": "markdown",
   "metadata": {
    "id": "VILwYCpxiaWu"
   },
   "source": [
    "#### 62. Considering two arrays with shape (1,3) and (3,1), how to compute their sum using an iterator? (★★☆) \n",
    "(**hint**: np.nditer)"
   ]
  },
  {
   "cell_type": "code",
   "execution_count": 276,
   "metadata": {
    "id": "w3_8HHEPiaWu"
   },
   "outputs": [
    {
     "name": "stdout",
     "output_type": "stream",
     "text": [
      "[[0]\n",
      " [1]\n",
      " [2]]\n",
      "[[0 1 2]]\n",
      "0\n",
      "1\n",
      "2\n",
      "1\n",
      "2\n",
      "3\n",
      "2\n",
      "3\n",
      "4\n",
      "[[0 1 2]\n",
      " [1 2 3]\n",
      " [2 3 4]]\n"
     ]
    }
   ],
   "source": [
    "A = np.arange(3).reshape(3,1)\n",
    "B = np.arange(3).reshape(1,3)\n",
    "print(A)\n",
    "print(B)\n",
    "it = np.nditer([A,B,None])\n",
    "for x,y,z in it:     \n",
    "    z[...] = x + y\n",
    "    print(z)\n",
    "print(it.operands[2])"
   ]
  },
  {
   "cell_type": "markdown",
   "metadata": {
    "id": "iuSRq9FPiaWu"
   },
   "source": [
    "#### 63. Create an array class that has a name attribute (★★☆) \n",
    "(**hint**: class method)"
   ]
  },
  {
   "cell_type": "code",
   "execution_count": 278,
   "metadata": {
    "id": "hLHOXPOQiaWv"
   },
   "outputs": [
    {
     "name": "stdout",
     "output_type": "stream",
     "text": [
      "method1\n"
     ]
    }
   ],
   "source": [
    "class NamedArray(np.ndarray):\n",
    "    def __new__(cls, array, name=\"no name\"):\n",
    "        obj = np.asarray(array).view(cls)\n",
    "        obj.name = name\n",
    "        return obj\n",
    "    def __array_finalize__(self, obj):\n",
    "        if obj is None: return\n",
    "        self.info = getattr(obj, 'name', \"no name\")\n",
    "\n",
    "Z = NamedArray(np.arange(10), \"method1\")\n",
    "print (Z.name)"
   ]
  },
  {
   "cell_type": "markdown",
   "metadata": {
    "id": "OzctjNrDiaWv"
   },
   "source": [
    "#### 64. Consider a given vector, how to add 1 to each element indexed by a second vector (be careful with repeated indices)? (★★★) \n",
    "(**hint**: np.bincount | np.add.at)"
   ]
  },
  {
   "cell_type": "code",
   "execution_count": 279,
   "metadata": {
    "id": "TfKo5MXEiaWv"
   },
   "outputs": [
    {
     "name": "stdout",
     "output_type": "stream",
     "text": [
      "[6. 5. 3. 7. 4.]\n"
     ]
    }
   ],
   "source": [
    "Z = np.ones(5)\n",
    "I = np.random.randint(0,len(Z),20)\n",
    "Z += np.bincount(I, minlength=len(Z))\n",
    "print(Z)\n",
    "\n",
    "#np.add.at(Z, I, 1)\n",
    "#print(Z)"
   ]
  },
  {
   "cell_type": "markdown",
   "metadata": {
    "id": "F7e9af0IiaWv"
   },
   "source": [
    "#### 65. How to accumulate elements of a vector (X) to an array (F) based on an index list (I)? (★★★) \n",
    "(**hint**: np.bincount)"
   ]
  },
  {
   "cell_type": "code",
   "execution_count": 280,
   "metadata": {
    "id": "XqCqKp6miaWw"
   },
   "outputs": [
    {
     "name": "stdout",
     "output_type": "stream",
     "text": [
      "[0. 7. 0. 6. 5. 0. 0. 0. 0. 3.]\n"
     ]
    }
   ],
   "source": [
    "#I is index,X is weights of bincount\n",
    "X = [1,2,3,4,5,6]\n",
    "I = [1,3,9,3,4,1]\n",
    "F = np.bincount(I,X)\n",
    "print(F)"
   ]
  },
  {
   "cell_type": "markdown",
   "metadata": {
    "id": "q-4ZV_afiaWw"
   },
   "source": [
    "#### 66. Considering a (w,h,3) image of (dtype=ubyte), compute the number of unique colors (★★★) \n",
    "(**hint**: np.unique)"
   ]
  },
  {
   "cell_type": "code",
   "execution_count": 281,
   "metadata": {
    "id": "U0OVvGJDiaWw"
   },
   "outputs": [
    {
     "name": "stdout",
     "output_type": "stream",
     "text": [
      "8\n"
     ]
    }
   ],
   "source": [
    "w,h = 16,16\n",
    "I = np.random.randint(0,2,(h,w,3)).astype(np.ubyte)\n",
    "F = I[...,0]*(256*256) + I[...,1]*256 +I[...,2]\n",
    "n = len(np.unique(F))\n",
    "print(n)"
   ]
  },
  {
   "cell_type": "markdown",
   "metadata": {
    "id": "nCvImJHDiaWw"
   },
   "source": [
    "#### 67. Considering a four dimensions array, how to get sum over the last two axis at once? (★★★) \n",
    "(**hint**: sum(axis=(-2,-1)))"
   ]
  },
  {
   "cell_type": "code",
   "execution_count": 282,
   "metadata": {
    "id": "rI8R-T2diaWx"
   },
   "outputs": [
    {
     "name": "stdout",
     "output_type": "stream",
     "text": [
      "[[57 36 56 65]\n",
      " [58 75 51 49]\n",
      " [74 39 62 52]]\n"
     ]
    }
   ],
   "source": [
    "A = np.random.randint(0,10,(3,4,3,4))\n",
    "sum = A.sum(axis=(-2,-1))\n",
    "print(sum)"
   ]
  },
  {
   "cell_type": "markdown",
   "metadata": {
    "id": "tdn2bWPQiaWx"
   },
   "source": [
    "#### 68. Considering a one-dimensional vector D, how to compute means of subsets of D using a vector S of same size describing subset  indices? (★★★) \n",
    "(**hint**: np.bincount)"
   ]
  },
  {
   "cell_type": "code",
   "execution_count": 283,
   "metadata": {
    "id": "HVCdJQ2jiaWy"
   },
   "outputs": [
    {
     "name": "stdout",
     "output_type": "stream",
     "text": [
      "[0.60080779 0.49896844 0.56062503 0.37547576 0.42701681 0.57137003\n",
      " 0.47290609 0.60410777 0.53394441 0.40816413]\n"
     ]
    }
   ],
   "source": [
    "D = np.random.uniform(0,1,100)\n",
    "S = np.random.randint(0,10,100)\n",
    "D_sums = np.bincount(S, weights=D)\n",
    "D_counts = np.bincount(S)\n",
    "D_means = D_sums / D_counts\n",
    "print(D_means)"
   ]
  },
  {
   "cell_type": "markdown",
   "metadata": {
    "id": "UcssAEJjiaWy"
   },
   "source": [
    "#### 69. How to get the diagonal of a dot product? (★★★) \n",
    "(**hint**: np.diag)"
   ]
  },
  {
   "cell_type": "code",
   "execution_count": 284,
   "metadata": {
    "id": "13aYKf5riaWz"
   },
   "outputs": [
    {
     "name": "stdout",
     "output_type": "stream",
     "text": [
      "[0.91593701 2.32095811 0.43081343 0.90885282 1.18048679]\n"
     ]
    }
   ],
   "source": [
    "A = np.random.uniform(0,1,(5,5))\n",
    "B = np.random.uniform(0,1,(5,5))\n",
    "  \n",
    "print(np.diag(np.dot(A, B)))"
   ]
  },
  {
   "cell_type": "markdown",
   "metadata": {
    "id": "ICmfksC6iaWz"
   },
   "source": [
    "#### 70. Consider the vector \\[1, 2, 3, 4, 5\\], how to build a new vector with 3 consecutive zeros interleaved between each value? (★★★) \n",
    "(**hint**: array\\[::4\\])"
   ]
  },
  {
   "cell_type": "code",
   "execution_count": 286,
   "metadata": {
    "id": "Phr-2B_riaWz"
   },
   "outputs": [
    {
     "name": "stdout",
     "output_type": "stream",
     "text": [
      "[0. 0. 0. 0. 0. 0. 0. 0. 0. 0. 0. 0. 0. 0. 0. 0. 0.]\n",
      "[1. 0. 0. 0. 2. 0. 0. 0. 3. 0. 0. 0. 4. 0. 0. 0. 5.]\n"
     ]
    }
   ],
   "source": [
    "Z = np.array([1,2,3,4,5])\n",
    "nz = 3\n",
    "Z0 = np.zeros(len(Z) + (len(Z)-1)*(nz))\n",
    "print(Z0)\n",
    "Z0[::nz+1] = Z\n",
    "print(Z0)"
   ]
  },
  {
   "cell_type": "markdown",
   "metadata": {
    "id": "bJgMQwHwiaWz"
   },
   "source": [
    "#### 71. Consider an array of dimension (5,5,3), how to mulitply it by an array with dimensions (5,5)? (★★★) \n",
    "(**hint**: array\\[:, :, None\\])"
   ]
  },
  {
   "cell_type": "code",
   "execution_count": 288,
   "metadata": {
    "id": "Clci9RTWiaW0"
   },
   "outputs": [
    {
     "name": "stdout",
     "output_type": "stream",
     "text": [
      "[[[5. 5. 5.]\n",
      "  [5. 5. 5.]\n",
      "  [5. 5. 5.]\n",
      "  [5. 5. 5.]\n",
      "  [5. 5. 5.]]\n",
      "\n",
      " [[5. 5. 5.]\n",
      "  [5. 5. 5.]\n",
      "  [5. 5. 5.]\n",
      "  [5. 5. 5.]\n",
      "  [5. 5. 5.]]\n",
      "\n",
      " [[5. 5. 5.]\n",
      "  [5. 5. 5.]\n",
      "  [5. 5. 5.]\n",
      "  [5. 5. 5.]\n",
      "  [5. 5. 5.]]\n",
      "\n",
      " [[5. 5. 5.]\n",
      "  [5. 5. 5.]\n",
      "  [5. 5. 5.]\n",
      "  [5. 5. 5.]\n",
      "  [5. 5. 5.]]\n",
      "\n",
      " [[5. 5. 5.]\n",
      "  [5. 5. 5.]\n",
      "  [5. 5. 5.]\n",
      "  [5. 5. 5.]\n",
      "  [5. 5. 5.]]]\n"
     ]
    }
   ],
   "source": [
    "A = np.ones((5,5,3))\n",
    "B = 5*np.ones((5,5))\n",
    "print(A * B[:,:,None])"
   ]
  },
  {
   "cell_type": "markdown",
   "metadata": {
    "id": "LFDgIojJiaW1"
   },
   "source": [
    "#### 72. How to swap two rows of an array? (★★★) \n",
    "(**hint**: array\\[\\[\\]\\] = array\\[\\[\\]\\])"
   ]
  },
  {
   "cell_type": "code",
   "execution_count": 289,
   "metadata": {
    "id": "oVGY2m44iaW2"
   },
   "outputs": [
    {
     "name": "stdout",
     "output_type": "stream",
     "text": [
      "[[ 0  1  2  3  4]\n",
      " [ 5  6  7  8  9]\n",
      " [10 11 12 13 14]\n",
      " [15 16 17 18 19]\n",
      " [20 21 22 23 24]]\n",
      "[[15 16 17 18 19]\n",
      " [ 5  6  7  8  9]\n",
      " [10 11 12 13 14]\n",
      " [ 0  1  2  3  4]\n",
      " [20 21 22 23 24]]\n"
     ]
    }
   ],
   "source": [
    "A = np.arange(25).reshape(5,5)\n",
    "print(A)\n",
    "A[[0,3]] = A[[3,0]]\n",
    "print(A)"
   ]
  },
  {
   "cell_type": "markdown",
   "metadata": {
    "id": "3qCyQfXhiaW2"
   },
   "source": [
    "#### 73. Consider a set of 10 triplets describing 10 triangles (with shared vertices), find the set of unique line segments composing all the  triangles (★★★) \n",
    "(**hint**: repeat, np.roll, np.sort, view, np.unique)"
   ]
  },
  {
   "cell_type": "code",
   "execution_count": 290,
   "metadata": {
    "id": "PGalFj6DiaW2"
   },
   "outputs": [
    {
     "name": "stdout",
     "output_type": "stream",
     "text": [
      "[( 0,  7) ( 0, 43) ( 7, 43) ( 7, 45) ( 7, 56) (10, 31) (10, 57) (15, 84)\n",
      " (15, 94) (20, 74) (20, 87) (20, 89) (20, 95) (26, 67) (26, 87) (27, 73)\n",
      " (27, 98) (31, 57) (45, 56) (65, 84) (65, 95) (67, 87) (73, 98) (74, 87)\n",
      " (81, 83) (81, 84) (83, 84) (84, 94) (84, 95) (89, 95)]\n"
     ]
    }
   ],
   "source": [
    "faces = np.random.randint(0,100,(10,3))\n",
    "F = np.roll(faces.repeat(2,axis=1),-1,axis=1)\n",
    "F = F.reshape(len(F)*3,2)\n",
    "F = np.sort(F,axis=1)\n",
    "G = F.view( dtype=[('p0',F.dtype),('p1',F.dtype)] )\n",
    "G = np.unique(G)\n",
    "print(G)"
   ]
  },
  {
   "cell_type": "markdown",
   "metadata": {
    "id": "xV5aagD7iaW3"
   },
   "source": [
    "#### 74. Given an array C that is a bincount, how to produce an array A such that np.bincount(A) == C? (★★★) \n",
    "(**hint**: np.repeat)"
   ]
  },
  {
   "cell_type": "code",
   "execution_count": 291,
   "metadata": {
    "id": "JO1qnILuiaW3"
   },
   "outputs": [
    {
     "name": "stdout",
     "output_type": "stream",
     "text": [
      "[0 2 1 1 2 0 1]\n",
      "[1 1 2 3 4 4 6]\n"
     ]
    }
   ],
   "source": [
    "A = [1,1,2,3,4,4,6]\n",
    "C = np.bincount(A)\n",
    "print(C)\n",
    "B = np.arange(len(C))\n",
    "#print(B)\n",
    "A = np.repeat(B, C)\n",
    "print(A)"
   ]
  },
  {
   "cell_type": "markdown",
   "metadata": {
    "id": "4lajvBUwiaW3"
   },
   "source": [
    "#### 75. How to compute averages using a sliding window over an array? (★★★) \n",
    "(**hint**: np.cumsum)"
   ]
  },
  {
   "cell_type": "code",
   "execution_count": 292,
   "metadata": {
    "id": "b7m5JFybiaW3"
   },
   "outputs": [
    {
     "name": "stdout",
     "output_type": "stream",
     "text": [
      "[ 0  1  2  3  4  5  6  7  8  9 10 11 12 13 14 15 16 17 18 19]\n",
      "[ 1.  2.  3.  4.  5.  6.  7.  8.  9. 10. 11. 12. 13. 14. 15. 16. 17. 18.]\n"
     ]
    }
   ],
   "source": [
    "def moving_average(a, n=3) :\n",
    "    k = np.cumsum(a, dtype=float)\n",
    "    k[n:] = k[n:] - k[:-n]\n",
    "    return k[n - 1:] / n\n",
    "Z = np.arange(20)\n",
    "print(Z)\n",
    "print(moving_average(Z, n=3))"
   ]
  },
  {
   "cell_type": "markdown",
   "metadata": {
    "id": "J0Prb9FhiaW3"
   },
   "source": [
    "#### 76. Consider a one-dimensional array Z, build a two-dimensional array whose first row is (Z\\[0\\],Z\\[1\\],Z\\[2\\]) and each subsequent row is  shifted by 1 (last row should be (Z\\[-3\\],Z\\[-2\\],Z\\[-1\\]) (★★★) \n",
    "(**hint**: from numpy.lib import stride_tricks)"
   ]
  },
  {
   "cell_type": "code",
   "execution_count": 293,
   "metadata": {
    "id": "wzQWM4WWiaW4"
   },
   "outputs": [
    {
     "name": "stdout",
     "output_type": "stream",
     "text": [
      "[[ 0  1  2]\n",
      " [ 1  2  3]\n",
      " [ 2  3  4]\n",
      " [ 3  4  5]\n",
      " [ 4  5  6]\n",
      " [ 5  6  7]\n",
      " [ 6  7  8]\n",
      " [ 7  8  9]\n",
      " [ 8  9 10]\n",
      " [ 9 10 11]\n",
      " [10 11 12]\n",
      " [11 12 13]\n",
      " [12 13 14]\n",
      " [13 14 15]\n",
      " [14 15 16]\n",
      " [15 16 17]\n",
      " [16 17 18]\n",
      " [17 18 19]]\n"
     ]
    }
   ],
   "source": [
    "from numpy.lib import stride_tricks\n",
    "\n",
    "def rolling(a, window):\n",
    "    shape = (a.size - window + 1, window)\n",
    "    #print(a.size)\n",
    "    #print(shape)\n",
    "    strides = (a.itemsize, a.itemsize)\n",
    "    #print(a)\n",
    "    #print(strides)\n",
    "    return stride_tricks.as_strided(a, shape, strides)\n",
    "    #return stride_tricks.as_strided(a, shape=shape, strides=strides)\n",
    "Z = rolling(np.arange(20), 3)\n",
    "print(Z)"
   ]
  },
  {
   "cell_type": "markdown",
   "metadata": {
    "id": "kNSG5wEwiaW4"
   },
   "source": [
    "#### 77. How to negate a boolean, or to change the sign of a float inplace? (★★★) \n",
    "(**hint**: np.logical_not, np.negative)"
   ]
  },
  {
   "cell_type": "code",
   "execution_count": 296,
   "metadata": {
    "id": "1K0jFk04iaW4"
   },
   "outputs": [
    {
     "name": "stdout",
     "output_type": "stream",
     "text": [
      "[0 1 0 0 1 1 1 1 0 0 1 1 0 0 1 0 1 1 0 0 0 0 0 0 1 0 0 0 0 0 1 0 0 0 1 0 0\n",
      " 0 0 1 1 0 1 0 0 0 1 0 0 1 1 1 1 1 1 1 1 0 0 1 1 0 1 0 0 0 1 0 0 1 0 1 1 1\n",
      " 1 1 1 1 0 0 0 0 1 0 0 1 1 0 1 0 1 1 1 0 0 0 1 1 0 1]\n",
      "[1 0 1 1 0 0 0 0 1 1 0 0 1 1 0 1 0 0 1 1 1 1 1 1 0 1 1 1 1 1 0 1 1 1 0 1 1\n",
      " 1 1 0 0 1 0 1 1 1 0 1 1 0 0 0 0 0 0 0 0 1 1 0 0 1 0 1 1 1 0 1 1 0 1 0 0 0\n",
      " 0 0 0 0 1 1 1 1 0 1 1 0 0 1 0 1 0 0 0 1 1 1 0 0 1 0]\n",
      "[-0.23955406  0.68400753  0.54656556  0.4576727   0.13168072 -0.41437108\n",
      "  0.15203384  0.40629264  0.44715919 -0.02279265  0.10101437  0.93147339\n",
      "  0.60250124  0.4480497   0.30720965 -0.42764608 -0.61721556  0.15778106\n",
      " -0.68999954 -0.2225855  -0.67613082 -0.55848198 -0.28776549 -0.16923442\n",
      "  0.4149339   0.72794031  0.91395365  0.2634883   0.07910277 -0.08514294\n",
      "  0.18508632 -0.81516508 -0.62241228 -0.65720395  0.58174768 -0.59450946\n",
      "  0.37341472 -0.40448562 -0.09364462  0.80749791 -0.69358919  0.60196529\n",
      "  0.25664937  0.37370184 -0.131565   -0.278885   -0.57227927 -0.61624596\n",
      " -0.76566976  0.99701642 -0.13484475  0.65104682  0.26711979 -0.09630245\n",
      " -0.29896894  0.623892    0.10968675  0.21566322  0.39392414 -0.93258047\n",
      " -0.69001249  0.71259463 -0.58039011  0.70439122  0.49664194 -0.68535023\n",
      " -0.80730933 -0.16617312 -0.13171574  0.58857134 -0.4741593   0.99697613\n",
      "  0.09934079  0.1844458   0.91782187 -0.58928212 -0.66748855 -0.99077746\n",
      "  0.53975399 -0.05550154 -0.97265567  0.23808078  0.13554142 -0.00383575\n",
      "  0.71303836 -0.0020995  -0.87974002  0.89504068 -0.46558197  0.05797397\n",
      "  0.59544025 -0.89622647 -0.2286941  -0.81924107 -0.39391442 -0.18709474\n",
      " -0.89894105 -0.00960099  0.20790862  0.83122787]\n",
      "[ 0.23955406 -0.68400753 -0.54656556 -0.4576727  -0.13168072  0.41437108\n",
      " -0.15203384 -0.40629264 -0.44715919  0.02279265 -0.10101437 -0.93147339\n",
      " -0.60250124 -0.4480497  -0.30720965  0.42764608  0.61721556 -0.15778106\n",
      "  0.68999954  0.2225855   0.67613082  0.55848198  0.28776549  0.16923442\n",
      " -0.4149339  -0.72794031 -0.91395365 -0.2634883  -0.07910277  0.08514294\n",
      " -0.18508632  0.81516508  0.62241228  0.65720395 -0.58174768  0.59450946\n",
      " -0.37341472  0.40448562  0.09364462 -0.80749791  0.69358919 -0.60196529\n",
      " -0.25664937 -0.37370184  0.131565    0.278885    0.57227927  0.61624596\n",
      "  0.76566976 -0.99701642  0.13484475 -0.65104682 -0.26711979  0.09630245\n",
      "  0.29896894 -0.623892   -0.10968675 -0.21566322 -0.39392414  0.93258047\n",
      "  0.69001249 -0.71259463  0.58039011 -0.70439122 -0.49664194  0.68535023\n",
      "  0.80730933  0.16617312  0.13171574 -0.58857134  0.4741593  -0.99697613\n",
      " -0.09934079 -0.1844458  -0.91782187  0.58928212  0.66748855  0.99077746\n",
      " -0.53975399  0.05550154  0.97265567 -0.23808078 -0.13554142  0.00383575\n",
      " -0.71303836  0.0020995   0.87974002 -0.89504068  0.46558197 -0.05797397\n",
      " -0.59544025  0.89622647  0.2286941   0.81924107  0.39391442  0.18709474\n",
      "  0.89894105  0.00960099 -0.20790862 -0.83122787]\n"
     ]
    }
   ],
   "source": [
    "x = np.random.randint(0,2,100)\n",
    "print(x)\n",
    "print(np.logical_not(x, out=x))\n",
    "\n",
    "y = np.random.uniform(-1.0,1.0,100)\n",
    "print(y)\n",
    "print(np.negative(y, out=y))"
   ]
  },
  {
   "cell_type": "markdown",
   "metadata": {
    "id": "zG9fXkJZiaW4"
   },
   "source": [
    "#### 78. Consider 2 sets of points P0,P1 describing lines (2d) and a point p, how to compute distance from p to each line i  (P0\\[i\\],P1\\[i\\])? (★★★)"
   ]
  },
  {
   "cell_type": "code",
   "execution_count": 298,
   "metadata": {
    "id": "O-Ea-LD4iaW5"
   },
   "outputs": [
    {
     "name": "stdout",
     "output_type": "stream",
     "text": [
      "[15.98940108  7.68311709  2.0440464  13.18612136  4.92701978  2.74984837\n",
      " 12.92743759  0.12351771 12.82141268  4.57557378]\n"
     ]
    }
   ],
   "source": [
    "def distance(P0, P1, p):\n",
    "    T = P1 - P0\n",
    "    L = (T**2).sum(axis=1)\n",
    "    U = -((P0[:,0]-p[...,0])*T[:,0] + (P0[:,1]-p[...,1])*T[:,1]) / L\n",
    "    U = U.reshape(len(U),1)\n",
    "    D = P0 + U*T - p\n",
    "    return np.sqrt((D**2).sum(axis=1))\n",
    "\n",
    "P0 = np.random.uniform(-10,10,(10,2))\n",
    "P1 = np.random.uniform(-10,10,(10,2))\n",
    "p  = np.random.uniform(-10,10,( 1,2))\n",
    "print(distance(P0, P1, p))"
   ]
  },
  {
   "cell_type": "markdown",
   "metadata": {
    "id": "srFQc8_YiaW5"
   },
   "source": [
    "#### 79. Consider 2 sets of points P0,P1 describing lines (2d) and a set of points P, how to compute distance from each point j (P\\[j\\]) to each line i (P0\\[i\\],P1\\[i\\])? (★★★)"
   ]
  },
  {
   "cell_type": "code",
   "execution_count": 299,
   "metadata": {
    "id": "FqVrodnWiaW5"
   },
   "outputs": [
    {
     "name": "stdout",
     "output_type": "stream",
     "text": [
      "[[6.02787970e+00 1.54106854e+00 5.25568935e+00 2.18376745e+00\n",
      "  5.74572022e+00 5.92493781e+00 2.30474342e+00 8.03652778e+00\n",
      "  4.51679883e-02 1.16191016e+01]\n",
      " [7.60859474e-01 7.23072419e+00 1.14693331e+00 5.61944416e+00\n",
      "  5.48427914e+00 4.08037527e+00 5.36760207e+00 1.00645046e+01\n",
      "  4.52743488e+00 6.77184653e+00]\n",
      " [2.01289455e+00 4.49201354e+00 6.73656736e-03 5.64107967e+00\n",
      "  4.41670995e+00 3.51430750e+00 3.62052808e+00 8.33809983e+00\n",
      "  2.17100069e+00 9.18829967e+00]\n",
      " [9.03823435e+00 1.25918685e-01 1.60672576e+00 1.00304597e+01\n",
      "  1.85851381e+00 1.93267235e+00 3.41553842e+00 1.23525264e+00\n",
      "  5.28181762e+00 1.66343977e+01]\n",
      " [2.90491101e+00 1.13199219e+01 5.47164651e+00 8.92847471e+00\n",
      "  3.56937340e+00 1.43872555e+00 9.95588017e+00 9.30418409e+00\n",
      "  5.20993745e+00 5.92115891e+00]\n",
      " [7.77499020e+00 1.27189198e+01 1.52075938e+00 3.14099947e+00\n",
      "  1.01808270e+01 7.75587561e+00 7.42586045e+00 1.59567888e+01\n",
      "  1.13163232e+01 8.00557347e-02]\n",
      " [9.81163768e+00 5.50647055e+00 7.21166239e+00 1.82636616e+00\n",
      "  4.60820031e+00 5.51098035e+00 5.06466316e+00 5.92519536e+00\n",
      "  3.12714131e+00 1.47971176e+01]\n",
      " [2.53794708e+00 4.95310972e+00 1.50106201e+00 7.29691984e+00\n",
      "  2.85374181e+00 1.87785804e+00 4.89789484e+00 6.97091836e+00\n",
      "  1.15927157e+00 1.01509018e+01]\n",
      " [1.00153679e+01 4.75534969e+00 5.63280766e+00 3.43376883e+00\n",
      "  3.20674648e+00 3.98263251e+00 3.62962550e+00 4.78693789e+00\n",
      "  3.85016208e+00 1.54657406e+01]\n",
      " [5.06579002e+00 1.44267015e+01 8.05904364e+00 1.05527167e+01\n",
      "  3.04894579e+00 3.60279371e-01 1.29146390e+01 9.61545269e+00\n",
      "  6.48367968e+00 4.54056098e+00]]\n"
     ]
    }
   ],
   "source": [
    "P0 = np.random.uniform(-10, 10, (10,2))\n",
    "P1 = np.random.uniform(-10,10,(10,2))\n",
    "p = np.random.uniform(-10, 10, (10,2))\n",
    "print(np.array([distance(P0,P1,p_i) for p_i in p]))"
   ]
  },
  {
   "cell_type": "markdown",
   "metadata": {
    "id": "UmEVT9poiaW5"
   },
   "source": [
    "#### 80. Consider an arbitrary array, write a function that extract a subpart with a fixed shape and centered on a given element (pad with a `fill` value when necessary) (★★★) \n",
    "(**hint**: minimum, maximum)"
   ]
  },
  {
   "cell_type": "code",
   "execution_count": 300,
   "metadata": {
    "id": "8hiswKUviaW6"
   },
   "outputs": [
    {
     "name": "stdout",
     "output_type": "stream",
     "text": [
      "[[2 5 7 7 2 2 9 7 5 9]\n",
      " [2 2 8 3 2 5 0 3 8 0]\n",
      " [5 5 0 4 6 5 5 6 1 3]\n",
      " [9 0 2 1 9 8 0 4 3 2]\n",
      " [5 6 0 8 9 7 8 0 9 5]\n",
      " [8 1 2 7 2 5 0 9 7 3]\n",
      " [0 9 9 5 0 8 2 0 4 1]\n",
      " [9 0 0 3 3 6 1 5 6 6]\n",
      " [9 1 8 0 2 8 5 0 9 0]\n",
      " [8 3 9 0 2 0 3 5 4 1]]\n",
      "[[0 0 0 0 0]\n",
      " [0 2 5 7 7]\n",
      " [0 2 2 8 3]\n",
      " [0 5 5 0 4]\n",
      " [0 9 0 2 1]]\n"
     ]
    },
    {
     "name": "stderr",
     "output_type": "stream",
     "text": [
      "C:\\Anaconda\\lib\\site-packages\\ipykernel_launcher.py:23: FutureWarning: Using a non-tuple sequence for multidimensional indexing is deprecated; use `arr[tuple(seq)]` instead of `arr[seq]`. In the future this will be interpreted as an array index, `arr[np.array(seq)]`, which will result either in an error or a different result.\n"
     ]
    }
   ],
   "source": [
    "Z = np.random.randint(0,10,(10,10))\n",
    "shape = (5,5)\n",
    "fill  = 0\n",
    "position = (1,1)\n",
    "\n",
    "R = np.ones(shape, dtype=Z.dtype)*fill\n",
    "P  = np.array(list(position)).astype(int)\n",
    "Rs = np.array(list(R.shape)).astype(int)\n",
    "Zs = np.array(list(Z.shape)).astype(int)\n",
    "\n",
    "R_start = np.zeros((len(shape),)).astype(int)\n",
    "R_stop  = np.array(list(shape)).astype(int)\n",
    "Z_start = (P-Rs//2)\n",
    "Z_stop  = (P+Rs//2)+Rs%2\n",
    "\n",
    "R_start = (R_start - np.minimum(Z_start,0)).tolist()\n",
    "Z_start = (np.maximum(Z_start,0)).tolist()\n",
    "R_stop = np.maximum(R_start, (R_stop - np.maximum(Z_stop-Zs,0))).tolist()\n",
    "Z_stop = (np.minimum(Z_stop,Zs)).tolist()\n",
    "\n",
    "r = [slice(start,stop) for start,stop in zip(R_start,R_stop)]\n",
    "z = [slice(start,stop) for start,stop in zip(Z_start,Z_stop)]\n",
    "R[r] = Z[z]\n",
    "print(Z)\n",
    "print(R)\n"
   ]
  },
  {
   "cell_type": "markdown",
   "metadata": {
    "id": "Ftz0Dlc4iaW6"
   },
   "source": [
    "#### 81. Consider an array Z = \\[1,2,3,4,5,6,7,8,9,10,11,12,13,14\\], how to generate an array R = \\[\\[1,2,3,4\\], \\[2,3,4,5\\], \\[3,4,5,6\\], ..., \\[11,12,13,14\\]\\]? (★★★) \n",
    "(**hint**: stride\\_tricks.as\\_strided)"
   ]
  },
  {
   "cell_type": "code",
   "execution_count": 302,
   "metadata": {
    "id": "N4bTpkJjiaW6"
   },
   "outputs": [
    {
     "name": "stdout",
     "output_type": "stream",
     "text": [
      "[[ 1  2  3  4]\n",
      " [ 2  3  4  5]\n",
      " [ 3  4  5  6]\n",
      " [ 4  5  6  7]\n",
      " [ 5  6  7  8]\n",
      " [ 6  7  8  9]\n",
      " [ 7  8  9 10]\n",
      " [ 8  9 10 11]\n",
      " [ 9 10 11 12]\n",
      " [10 11 12 13]\n",
      " [11 12 13 14]]\n"
     ]
    }
   ],
   "source": [
    "Z = np.arange(1,15,dtype=np.uint32)\n",
    "R = stride_tricks.as_strided(Z,(11,4),(4,4))\n",
    "print(R)"
   ]
  },
  {
   "cell_type": "markdown",
   "metadata": {
    "id": "m29rGjjQiaW6"
   },
   "source": [
    "#### 82. Compute a matrix rank (★★★) \n",
    "(**hint**: np.linalg.svd) (suggestion: np.linalg.svd)"
   ]
  },
  {
   "cell_type": "code",
   "execution_count": 303,
   "metadata": {
    "id": "1oYbb_WDiaW7"
   },
   "outputs": [
    {
     "name": "stdout",
     "output_type": "stream",
     "text": [
      "10\n"
     ]
    }
   ],
   "source": [
    "Z = np.random.uniform(0,1,(10,10))\n",
    "U, S, V = np.linalg.svd(Z)\n",
    "rank = np.sum(S > 1e-10)\n",
    "print(rank)"
   ]
  },
  {
   "cell_type": "markdown",
   "metadata": {
    "id": "3YRnT6Z-iaW7"
   },
   "source": [
    "#### 83. How to find the most frequent value in an array? \n",
    "(**hint**: np.bincount, argmax)"
   ]
  },
  {
   "cell_type": "code",
   "execution_count": 305,
   "metadata": {
    "id": "Rc6xfK_AiaW7"
   },
   "outputs": [
    {
     "name": "stdout",
     "output_type": "stream",
     "text": [
      "8\n"
     ]
    }
   ],
   "source": [
    "x = np.random.randint(0,10,50)\n",
    "print(np.bincount(x).argmax())"
   ]
  },
  {
   "cell_type": "markdown",
   "metadata": {
    "id": "A6e9MTcWiaW7"
   },
   "source": [
    "#### 84. Extract all the contiguous 3x3 blocks from a random 10x10 matrix (★★★) \n",
    "(**hint**: stride\\_tricks.as\\_strided)"
   ]
  },
  {
   "cell_type": "code",
   "execution_count": 315,
   "metadata": {
    "id": "_YVI5lv_iaW7"
   },
   "outputs": [
    {
     "name": "stdout",
     "output_type": "stream",
     "text": [
      "[[0 0 0 3 1 3 1 4 4 2]\n",
      " [3 3 4 3 1 4 3 3 2 4]\n",
      " [4 2 0 2 1 0 0 1 4 0]\n",
      " [2 4 4 2 0 1 4 3 4 3]\n",
      " [0 2 0 2 1 2 2 1 3 4]\n",
      " [4 3 2 0 4 4 3 4 2 0]\n",
      " [4 2 4 0 1 2 4 2 3 4]\n",
      " [0 4 2 1 4 1 4 3 2 1]\n",
      " [2 1 3 2 2 3 3 3 2 0]\n",
      " [2 1 2 1 2 3 4 4 2 4]]\n",
      "(10, 10)\n",
      "(40, 4)\n",
      "[[[[0 0 0]\n",
      "   [3 3 4]\n",
      "   [4 2 0]]\n",
      "\n",
      "  [[0 0 3]\n",
      "   [3 4 3]\n",
      "   [2 0 2]]\n",
      "\n",
      "  [[0 3 1]\n",
      "   [4 3 1]\n",
      "   [0 2 1]]\n",
      "\n",
      "  [[3 1 3]\n",
      "   [3 1 4]\n",
      "   [2 1 0]]\n",
      "\n",
      "  [[1 3 1]\n",
      "   [1 4 3]\n",
      "   [1 0 0]]\n",
      "\n",
      "  [[3 1 4]\n",
      "   [4 3 3]\n",
      "   [0 0 1]]\n",
      "\n",
      "  [[1 4 4]\n",
      "   [3 3 2]\n",
      "   [0 1 4]]\n",
      "\n",
      "  [[4 4 2]\n",
      "   [3 2 4]\n",
      "   [1 4 0]]]\n",
      "\n",
      "\n",
      " [[[3 3 4]\n",
      "   [4 2 0]\n",
      "   [2 4 4]]\n",
      "\n",
      "  [[3 4 3]\n",
      "   [2 0 2]\n",
      "   [4 4 2]]\n",
      "\n",
      "  [[4 3 1]\n",
      "   [0 2 1]\n",
      "   [4 2 0]]\n",
      "\n",
      "  [[3 1 4]\n",
      "   [2 1 0]\n",
      "   [2 0 1]]\n",
      "\n",
      "  [[1 4 3]\n",
      "   [1 0 0]\n",
      "   [0 1 4]]\n",
      "\n",
      "  [[4 3 3]\n",
      "   [0 0 1]\n",
      "   [1 4 3]]\n",
      "\n",
      "  [[3 3 2]\n",
      "   [0 1 4]\n",
      "   [4 3 4]]\n",
      "\n",
      "  [[3 2 4]\n",
      "   [1 4 0]\n",
      "   [3 4 3]]]\n",
      "\n",
      "\n",
      " [[[4 2 0]\n",
      "   [2 4 4]\n",
      "   [0 2 0]]\n",
      "\n",
      "  [[2 0 2]\n",
      "   [4 4 2]\n",
      "   [2 0 2]]\n",
      "\n",
      "  [[0 2 1]\n",
      "   [4 2 0]\n",
      "   [0 2 1]]\n",
      "\n",
      "  [[2 1 0]\n",
      "   [2 0 1]\n",
      "   [2 1 2]]\n",
      "\n",
      "  [[1 0 0]\n",
      "   [0 1 4]\n",
      "   [1 2 2]]\n",
      "\n",
      "  [[0 0 1]\n",
      "   [1 4 3]\n",
      "   [2 2 1]]\n",
      "\n",
      "  [[0 1 4]\n",
      "   [4 3 4]\n",
      "   [2 1 3]]\n",
      "\n",
      "  [[1 4 0]\n",
      "   [3 4 3]\n",
      "   [1 3 4]]]\n",
      "\n",
      "\n",
      " [[[2 4 4]\n",
      "   [0 2 0]\n",
      "   [4 3 2]]\n",
      "\n",
      "  [[4 4 2]\n",
      "   [2 0 2]\n",
      "   [3 2 0]]\n",
      "\n",
      "  [[4 2 0]\n",
      "   [0 2 1]\n",
      "   [2 0 4]]\n",
      "\n",
      "  [[2 0 1]\n",
      "   [2 1 2]\n",
      "   [0 4 4]]\n",
      "\n",
      "  [[0 1 4]\n",
      "   [1 2 2]\n",
      "   [4 4 3]]\n",
      "\n",
      "  [[1 4 3]\n",
      "   [2 2 1]\n",
      "   [4 3 4]]\n",
      "\n",
      "  [[4 3 4]\n",
      "   [2 1 3]\n",
      "   [3 4 2]]\n",
      "\n",
      "  [[3 4 3]\n",
      "   [1 3 4]\n",
      "   [4 2 0]]]\n",
      "\n",
      "\n",
      " [[[0 2 0]\n",
      "   [4 3 2]\n",
      "   [4 2 4]]\n",
      "\n",
      "  [[2 0 2]\n",
      "   [3 2 0]\n",
      "   [2 4 0]]\n",
      "\n",
      "  [[0 2 1]\n",
      "   [2 0 4]\n",
      "   [4 0 1]]\n",
      "\n",
      "  [[2 1 2]\n",
      "   [0 4 4]\n",
      "   [0 1 2]]\n",
      "\n",
      "  [[1 2 2]\n",
      "   [4 4 3]\n",
      "   [1 2 4]]\n",
      "\n",
      "  [[2 2 1]\n",
      "   [4 3 4]\n",
      "   [2 4 2]]\n",
      "\n",
      "  [[2 1 3]\n",
      "   [3 4 2]\n",
      "   [4 2 3]]\n",
      "\n",
      "  [[1 3 4]\n",
      "   [4 2 0]\n",
      "   [2 3 4]]]\n",
      "\n",
      "\n",
      " [[[4 3 2]\n",
      "   [4 2 4]\n",
      "   [0 4 2]]\n",
      "\n",
      "  [[3 2 0]\n",
      "   [2 4 0]\n",
      "   [4 2 1]]\n",
      "\n",
      "  [[2 0 4]\n",
      "   [4 0 1]\n",
      "   [2 1 4]]\n",
      "\n",
      "  [[0 4 4]\n",
      "   [0 1 2]\n",
      "   [1 4 1]]\n",
      "\n",
      "  [[4 4 3]\n",
      "   [1 2 4]\n",
      "   [4 1 4]]\n",
      "\n",
      "  [[4 3 4]\n",
      "   [2 4 2]\n",
      "   [1 4 3]]\n",
      "\n",
      "  [[3 4 2]\n",
      "   [4 2 3]\n",
      "   [4 3 2]]\n",
      "\n",
      "  [[4 2 0]\n",
      "   [2 3 4]\n",
      "   [3 2 1]]]\n",
      "\n",
      "\n",
      " [[[4 2 4]\n",
      "   [0 4 2]\n",
      "   [2 1 3]]\n",
      "\n",
      "  [[2 4 0]\n",
      "   [4 2 1]\n",
      "   [1 3 2]]\n",
      "\n",
      "  [[4 0 1]\n",
      "   [2 1 4]\n",
      "   [3 2 2]]\n",
      "\n",
      "  [[0 1 2]\n",
      "   [1 4 1]\n",
      "   [2 2 3]]\n",
      "\n",
      "  [[1 2 4]\n",
      "   [4 1 4]\n",
      "   [2 3 3]]\n",
      "\n",
      "  [[2 4 2]\n",
      "   [1 4 3]\n",
      "   [3 3 3]]\n",
      "\n",
      "  [[4 2 3]\n",
      "   [4 3 2]\n",
      "   [3 3 2]]\n",
      "\n",
      "  [[2 3 4]\n",
      "   [3 2 1]\n",
      "   [3 2 0]]]\n",
      "\n",
      "\n",
      " [[[0 4 2]\n",
      "   [2 1 3]\n",
      "   [2 1 2]]\n",
      "\n",
      "  [[4 2 1]\n",
      "   [1 3 2]\n",
      "   [1 2 1]]\n",
      "\n",
      "  [[2 1 4]\n",
      "   [3 2 2]\n",
      "   [2 1 2]]\n",
      "\n",
      "  [[1 4 1]\n",
      "   [2 2 3]\n",
      "   [1 2 3]]\n",
      "\n",
      "  [[4 1 4]\n",
      "   [2 3 3]\n",
      "   [2 3 4]]\n",
      "\n",
      "  [[1 4 3]\n",
      "   [3 3 3]\n",
      "   [3 4 4]]\n",
      "\n",
      "  [[4 3 2]\n",
      "   [3 3 2]\n",
      "   [4 4 2]]\n",
      "\n",
      "  [[3 2 1]\n",
      "   [3 2 0]\n",
      "   [4 2 4]]]]\n"
     ]
    }
   ],
   "source": [
    "Z = np.random.randint(0,5,(10,10))\n",
    "print(Z)\n",
    "print(Z.shape)\n",
    "n = 3\n",
    "i = 1 + (Z.shape[0]-3)\n",
    "j = 1 + (Z.shape[1]-3)\n",
    "print(Z.strides)\n",
    "C = stride_tricks.as_strided(Z, shape=(i, j, n, n), strides=Z.strides + Z.strides)\n",
    "print(C)"
   ]
  },
  {
   "cell_type": "markdown",
   "metadata": {
    "id": "cKsn5q2viaW8"
   },
   "source": [
    "#### 85. Create a 2D array subclass such that Z\\[i,j\\] == Z\\[j,i\\] (★★★) \n",
    "(**hint**: class method)"
   ]
  },
  {
   "cell_type": "code",
   "execution_count": 316,
   "metadata": {
    "id": "vyqmBv6SiaW8"
   },
   "outputs": [
    {
     "name": "stdout",
     "output_type": "stream",
     "text": [
      "[[ 0 17  4 10  8]\n",
      " [17  2 13  7  8]\n",
      " [ 4 13  0 42 16]\n",
      " [10  7 42  5 10]\n",
      " [ 8  8 16 10  2]]\n"
     ]
    }
   ],
   "source": [
    "class Symetric(np.ndarray):\n",
    "    def __setitem__(self, index, value):\n",
    "        i,j = index\n",
    "        super(Symetric, self).__setitem__((i,j), value)\n",
    "        super(Symetric, self).__setitem__((j,i), value)\n",
    "\n",
    "def symetric(Z):\n",
    "    return np.asarray(Z + Z.T - np.diag(Z.diagonal())).view(Symetric)\n",
    "\n",
    "S = symetric(np.random.randint(0,10,(5,5)))\n",
    "S[2,3] = 42\n",
    "print(S)"
   ]
  },
  {
   "cell_type": "markdown",
   "metadata": {
    "id": "ayjFd920iaW8"
   },
   "source": [
    "#### 86. Consider a set of p matrices wich shape (n,n) and a set of p vectors with shape (n,1). How to compute the sum of of the p matrix products at once? (result has shape (n,1)) (★★★) \n",
    "(**hint**: np.tensordot)"
   ]
  },
  {
   "cell_type": "code",
   "execution_count": 323,
   "metadata": {
    "id": "IU97jwh6iaW9"
   },
   "outputs": [
    {
     "name": "stdout",
     "output_type": "stream",
     "text": [
      "[[[1. 1. 1. 1. 1. 1. 1. 1. 1. 1.]\n",
      "  [1. 1. 1. 1. 1. 1. 1. 1. 1. 1.]\n",
      "  [1. 1. 1. 1. 1. 1. 1. 1. 1. 1.]\n",
      "  [1. 1. 1. 1. 1. 1. 1. 1. 1. 1.]\n",
      "  [1. 1. 1. 1. 1. 1. 1. 1. 1. 1.]\n",
      "  [1. 1. 1. 1. 1. 1. 1. 1. 1. 1.]\n",
      "  [1. 1. 1. 1. 1. 1. 1. 1. 1. 1.]\n",
      "  [1. 1. 1. 1. 1. 1. 1. 1. 1. 1.]\n",
      "  [1. 1. 1. 1. 1. 1. 1. 1. 1. 1.]\n",
      "  [1. 1. 1. 1. 1. 1. 1. 1. 1. 1.]]\n",
      "\n",
      " [[1. 1. 1. 1. 1. 1. 1. 1. 1. 1.]\n",
      "  [1. 1. 1. 1. 1. 1. 1. 1. 1. 1.]\n",
      "  [1. 1. 1. 1. 1. 1. 1. 1. 1. 1.]\n",
      "  [1. 1. 1. 1. 1. 1. 1. 1. 1. 1.]\n",
      "  [1. 1. 1. 1. 1. 1. 1. 1. 1. 1.]\n",
      "  [1. 1. 1. 1. 1. 1. 1. 1. 1. 1.]\n",
      "  [1. 1. 1. 1. 1. 1. 1. 1. 1. 1.]\n",
      "  [1. 1. 1. 1. 1. 1. 1. 1. 1. 1.]\n",
      "  [1. 1. 1. 1. 1. 1. 1. 1. 1. 1.]\n",
      "  [1. 1. 1. 1. 1. 1. 1. 1. 1. 1.]]]\n",
      "[[[1.]\n",
      "  [1.]\n",
      "  [1.]\n",
      "  [1.]\n",
      "  [1.]\n",
      "  [1.]\n",
      "  [1.]\n",
      "  [1.]\n",
      "  [1.]\n",
      "  [1.]]\n",
      "\n",
      " [[1.]\n",
      "  [1.]\n",
      "  [1.]\n",
      "  [1.]\n",
      "  [1.]\n",
      "  [1.]\n",
      "  [1.]\n",
      "  [1.]\n",
      "  [1.]\n",
      "  [1.]]]\n",
      "[[20.]\n",
      " [20.]\n",
      " [20.]\n",
      " [20.]\n",
      " [20.]\n",
      " [20.]\n",
      " [20.]\n",
      " [20.]\n",
      " [20.]\n",
      " [20.]]\n"
     ]
    }
   ],
   "source": [
    "p, n = 2, 10\n",
    "M = np.ones((p,n,n))\n",
    "V = np.ones((p,n,1))\n",
    "print(M)\n",
    "print(V)\n",
    "S = np.tensordot(M, V, axes=[[0, 2], [0, 1]])\n",
    "print(S)"
   ]
  },
  {
   "cell_type": "markdown",
   "metadata": {
    "id": "JVUHYLTIiaW9"
   },
   "source": [
    "#### 87. Consider a 16x16 array, how to get the block-sum (block size is 4x4)? (★★★) \n",
    "(**hint**: np.add.reduceat)"
   ]
  },
  {
   "cell_type": "code",
   "execution_count": 324,
   "metadata": {
    "id": "IE45VsXliaXC"
   },
   "outputs": [
    {
     "name": "stdout",
     "output_type": "stream",
     "text": [
      "[[16. 16. 16. 16.]\n",
      " [16. 16. 16. 16.]\n",
      " [16. 16. 16. 16.]\n",
      " [16. 16. 16. 16.]]\n"
     ]
    }
   ],
   "source": [
    "Z = np.ones((16,16))\n",
    "k = 4\n",
    "S = np.add.reduceat(np.add.reduceat(Z, np.arange(0, Z.shape[0], k), axis=0),\n",
    "                                       np.arange(0, Z.shape[1], k), axis=1)\n",
    "print(S)"
   ]
  },
  {
   "cell_type": "markdown",
   "metadata": {
    "id": "WM-5HRZRiaXD"
   },
   "source": [
    "#### 88. How to implement the Game of Life using numpy arrays? (★★★)"
   ]
  },
  {
   "cell_type": "code",
   "execution_count": 325,
   "metadata": {
    "id": "H6wodnI1iaXD"
   },
   "outputs": [
    {
     "name": "stdout",
     "output_type": "stream",
     "text": [
      "[[0 0 0 0 0 0 0 0 0 0 0 0 0 0 0 0 0 0 0 0 0 0 0 0 0 0 0 0 0 0 0 0 0 0 0 0\n",
      "  0 0 0 0 0 0 0 0 0 0 0 0 0 0]\n",
      " [0 0 0 0 0 0 0 0 0 0 0 0 0 0 0 0 0 0 0 0 0 0 0 0 0 0 0 0 0 0 0 0 0 0 0 0\n",
      "  0 0 0 0 0 0 0 0 0 0 0 0 0 0]\n",
      " [0 0 0 0 0 0 0 0 0 0 0 0 0 0 0 0 0 0 0 0 0 0 0 0 0 0 0 0 0 0 0 0 0 0 0 0\n",
      "  0 0 0 0 0 0 0 0 0 0 0 0 0 0]\n",
      " [0 0 0 0 0 0 0 0 0 0 0 0 0 0 0 0 0 0 0 0 0 0 0 0 0 0 0 0 0 0 0 0 0 0 0 0\n",
      "  0 0 0 0 1 1 0 0 0 0 0 0 0 0]\n",
      " [0 0 0 0 0 0 0 0 0 0 0 0 0 0 0 0 0 0 0 0 0 0 0 0 0 0 0 0 1 1 0 0 0 0 0 0\n",
      "  0 0 0 0 1 1 0 0 0 0 0 0 0 0]\n",
      " [0 0 0 0 0 0 0 0 0 0 0 0 0 0 0 0 0 0 0 0 0 0 0 0 0 0 0 0 1 1 0 0 0 0 0 0\n",
      "  0 0 0 0 0 0 0 0 0 0 0 0 0 0]\n",
      " [0 0 0 0 0 0 0 0 0 0 0 0 0 0 0 0 0 0 0 0 0 0 0 0 0 0 0 0 1 1 0 0 0 0 0 0\n",
      "  0 0 0 0 0 0 0 0 0 0 0 0 0 0]\n",
      " [0 0 0 0 0 0 0 0 0 0 0 0 0 0 0 0 0 0 0 0 0 0 0 0 0 0 1 0 1 0 0 0 0 0 0 0\n",
      "  0 0 0 0 0 0 0 0 0 0 0 0 0 0]\n",
      " [0 0 0 0 0 0 0 0 0 0 0 0 0 0 0 0 0 0 0 0 0 0 0 0 0 0 0 0 0 0 0 0 0 0 0 0\n",
      "  0 0 0 0 0 0 0 0 0 0 0 1 1 0]\n",
      " [0 0 0 0 0 0 0 0 0 0 0 0 0 0 0 0 0 0 0 0 0 0 0 0 0 0 0 0 1 0 1 0 0 0 0 0\n",
      "  0 0 0 0 0 0 0 0 0 0 0 1 1 0]\n",
      " [0 0 0 0 1 1 0 0 0 0 0 0 0 0 0 0 0 0 0 0 0 0 0 0 0 0 0 0 1 1 1 0 1 0 0 0\n",
      "  0 0 0 0 0 0 0 0 0 0 0 0 0 0]\n",
      " [0 0 0 1 0 0 1 0 0 0 0 0 0 0 0 0 0 0 0 0 0 0 0 0 0 1 0 0 0 0 0 0 0 1 1 0\n",
      "  0 0 0 0 0 0 0 0 0 0 0 0 0 0]\n",
      " [0 0 0 0 1 1 0 0 0 0 0 0 0 0 0 0 0 0 0 0 0 0 0 0 0 0 0 1 0 1 0 1 0 0 1 0\n",
      "  0 0 0 0 0 0 0 0 0 0 0 0 0 0]\n",
      " [0 0 0 0 0 0 0 0 0 0 0 0 0 0 0 0 0 0 0 0 0 0 1 1 0 0 0 0 0 1 0 1 1 0 1 0\n",
      "  0 0 0 0 0 0 0 0 0 0 0 0 0 0]\n",
      " [0 0 0 0 0 0 0 0 0 0 0 0 0 0 0 0 0 0 0 0 1 0 0 0 0 1 0 0 0 0 1 1 0 0 0 0\n",
      "  0 0 0 0 0 0 0 0 0 0 0 0 0 0]\n",
      " [0 0 0 0 0 0 0 0 0 0 0 0 0 0 0 1 1 0 0 0 1 0 0 0 0 1 0 0 0 0 0 0 0 0 0 0\n",
      "  0 0 0 0 0 0 0 0 0 0 0 0 0 0]\n",
      " [0 0 0 0 0 0 0 0 0 0 0 0 0 0 0 1 1 0 0 0 1 0 0 0 0 1 0 0 0 0 0 0 0 0 0 0\n",
      "  1 0 0 0 0 0 0 0 0 0 0 0 0 0]\n",
      " [0 0 0 0 0 0 0 0 0 1 0 0 0 0 0 1 0 0 0 0 0 0 0 0 0 0 0 0 0 0 0 0 0 0 0 1\n",
      "  0 1 0 0 0 0 0 0 0 0 0 0 0 0]\n",
      " [0 0 0 0 0 0 0 1 1 1 1 1 0 0 0 0 0 0 0 0 0 0 0 0 0 0 0 0 0 0 0 0 0 0 1 0\n",
      "  0 1 0 0 0 0 0 0 0 0 0 0 0 0]\n",
      " [0 0 0 0 0 0 0 1 1 0 1 1 1 0 1 1 0 0 0 0 0 0 0 0 0 0 0 0 0 0 0 0 0 0 0 1\n",
      "  1 0 0 0 0 0 0 0 0 0 0 0 0 0]\n",
      " [0 0 0 0 0 0 0 0 0 0 0 1 0 1 0 1 0 0 0 0 0 1 1 0 0 0 0 0 0 0 0 0 0 0 0 0\n",
      "  0 0 0 0 0 0 0 0 0 0 0 0 0 0]\n",
      " [0 0 0 0 0 0 0 0 0 0 0 0 1 1 1 0 0 0 0 0 1 0 0 1 0 0 0 0 0 0 0 0 0 0 0 0\n",
      "  0 1 0 0 0 0 0 0 0 0 0 0 0 0]\n",
      " [0 0 1 0 0 0 0 0 0 0 0 0 0 1 0 0 0 0 0 0 1 0 1 0 0 0 0 0 0 0 0 0 0 0 0 0\n",
      "  1 1 1 0 0 0 0 0 0 0 0 0 0 0]\n",
      " [0 0 1 0 1 0 0 0 0 0 0 0 0 0 0 0 0 0 0 0 0 1 0 0 0 0 0 0 0 0 0 0 0 0 0 0\n",
      "  0 0 1 1 0 0 0 0 0 0 0 0 0 0]\n",
      " [0 0 0 1 0 0 0 0 0 0 0 0 0 0 0 0 0 0 0 0 0 0 0 0 0 0 0 0 0 0 0 0 0 0 0 0\n",
      "  0 1 0 1 1 0 0 0 0 0 0 0 0 0]\n",
      " [0 0 0 0 1 0 0 0 0 0 0 0 0 0 0 0 0 0 0 0 0 0 0 0 0 0 0 0 0 0 0 0 0 0 1 0\n",
      "  0 0 0 0 1 1 0 0 0 0 0 0 0 0]\n",
      " [0 0 0 1 0 0 0 0 0 0 0 0 0 0 0 0 0 0 0 0 0 0 0 0 0 0 0 0 0 0 0 0 0 1 1 0\n",
      "  1 0 0 1 0 0 0 0 0 0 0 0 0 0]\n",
      " [0 0 1 0 0 0 0 0 0 0 0 0 0 0 0 0 0 0 0 0 0 0 0 0 0 0 0 0 0 0 0 0 0 0 1 0\n",
      "  1 0 0 0 0 0 0 0 0 0 0 0 0 0]\n",
      " [0 0 0 0 0 0 0 0 0 0 0 0 0 0 0 0 0 0 0 0 0 0 0 0 0 0 0 0 0 0 0 0 0 1 1 0\n",
      "  0 0 1 0 1 0 0 0 0 0 0 0 0 0]\n",
      " [0 0 0 0 0 0 0 0 0 0 0 0 0 0 0 0 0 0 0 0 0 0 0 0 0 0 0 0 0 0 0 0 0 0 0 1\n",
      "  1 1 0 0 0 1 0 0 0 0 0 1 1 0]\n",
      " [0 0 0 0 0 1 1 0 0 0 0 0 0 0 0 0 0 0 0 0 0 0 0 0 0 0 0 0 0 0 0 0 0 0 0 1\n",
      "  0 1 1 1 0 0 0 0 0 0 0 1 1 0]\n",
      " [0 0 0 0 0 0 1 1 0 0 0 0 0 0 0 0 0 0 0 0 0 0 0 0 0 0 0 0 0 0 0 0 0 0 0 1\n",
      "  1 0 0 1 0 0 0 0 0 0 0 0 0 0]\n",
      " [0 0 0 0 0 0 0 1 0 0 0 0 0 0 0 0 0 0 0 0 0 0 0 0 0 0 0 0 0 0 0 0 0 0 1 0\n",
      "  0 1 0 1 1 0 0 0 0 0 0 0 0 0]\n",
      " [0 0 0 0 0 0 0 0 0 0 0 0 0 0 0 0 0 0 0 0 0 0 0 0 0 0 0 0 0 0 0 0 0 0 1 0\n",
      "  0 1 1 0 0 1 0 0 0 0 0 0 0 0]\n",
      " [0 0 0 0 0 0 0 0 0 0 0 0 0 0 0 0 0 0 0 0 0 0 0 0 0 0 0 0 0 0 0 0 0 0 0 0\n",
      "  0 1 0 1 1 0 0 0 0 0 0 0 0 0]\n",
      " [0 0 0 0 0 0 0 0 0 0 0 0 0 0 0 0 0 0 0 0 0 0 0 0 0 0 0 0 1 0 0 0 0 0 0 1\n",
      "  1 0 0 0 0 0 0 0 0 0 0 0 0 0]\n",
      " [0 0 0 0 0 0 0 0 0 0 0 0 1 1 0 0 0 0 0 1 1 0 0 0 0 0 0 1 1 1 0 0 0 0 0 0\n",
      "  0 0 0 0 0 0 0 0 0 0 0 0 0 0]\n",
      " [0 0 0 0 0 0 0 0 0 0 0 0 1 1 0 0 1 0 0 0 0 1 0 0 0 0 1 1 1 1 1 0 0 0 0 0\n",
      "  0 0 0 0 0 0 0 0 0 0 0 0 0 0]\n",
      " [0 0 0 0 0 0 0 0 0 0 1 1 1 0 0 0 0 1 0 1 1 0 0 0 0 1 0 0 0 0 0 1 0 0 0 0\n",
      "  0 0 0 0 1 0 1 0 0 0 0 0 0 0]\n",
      " [0 0 0 0 0 0 0 0 0 1 1 0 0 0 0 0 0 1 0 0 0 0 0 0 1 1 0 0 1 0 0 1 1 0 0 0\n",
      "  0 0 0 0 1 0 1 0 0 0 0 0 0 0]\n",
      " [0 0 0 0 0 0 0 0 0 0 1 1 0 0 1 1 0 1 0 0 0 0 0 1 1 1 0 1 0 1 0 1 1 1 0 0\n",
      "  0 0 0 0 0 1 0 0 0 0 1 1 0 0]\n",
      " [0 0 0 0 0 0 0 0 0 0 0 0 0 0 0 0 0 0 0 0 0 0 0 0 1 1 0 0 1 0 0 1 1 0 0 0\n",
      "  0 0 0 0 0 0 0 0 0 1 0 0 0 0]\n",
      " [0 0 0 0 0 0 0 0 0 0 0 0 0 0 1 0 0 0 0 0 0 0 0 0 0 1 0 0 0 0 0 1 0 0 0 0\n",
      "  0 0 0 0 0 0 0 0 0 0 0 0 1 0]\n",
      " [0 0 0 0 0 0 0 0 0 0 0 0 0 0 0 0 0 1 1 0 0 0 0 0 0 0 1 1 1 1 1 0 0 0 0 0\n",
      "  0 0 0 0 0 0 0 0 0 0 0 0 1 0]\n",
      " [0 0 0 0 0 0 0 0 0 0 0 0 0 0 1 0 0 0 0 0 1 0 0 0 0 0 0 1 1 1 0 0 0 0 0 0\n",
      "  0 0 0 0 0 0 0 0 0 0 1 0 0 0]\n",
      " [0 0 0 0 0 0 0 0 0 0 0 0 0 0 1 0 0 0 0 0 0 1 0 0 0 0 0 0 1 0 0 0 0 0 0 0\n",
      "  0 0 0 0 0 0 0 0 1 1 1 0 0 0]\n",
      " [0 0 0 0 0 0 0 0 0 0 0 0 0 0 1 0 0 0 0 0 0 1 0 0 0 0 0 0 0 0 0 0 0 0 0 0\n",
      "  0 0 0 0 0 0 0 0 1 1 0 0 0 0]\n",
      " [0 0 0 0 0 0 0 0 0 0 0 0 0 0 1 1 0 0 0 1 1 1 0 0 0 0 0 0 0 0 0 0 0 0 0 0\n",
      "  0 0 0 0 0 0 0 0 1 0 0 0 0 0]\n",
      " [0 0 0 0 0 0 0 0 0 0 0 0 0 0 0 0 0 0 0 0 0 0 0 0 0 0 0 0 0 0 0 0 0 0 0 0\n",
      "  0 0 0 0 0 0 0 0 0 0 0 0 0 0]\n",
      " [0 0 0 0 0 0 0 0 0 0 0 0 0 0 0 0 0 0 0 0 0 0 0 0 0 0 0 0 0 0 0 0 0 0 0 0\n",
      "  0 0 0 0 0 0 0 0 0 0 0 0 0 0]]\n"
     ]
    }
   ],
   "source": [
    "def iterate(Z):\n",
    "    # Count neighbours\n",
    "    N = (Z[0:-2,0:-2] + Z[0:-2,1:-1] + Z[0:-2,2:] +\n",
    "         Z[1:-1,0:-2]                + Z[1:-1,2:] +\n",
    "         Z[2:  ,0:-2] + Z[2:  ,1:-1] + Z[2:  ,2:])\n",
    "\n",
    "    # Apply rules\n",
    "    birth = (N==3) & (Z[1:-1,1:-1]==0)\n",
    "    survive = ((N==2) | (N==3)) & (Z[1:-1,1:-1]==1)\n",
    "    Z[...] = 0\n",
    "    Z[1:-1,1:-1][birth | survive] = 1\n",
    "    return Z\n",
    "\n",
    "Z = np.random.randint(0,2,(50,50))\n",
    "for i in range(100): Z = iterate(Z)\n",
    "print(Z)"
   ]
  },
  {
   "cell_type": "markdown",
   "metadata": {
    "id": "YY60vfC0iaXD"
   },
   "source": [
    "#### 89. How to get the n largest values of an array (★★★) \n",
    "(**hint**: np.argsort | np.argpartition)"
   ]
  },
  {
   "cell_type": "code",
   "execution_count": 329,
   "metadata": {
    "id": "nJ5H3UNeiaXE"
   },
   "outputs": [
    {
     "name": "stdout",
     "output_type": "stream",
     "text": [
      "[9009 7579 1605 7482 3113 1459  532 7673 1346  930 8089 9781   29 5097\n",
      " 6858 2146 3887  393 9264 1475 5779 3164 1104  650 2149 2671 5583 3793\n",
      " 6356 9704 7810 8311 6385 2497 7078  740 1099 6636 7831 7715 2863  229\n",
      " 4858 4350 1993 9442 8256 6579 5215  603 6137 9725 9978   81 1147 8466\n",
      " 9963 8235 5791 5438 8148  334 9044  615  526 1412 8605 6225 1799 6253\n",
      " 3984 6436 8454 6854 6171 6081 2746 8938 3991 4251 6011 9730 8751 5004\n",
      " 4787 3084 2933 6742 5432 6198 4106 4546   87 8510 9137 4738 8300 9549\n",
      " 9997 6656 2437 7054  580 2184 1837 8764 5808 3722 8749 2222 4772 7429\n",
      " 1943 8962 7700 2423 5296 4292 2046 5679 3612 3460 4037 2980 3735 9527\n",
      " 8000  239 5893  963 7399 7510 2527 6814 6561 6437 5946 6404 1807 9111\n",
      " 6602 1578 5382 1250 8485 5252  104  657 2341 9753  361 1751 8346 5654\n",
      "  199 9159  896 9901 7587 2472 2637 5079 4478 5321 2636 7828 1428 2246\n",
      " 3609 1841 5015 4240 8262 7851 7865 7787 6120 4696 4908 7416 7452 3723\n",
      " 8130  967 6331 8270 8714 7900 5372 8642 7005 9309 8034  123 8890 7866\n",
      " 7175 5694 1633 5170 2842 5822 3971 7954 1131 3455 5388 8536 9248 5032\n",
      " 2012 2124 1333 7315 8768 1917 7413 3268 5756  766 3342 5775 7567 1537\n",
      " 6729 4675 8067 3138 5634 9051 8018 8500 1232 6520  486 4011 6741 9375\n",
      " 7903 2175  154 4612 6261 1815 2911 8690  548 1440 6594 2946 2049 2288\n",
      " 9714 7483 5264 4463 9729 9458 7264 5829  617  279 4063 4619 9123 8630\n",
      " 1777 8979 2357 1041 7986 9653 3384 8011  141 4353 9735 8641 4351 1976\n",
      " 6131 4255 9251 8432 8271 4296 6637 1997 2661 6491 5971 8705 5126 9814\n",
      "  399 7299 1922 6147 4414  790 7231 8487 8295  181 2590 7661 7811 6772\n",
      " 6349  607 1311  153 2958 4476 3510 8952 4562 7657  840 8572 2122 6319\n",
      " 2791 4542 7031 8245 6446 6277 5098 2841 8893 4116 5077 7826 2378 7796\n",
      " 3204 3040 4793 9221  497 5673 8352 4667 6500 7172 1944 5789 9721 5597\n",
      " 5636 9191 7963 9314 9262 9390 2824 8653 7320 5895 1746 4690 4885 5708\n",
      " 4536 7381 2125 6752 7380 4322 2954 9605 3124 2718 9010 9293 9484 5570\n",
      " 1233 5604 3371 9613  294 3142 7726 3110 6642 7946 1278  212 5251 5943\n",
      " 3669 3835 7779 7612 8370 1661 2368 2339 6211   61 5563 9629 2763 2770\n",
      "  964 1479 6826 5585 2730 8062 2594  401 1301 5737  524 6925 8327 9196\n",
      " 6022 7326 5852 5148 2319  173 4957 5573 7417  783 3967 9281 4534 5883\n",
      " 1423 9072 1811 8317 1134 2807 6116 3791 4614 2186  880 6441 5715 4960\n",
      "  390 1970 6379 7262 1557 7655 2032 2820 8087 3073 2939 7953 9586 1587\n",
      " 7137  489 8973 9711 1782 8440 9453 6412 3852 7833 4950 8442 3179 8628\n",
      "  678 7563 8190 9307 1776  736 7752 8814  340 5865 8672 8931 2697 4405\n",
      " 8747 6726 2586 7638 5795 9649 1115 6367 5622 3548 3615 2085 7285 4082\n",
      "  725 3318 6646  447 3237 8287 2408 5508 4307  455 2619 8014 3889 6468\n",
      " 7777 9795 3088 8624 5834 4013   50 4594 9759 8468 8354 6898 2114 5031\n",
      " 6332 4610 8866 1629 9085 1959 6965 1251 2615   27   18 2715 4202 9347\n",
      " 6578 7378 7561 3919   24 5395 1526 9603 4555 4104 2380 9495 9919 9423\n",
      " 1772 5901 4963 7757 1480 7317 9804 8229 4533 9365 6496 4934 6999 2273\n",
      "  244 8446 8664 7150 5648 8448 5780 4554 7194 1418 6819 6844 5201 2783\n",
      " 3471 8160 3115 1589 2490 6977 8094 9640 9379 4318 8968 4028 3372  690\n",
      " 3762 6346 9490 7138 3888 8065 9869 9378 2648 9986 9558 6506 5467  238\n",
      " 1202  491 1812 6021 8449  351 7908 2618 9275  570 5305 8916 9332 9954\n",
      " 2236 5258 2693 7126 7086 3640 9764 4750  661 9400 2187 4616 1656 5732\n",
      " 9313 7948 4906 6467 8223 2053 8136 9092  759 8691 3796 7277  749 2891\n",
      " 1485  442 8920 9216 6657 9472 3409 6232 5069 1500  290 7274 9317 6185\n",
      " 1766 6546 7971 2908 5605  563 2847 4410 7861 8488 5711 1136 9900 4938\n",
      " 3009 6299 6450 6497 3708 8076 9538 5619 5799 8811 8983 9117 5209 5572\n",
      " 3821 6493 9308 4328 6490 1360 8220 4570 8398 7201 3038 8438 1813 5442\n",
      " 1893 7460 7765 2700 3453 9783 7868  955 7869 7099 3629 5299 2270 5638\n",
      " 4865  314 1694 7072 8813 8787 2162 3093 6061 2084 7340 6818 7697 6662\n",
      " 4358 7762 7747  742 7029 9922 3595  331 2294 8420 4020 2309 9918 3911\n",
      " 2399 6312 5374 9419 2481  877 9134 6610 8639 7142 4993 7141 5511 6901\n",
      " 3768 7260  117  787 4822 1571 9754 7085 2231 6515 2102 3144 2829 9827\n",
      " 1216 6028 9386  803 9276 9270 1197 9408 9996 1948 2310  148  758 1612\n",
      " 6305 9404 5322 4212 6641 9049 9665 9993 8483  780 6462 7485 2737 2139\n",
      " 9413 2524 8861 4543 5118  460 2981 9520 6615 4483 6994 1238 6173 2195\n",
      " 3683 1681 7918  612 7632 1244  813 6850  609 2545 9821 8733  538  680\n",
      " 2077 8792 7991 2320 5840  784 9015 3614  879 8797 4492 8763 1563 8375\n",
      " 7436 7504 3928 1302  412 5507 5985 8129 9646 1940 1933 7794 5117 5420\n",
      " 2611  289 6886 2875 4460 2557 5042 7103 6015 8424 7691 6191 7821 1683\n",
      " 2711  823  921 6683 4892 9870   15 9219 9777  381 3375 4933  375 3780\n",
      " 2970 2013 1616 4155 4032 2576 9930 6487 5210 4773 7292 9776 5660 3884\n",
      " 9757 2449 4947 5777 4474 3512 8841 7123 9115 3002 9488 1925 3430 9274\n",
      " 4575 1568 7863 8189 9184 2248 8250 6440 9415 6187 9040 3503 6354 2634\n",
      " 9661 7217  596 1783   37 9260 5729 1273 4428 5769 4659 5882 8472 5830\n",
      " 7267  168 5554 6580 3536 5213 8532 4006 5315 9323 2857 9809 3199 7263\n",
      " 1015 7840 1927 4763 9411 7233  402 5521 3109  293 5461 1288 5352 7800\n",
      " 2101 3916 7922 9008 4237  167 2603 3999 6593 6590 3367   94 8033 3060\n",
      " 1047 1538 3477 5691 4338 1004 1685 8720 5970 6643 7653 7164 1308 5502\n",
      " 3813 5717 5687 6878 9886 8337 3292 7766 2538 2121 2587 5172 9591 4860\n",
      " 5279 9508 5541 1640 9201 5602 4137 2865 5675 3000 3010 3576 6669 5426\n",
      " 9255 4644 1825 7761 1070 4937 9403 9042 3958 7284 8088 4249 4995  363\n",
      " 1083 8961 4915  341 1123 2151 6604 7574  622 7628 2021 3228 8981 4227\n",
      " 8414 8182 4102 9055 2815  721 9855 7978 1808 4238 3995 7130 9344 3487\n",
      " 1733 4983  435 2178 7052 1034 9464 3357 6426 9286  211 5911 8660 1923\n",
      " 4603 8093 9771  814 5686 3866 3764 8194 2428 6552 3403 1482 6097 6178\n",
      " 4883 9521 2823 8177 5450 6960 9128 3440 9632 5411 8080 8728 6043 4092\n",
      " 2523 6917   64 9681 9689 2431 4223 6286 6371 9358  957 6350 1267 4959\n",
      " 9878 6897 1218 4232 7923 7004 3195 6922 1367 2969 5844 7181 9556 1695\n",
      " 5073 5704 7514 8456 9861 2345  163 2323 8005 6353 3783 8780 1754 3045\n",
      " 9371 3479 3900 4234 6547 6273 4455 5674 6034 1718 4107 8556 3704  374\n",
      " 6235 7674 9958 9505 9976 7007 3701 7160 8214 5364 2100 2018 7400 2379\n",
      " 1744 1299 1731 5837 2299 3362 5964 6570 1965   21 7798 4692  918 4578\n",
      " 8404 4532 9368 3379 3654 5995 6209 5401 3390 2629 8211 1836 5030 7505\n",
      " 2165 2901 8928 2562 5367 6464 3807 2376 7526 7920   28 2612 4556 6799\n",
      " 4008 8421 9148 1140 9228 1270 3823 1398 2811  514 5950 6442 5854 1456\n",
      " 7952 1413 4895 4100 8670 8881 9409 5314   93 1869 3165 3801 5181 2402\n",
      " 7298 5540 2883  862 6052 4888 9723 1873 9455 3920 3356 3520 1145 5449\n",
      " 5139 9493 6668 3007 1117  227 2140 6485 6892 6216 2814 7364 5355 6526\n",
      "  492 2269 8049 9767 4278 8523   82 6449 5195 7816 8098 9974 7758  552\n",
      " 4500 8596 4946 2525 6921 8562 7605 7648 4170 1424 5102 1572 6415 2699\n",
      " 1585 4363 9651 9810 4520 4951 7325 6378 5763 1653 3393 4804 3712 2262\n",
      " 8132 9476 1315 1707 8252 5783 5166 6323 2639 1520 9138 5100 1938 5961\n",
      " 1530 4779 6535 8815 6024 8022 1260 6281  394 9263 9547 5832 8575 7198\n",
      " 3674 3235  368 3075  973 1066 3559 5973 3141 3050 6056 6338 1000 4693\n",
      " 1794  482 1144 6202 7532 4407 5800 4900 3574 1378 1024 7741 7949 4670\n",
      " 8816 8635 4442 2192 2886 8273 2446 3578 1318 7346   10  824 9912 9265\n",
      " 7773 3899 6172 6916 1205 1673 4989 3427 5615 7438 6315 8331 4144 1956\n",
      " 4054 7143  572 8043  251 1401 1092  830 2197 3013 5574 6411 8580 5193\n",
      " 6473 8436 1190  245 2050 8439 5501 7425 4712 7306 8428 6212 2616 6206\n",
      " 4561 9405 2227 8392 8314 3474  611 7390 4715 2214 8554 6881 7237 5271\n",
      " 4790 3759 4025 2971 7964 9121 9150 4101 5719 1126 4040 8240 8493 7839\n",
      " 4381 5609 3748 3472 7530 3066 8042 9889 1920 5864 5668 2210  943 5539\n",
      " 2067 8591 1962 4070 4705 9113 3410 8946 1607 4039 5245 4402 4094 6511\n",
      " 3258 8166 9746 2758 1361 1252 7658 4655 8504 6005 6326 8840 1848 7140\n",
      " 7876 4966 2164 7976 1167 1988 6678 2866 9568 9327  474 3266 8750 7878\n",
      " 1534 6808 1373 2451 5012 7439 4163 8527 9806 8162 5759 6900 2681 6614\n",
      " 9835 1791 7377 9241 3495  111 6543 3163 3859 6051 5066 7639 4254 1184\n",
      " 4755 2898  872 3388 7443 3028 6903 2458 2745 8974 2030 6242 8467 4627\n",
      " 3664 8265 5801 6793 3865  107  901 9294 5111 6064 2628 5884 3742 4061\n",
      " 9864 1091 5018 9611 2436  789 2914 2182 9923 7999  566 7451 3714 7718\n",
      " 1967 7060 3906 2024 2235  912 7044 2706 5137 9087 9701 8307 9231 8989\n",
      "  686 1490 6722 2932 8455 2419 3623 6336 7250 6936  679 7200 7097 6220\n",
      " 6377 4162 3600 3080 1628 4439 5730 9363 3039 4939 9247 4574 2086 8877\n",
      " 6145 5828 8213 1369 6544 7120 7300 9397 9744 3044 7528 6080 2426 5286\n",
      " 9627 7893 5316 7593 2895 7503 3577 3137 8193 8561 9090 4997 6067 7243\n",
      "  286 4057 9254 2529  261 9726 9387 6853 1461 7736 9420 4415 2066 8225\n",
      " 4811 3370 5944 8186 3678 7858 7352 6023 2664 9319 8900 7960  732 1793\n",
      " 6478 6044 6753  338 4088 5340 9731 8735 7374 6953 1768 9703 1888 3483\n",
      " 2833 7464 8678 6738 7275  947 1646 8568 4634 5406  701 5681  592 5488\n",
      " 3085 5247 5307 7602 6439   42 6135 5151 4400  571 6260 2966 9173 7572\n",
      " 6934 8882  591 6696 2882 1094 7372 4369 9020 8405 3824 7006 1029 2621\n",
      " 8711 9774 1921 7896 4852 4403 1678 7058 1896 9083  664 1515 8292 9256\n",
      " 2798 5793 8689 7819 5241  925 9554 8025 2889 1082 8459 2218 2925 7158\n",
      "  464 6681 4153 8859 1005 9959 5487 8417 8661 9361 7414 3662 8365 3295\n",
      "  427 4176 6494 9546 8940 1421 9782 7101 7527    7 3229 6945 5562 6252\n",
      "  257 9674 6389 1414 2072 3041 2568 9622 9431 7249 5429 6104 3260 1556\n",
      "  226 5918 6540 4444 4717 7074 6985 1774 9155 9768 4841 6801 4348 3279\n",
      " 8260 6416 5435 3636 3240 3672 8774 2607 4980  974 9999 4282 2314 2080\n",
      " 1116 1929 6624 2251 5099 7494 4247  948 6099 2158 9887 6601 7382 9628\n",
      " 7432 4681 7289 8820 7053  911 3603 9962 4084 5228 8506 7219 1343 3665\n",
      " 9571 6503 8612 7316 5515 5121 8560 1501 9171 4721 6502 1257 4920 1576\n",
      " 8029 1597 2832 8715 2407 2852 8976 3019 8040 5696 7745  873 8075 2777\n",
      " 1291 4425 3031 6517 7945 5552 1664 6194  703 8581 5754 7129 8708 2290\n",
      " 7258 2409  865 8163 9417  919 9105 8410 1567 7604 7148 2721 9356 3620\n",
      " 1068 5915  383 8844 5222 9615 2343 8583 6140 4810 2469 1380 5948 4722\n",
      " 1831 6215 8794 3062 4827   62 2311 9717 9222 2435 3990 9675 3828 5362\n",
      " 6565 8416 3776 9515 1963 8103  436 4157 1966 5738 7333   84 8249 8298\n",
      " 9031 2793 4236 5062 4198 3942 2185 3839 6635 8118 9573  291 4831 5723\n",
      " 2556 5534 5416 1874 8778 4958 4193 5371 8380 1395 8381  354 6621 7370\n",
      " 3408 8505 1985 9360   39 4861 3170   56 7731 5347 9437 6626 2488 7041\n",
      " 5391 5108 4535 7727 9334 8302  323 5265  224 2537 4190 3745 1601 9457\n",
      " 7426 2278 7917 1093 1304 9858 6951  860 5414 3482 8899  252 4901 8041\n",
      " 1445 4665 5418 2153 9876 8994 6566 9839 5263 7351 1463 1995 8479 7001\n",
      "  505 1349 2888 5001 4464 7291 9429  533 5481 5565 4333 2631 5627 1627\n",
      " 3695 8930 9091  672  169 5464 1387 4833 3910 1547  448 8969 9250 8301\n",
      " 7045 7296 6980    4 4323 4741 4658 1027 9047 9482 5008 7625 9799  994\n",
      " 3284 6102 9190 7373 6046 1449 5538 2571 1154 4775 6761 7586 2722 5460\n",
      " 2159 1354 7933 5214 5331 2150 2625 3095 9266 7646 6226 2205 8852 3193\n",
      "  421 2284 5620 1065 5524 5881 4749 6863 7981 2828 2703 1256 8734 3174\n",
      " 4436  277 5758 5909 1609 8399 8199 4691 2007  387 8860  546  788 1511\n",
      " 8788 4689  398 6709 3784 9142 8724 2249 9648 1372 8789  738 2772 2752\n",
      " 7391 9773 3923 5947 1353 1365 4081 6967 6707 7791 6647 4663 1124  710\n",
      " 1978 7384 7176 9856 6929 5892 7192 8685 9988 8948  278   83 1347 1830\n",
      " 5443 9885 2708 2843 8818 1324  696 1949 5969 5493 7912 4388 3962 1391\n",
      " 7476 3352 6830   40 9135 6595 3294 5192 3321 8070 6966 6330 2071 7210\n",
      "  635  717 4528 8618 5967 4041 9230  844 4969 3306 1209 9236 1574 3663\n",
      " 8244  647 9491 9516 1907 3746 1497 3339 3617 9944 3171 8113 1551 2848\n",
      " 5857 4686 1341 8782 5933 3767 7015 8726 1069 9496 5161 9346 8824 2420\n",
      " 1561 7395 4511  993 4134 9984 4152 6474 8617 9427 8237 8675 5275 1146\n",
      " 5753 6306 1133 4965 6654 1698 7732 9129 7473 8289 7580 9470 6745 3564\n",
      " 4072 3630 4468 7588 6682 4430 9625 8356 7529 9302 5959 3594 4335 8772\n",
      " 6706 3396 3527 9779  825 2074 5132  638 4791 6817 3622 3511 6963 7108\n",
      " 2837  883 1427  917  869 7977  322 6585 7989 5875 8429 5140 3513 5728\n",
      " 3087 2406 9860 6927 7226 5500 3715 1945 6083  599 2887  881 3350 9683\n",
      " 1502 1383 2588 5095 7080 5642 5770 9126 8584 9041 1022 4654   44 8195\n",
      " 9621 1032 4513 8277 2803 4977 6351 5160 5084 6432  605 3091 7017 6373\n",
      " 1989 9654 1310 8470 6600 8876  812 8587 2443 4113 9998   77 9454 7583\n",
      " 3024 2906 1909 7575 8226 4085 1377 6082 5606 5089 7980 1192 6652  715\n",
      " 8793 1063 7817  671 7542 3961 5471 3359 3673 9699  246 1788  950  326\n",
      " 7135 3434 7322 2202 3176 7215 1185 6915 9666 6363 2484  382  820 5083\n",
      " 7013 9667   48 4096 9161 3334 4733 8755 2434 7303 6289 7582  353 3817\n",
      " 4846  628 7990 3005 2774 2696  179 2498  750 6247  370 3329 8291 4495\n",
      " 2725 9559 2623 1545 7724 7995 7163 5155 6318 5180 3846 4706 9845 9933\n",
      " 6059 3037 1335 7209 6550 8202 2893 9692 1834 5133 4429 3626 6431 9021\n",
      " 6165 6908 2237 3429 1540 7904 3902 3448  577 2942 6168 9048  608  256\n",
      " 1119 2054 4902 8673 8234 8373 3326 8901 4605 2987 2169 4515 1141 3419\n",
      "  856 2825   80 2780 1626 8895 4788 8142 6295  569  953  343 2591 4523\n",
      "  254 3454  136  103 5014 4105 9574 5361  978 1057 8588 8593 7925 8268\n",
      " 6692 6733 3488 6203 7985  430 5610 1757 5559 6129 1433 9065 6138  452\n",
      " 5410 5703 7310 8236 2569 2321 7368 9800 5074 2503 9722 5351 1975  861\n",
      " 1709 1809 6888 5349 8887  658 6325 8073   51 8312 7068  147 5992 9468\n",
      " 1165 4179 3877 8402 1717 5046 5504 8288 8647 1914 1739 9760  937 4103\n",
      " 6249  975  461 5096 3206 9567 1359 8611  187 5056  589 6113 5021 6339\n",
      " 8046 1951 4049 6658 1736 1221 6037 3491 3705 8662 7065 3552 1935 6495\n",
      " 1860 4017 9713 1503 7213 3263 6759 7356 8167 6188 2871 3606 3130 9695\n",
      " 8633 1759 8013 3509 8775 3514 7459 2726 3874 3397 6890 1525 2427 6834\n",
      " 9240 9421 6069 2217 4034 7177 5267 5531 6062 2082 7343 5421 9304 3433\n",
      " 8457 5647   38 6352 8854 1871 5184  922 9633 8357 5710 9553 3525 1087\n",
      " 8694 5339 2467 7557 4128 2398 1775 5250 1355 3543 5328  735 6114 6091\n",
      " 2663 1019 4177 7913 5761 7860 7708 9929 2881 6518 3076 8296 3765 2915\n",
      " 3302  498 4601 6640 6721 2059 4222 4332 8072 5358 9977 4257 3789 1635\n",
      "  186 3670 2716 1493 9525 4754 6807 3782 7838 8350 2809 8101 9043 2701\n",
      " 6163 1741 9343 7975 5612 9671 2651 6795 3297 6310 2742 9836 1035 1280\n",
      " 4912 1865 3521 9807 4418  457 9805 8349 8830 5692 1045 6867 7844 3744\n",
      "  969 4416 8278 7885 4537 8886 6110 4620 1711 2765 3985 6049 2302 3698\n",
      " 1721 6805 9766 3197 5233 9174 7506 8503 5657 9145 9852 6907 9401 6677\n",
      " 4824 7362 8546 1853 5526 2223 8266 2243 5522 7875 6246 4905 9238 4199\n",
      " 8481 2465 9066 4918 7725 3604 8954 5807 9752 9027 6302 1833 7441 4676\n",
      " 1026 4141 9531 1614 7290 4598 9849 2445 6531 5588 1297 9480 2355 4291\n",
      " 6403 2787 5235 7318 6727 5682 1984 4586 6563  217 9108 2511 9673 2365\n",
      " 8889 4117 9590 7566 6933 2579 6746  931  197 5887 1668  773 2349 6077\n",
      " 2839 3652 6739 6599 2297 3421 5390 1236 9765  761 2669 4704 9136 2704\n",
      " 6237 4823 3324 2283 6156 4319 7663 5169 8385 5282 6638 2148 2790 6423\n",
      " 2183 4708 5980 3269 5571 9471 4679 6995 3432 1723 3327 8149 2522 6374\n",
      " 1604  376 9724 8538 6007 5206 2079 1177 1964 5858 1822 4390 4443 2518\n",
      " 8303 1277 3891 6568 2037 6106 1593 2225 4233 8313 5238 1595 9366 8819\n",
      " 2396 5525 8007 2199 4293 4450 9634 6821 3795 9450 5941 8549 8995 6420\n",
      " 9990 6649 4143 4588 9921 2390 6228 2975 5503  958 6296 8894 4280 7768\n",
      "  728 2324 1523 3862 4395 4868 9851 3147 1049 4893  459   19 3280 4898\n",
      " 3930 1518 7998 9252 5757 6419 4383 3879 9183 9383 9600 8679 9497 8044\n",
      " 4399  945 7020 8246 4337 9608 2878 2845 2592 2729 8856 8740 2558 5287\n",
      " 9278 6673 8206 5551 4488 4558 6118 8309 1164 7433  385 4110 1481 9025\n",
      " 9940 3758 5248 6337 4544 8338 9088 7667 7252 1305 2389 8032 4178 9545\n",
      " 3136 6445 9587 5677 2912 5942 8785 1210 7548 8264 1013 8257  584  858\n",
      " 7048 7173 3739  613 7276 8279  219 5081 2596 9035 3300 8932 9686 1342\n",
      " 1632 8176 1666 8509 3478 4290 2541  462 7211 1356 9045 7701  188 6827\n",
      " 9867 9863 1247 8853 3166 6812 8879 6542 3727 3304 9449 3192 6816 8374\n",
      " 6342 9177 4854  115 6401  666 1085 9172 5129 9979 4646 6902 5076 7594\n",
      " 6344  636 4210 1201 2965 2691 3413 6969 7405 7812 1505 9737 5457 2963\n",
      " 1376 4713  287 4206 5608 7255 7100 6796 3364   98 7871 3254 5672 1817\n",
      " 6254 1364 8692 5744 1281 6410 3132  988 6402  542 1969 9074 9883 4996\n",
      " 9509 7282 9498 6161  977 4954 1649   73 9691 5484 9433 1932 4550 7571\n",
      " 7533 4038 1651 5055 2978 3869 3740 2539 7670 2358 3208 1415 1407 9645\n",
      " 9888 7152 4927 9618 3154 3117 1910 8057  321 4805 3450 1971 7297 1877\n",
      "  555 1471 9526  392 4505 4758 1064 4120 9529 4159 2680 5027 9315 4694\n",
      " 8571 1431 9951 8197 5925 2719 4767 9098 4967 9740 4109 3248 8238 8913\n",
      " 6300 4582 9916 7168 8939 3168 2675 7845 4803  755 2597  743 5987  228\n",
      " 4809 8850 5635 8744 1228 8425 7122 3250 3348 5853 2665 8773 2741 9388\n",
      " 3461 9606 7749 6381 5468 4698 7111 3221 3682 5766 2338 4924 5439 8809\n",
      " 9602 8092 2692 7205 8870  992 4615 9144 5194 8342 6815 1696 4677 2081\n",
      " 5011 3757 5862 5889  926 4956 1663 4136 6794 9086 1071 1098 1327 5260\n",
      " 8956   72 3915  778 2063 7305 7113 6577  193 8243  242 7988  585  119\n",
      " 9372 8688 3690 6627 9853 6839 4587 3856 9287 4456 6390 3558 8434 1060\n",
      " 5071 7203 9062 7019 8091 7475 8347 6507 1182 1880 5366 6781 4164 2489\n",
      " 9890 2083 5498 3146 8508 3207  550 5143  232 6280 8597 9514 5168 6425\n",
      " 7906 5934 4009 8855  991 1452 2759 9503 9708 7616 3301 5455 9107 6387\n",
      " 3358 3924 6166 9213 3585 8565 2502 3160 5762 6501 1682 8803  213  240\n",
      " 3592  562 5868 1728 4030 4952 6955 6465 5586 2796 1981  155 4518 7737\n",
      " 4671 9732 6525 2827 2595 8021 8061 8233 4875  437 2289 7206 7974 6603\n",
      " 7069 7043 6910 5557 2325 3338 2570 4837 4884 2984 2198 7398 4473 6301\n",
      " 8963 4974 8896 2491 4622 7444 3981 2635 5244 4466  336 3508 8953  458\n",
      " 8777 5051 2995  829 5105 1348 4682 7118  772 1112 4666 2281 9578 5505\n",
      "  665 2642 9706 6025 1528 2856 1076 7359 9564  445 7717 8878 8433 6693\n",
      " 8800 9310 4943 2608 7664 1735 9063 4577 2276 7662 6864 7771  235 2658\n",
      " 7814 7565 6477 9511    0 8544 5428 1258 4876 6316 1672 5300 2057 7455\n",
      " 1084 5975 7234 1803  689 3925 2720 3571 7888 1522 9182 3565 5537 7107\n",
      " 8817 9037 5022 4731  158 3562 8863 4514  143 7711 7469 8395 6982 2927\n",
      " 9235 9972 4330 3808 7621 3905 1608 8648 5678 8663 2403 3395 5393 5040\n",
      " 9199 7431 8683 6702 2767 8847 7792 2455 5940  845 4389 8502 5626 6928\n",
      " 2160 8937 9873 1384 1671 4991 5037 3233 7916 2027 3774 3788  913  292\n",
      " 5564 9089 7780 3763 7344 2045 8121 2196 3481 5685 7931 3385 1460 6734\n",
      " 8172 2060 2775  795 4090 3061 7519 1745 5396 8760 5567 3264 2956 8970\n",
      " 6270 9245 8967 4056  231 7144 8109  420 8137 1665 6033 3145 9440 6556\n",
      " 1295 1700 6758 2439 1622 9338 3709 5957 4502 7256 7609  894 8923 3934\n",
      " 5405 6084 8727 2033 2896 7682 5090 6549 5473 8315 9991 7843 9857 4275\n",
      " 5749 3872 3274 9279 2551 2533 4187 1303 3938 7941 5656 1850 2335 5259\n",
      " 6923 1011 5403   23 4203 2926 4205 7562 6748 8746 2256 2002 1554 9642\n",
      " 8654 8411 5092 2370 3209 1283 1441 5938 7927 7071 1495 6843 3619 1033\n",
      " 5924 6586 7677 2952 1406 9463  705 8476 8336 2464 4454 9053 6238 8586\n",
      " 4301 3766 7539 5785 4709 2241 6042  600 9690 8239 2617 5492 2674 5060\n",
      "  886 8832 9644 1455 2535 1292 6119 4640 6201 4426 2945 8686 3555 8441\n",
      " 7387 6848 6456 8541  131 9075 9727 2181 7170  697 4948  479 9595 1715\n",
      " 8699 7239 9581 9124 9271 4204 6829 5617 5353 1930   31 1879 9243 1271\n",
      " 7694 1135  357   90 2096 6840 1602 9418 2174 4457  121  311 6847 1215\n",
      "  312 2106 8340 3524 5581 3733  297   69 4512 8957 8776 4242 2287 2105\n",
      " 5326 8051 2110 1899 9987 2088 4880 5904 6708 1647 2477 1643 5157 6968\n",
      " 7166 8507 6461 9229 4295 6026 6195 4680 2230 1508 8203 3912 5221 9792\n",
      " 8849 7319 9030 8158 4489 9396 9285 4219 7419 7753 9206 4723 3140 1580\n",
      " 5613 6291 7797 3667 8703 1225 4279 4075 9312 4154 8180 4276 7363 3643\n",
      "  325 7038 5067 7889 5623 1618 4572 1634  508 2689 9569 9882 2788 6233\n",
      " 9707 6710 5306 7785 7823 5963 3463 2266 4604 5921 5543  646 5359 5134\n",
      " 4135 1536 5178 3720 7884 3697 9054 5249 4911 1765 3303 9268 5465 3661\n",
      " 2988 4311 5989 9494 2668 9626 7295 3253 6072 8306 2516 6957 6949 7241\n",
      " 5569 8231  359 6935 8528  987 5064 7719 3908 3692 2393 1163 5253 6513\n",
      " 2142 5356 2268 4458 3586 6623  688 5425 3462 4794 8064 3853 7418 5596\n",
      "  102 7033 1389  810 8181   79 9348 5835 3323  837 4265 8316 4130 1560\n",
      " 7392  466 8078  667 5831 4315 1199 8577 7681 1128  490 8801 2822 8351\n",
      "  335 6132 1631 7536 2735 3312 6731 3159 8145 6883 8945 8426 9162 3648\n",
      " 5256 4552  258  831  200 3771 7025 7450 2734 3458 9895 3550  798  716\n",
      " 4945 6192 7271 8702 3428 9393 6488 5600 8550 7556 3753 5266  109 6149\n",
      " 1432 6269 3994 1443 2547 2480 1864 2135 5281 5578 5200 5838 8361 5746\n",
      " 9832 2840 9739 4982 5825 3968 7115 7367 9381 4553 1388 4910 7227 8614\n",
      " 2512 3741 2872 1454 1402 2902 8717 1769 2453 1689 7576 7660 6000 6660\n",
      " 6873 7488 2929 3281 2265  547 8676 2585 3196 6684 4398 2277 7606 9288\n",
      " 9370 5303 7894 1239 5792 7401 4150 4972  529 9913 1800 9253 6435 2167\n",
      " 6521 3305 7716 7585 9697  807  537 3738 3779 3120 6177 3547 8324 3684\n",
      " 2036 8821  249 2025 3241 4161 3812 9593 8637 8864 5577 8835 3770 4180\n",
      " 1086 4076 4087 1102 2948 9127 7508 9026 9967 8325 4014 5112 2254 9071\n",
      " 2444  942 5599 8982 3977  405 4294 2334 4881 8987 6424 7478 3485 3346\n",
      " 8765 4551 5319 4859 9896 7540 5226 5041 1581 7759 6499 2305 8943 3935\n",
      " 5651 1980 8736  301 2347  694 1882 7607 8343   26 9880 1687 3760 1617\n",
      " 3426 2010 5998 1193 3017  282 7760 5591 2599 2023  719 4828  590 2610\n",
      "  493 3522 6569 4453 3122 4140 4448 9093 5334 6070 3546 4042  826 6167\n",
      " 6564 3191 7095 8704 8431 8966 6918 2542 8513 5778 4228 1620 2934 8950\n",
      " 3939 6413 5741 4935 9822 2670 7879 3680 6283  438 3316  518   89 3444\n",
      " 7937 9478 5354  499 4394 1176 3239 8799 9716 5739 8489 6524  610 1050\n",
      " 3183 1562 6720 3097 7672 5625 8667 7012 3026 6314 7634  434 9073 1973\n",
      " 3936 6414 5211 7139 7134 2936  626 3262 9114 9232 9543 1122 7799 7273\n",
      " 1317 1548 4431 7915 7706 9678 4752 8339 3042 4986 9955 9502 5290 9295\n",
      " 9995 9079 5385 8026 3752 1313 3282 4609  531 8341   43 3288 1582 9412\n",
      " 3078 6196 3845 1610 8378 3519 7125 9322 7618 8208  621  525 1606 7189\n",
      " 3022 6697 9399  315 2138 8958 1212 6214 4300  843 3750 4160  763 4557\n",
      " 1670 8023 3893 4026 2531 7966 1926 5873 8631 7011 8319 7987 4540 1312\n",
      " 6606 1760 8406 9981 1704 2191 4342 6989 1121 2943 4071 6484 4393 2064\n",
      " 7881 7411 4125 9700 7652 6170 2877 9479 6406 5891 1611 7827 5422 5163\n",
      " 6645 7776 5712 5489 3898 9277 4364 1516 5506 3878 4055 1648 2209 6836\n",
      " 1732 1898 2042 7763  706 3944 2705 3819 9169 8615 8255 7853 5908 3333\n",
      " 2369   12 8372 9410 4714 2395 3644 2363 3773 1113  418 5218 4406 5240\n",
      " 2784 5804 8198 6894 2846 6076   55  149 1331 3391  618 4597  651 6536\n",
      " 2091 4626 6964 2286 2600 9335  426 9941 3036 3864 3922  237 2456  389\n",
      " 9884 6141 7997  700 1639 2123 6523 3059 1504 6937 7611 6148 3374 3158\n",
      " 8221 3355 9534 6567 1674 6399 8607   34 5208 5135 8806 5713 9736 6788\n",
      " 9812 9903 7035 4340 2786 1046 3881 9485 1018 6639 2800 3787 7635 7067\n",
      " 3857 1056 6868 4166 4321 1195 8834 1089 8153  417  433 8188 2979 5774\n",
      " 3534 6704 3442 3638 3291 2802 1077 6039 9770 9193 6757 9237  916 5843\n",
      " 3646 3225 3018 6545 4834 2448 3573  909   47 3401 2994 7959 1234 2849\n",
      " 2425 4711 5903 5482  801 4777 1603 4617 8490   33 5598 3156 3167 1129\n",
      "   96  441 7477 4526 3693 3335 5122 3792 3855 5323 1425 4940 4469 1902\n",
      " 8697 1410 8353 8010 9540 2404 8389 5197 9376 7788 5936 3988 7592 8383\n",
      " 8949 5927  887 5910 7601 8781 2301 5751 1290 1701 9280 2909 9925 1469\n",
      " 2232 3497 9341 5624 1074 8362 5000 6851 2645 4737 6717  511 6711 5768\n",
      " 2157 8082 8056 8480 3135 8869 4903 4499 1268 1420 3063 6159 5724 7735\n",
      " 8258 2004 1001  463 5284 7335 1426  806 8707 1529 5806 6889 1977 7404\n",
      " 6438 6859 9964  940 5292 8716 1857 4299 2008 7693 9647 2244 3996 8475\n",
      " 6874 8294 5402 1758 3827 8868 8959 4401 6309 2212 4645 9321 5877 6962\n",
      " 8828 2853 4195  302  791 4771 4701  221 3148 1939 3761 9499 5381 3353\n",
      " 7202 1274 4595 8407 7133 1213 2559 9492 8117 6327 6559 8880 3917  962\n",
      "  989 5145 6548 9831 1891 5173 9589 7151 5045 1446 9078 5735 2505 3634\n",
      " 8330 7774 2549 7360 8960 6970 2540 6035 4264 8842 2957 5510 7434 6010\n",
      " 8384 7784  961 1953 7355 9780 4250 8157 5205 2678 2654 7016 8458 7499\n",
      " 4849 5419 5010 7265 2147 1156 5805 1061 7801 2795 3724 5459 2371 2457\n",
      " 1279 2951 9928 9143 6105 5445 7613 5888 5827 8595 1473 8526 7462 3064\n",
      " 5144 3579 1180 3838 3092 2075 9165 7003 6986 8112 9435 5786 2964 4913\n",
      " 2983 7156  366 1724 1265 9905 4735 8450 3507 6001 9339 2215  833 8559\n",
      "  496 3177 5332 9927 7270 9019 6835 8810 1003 2041 4657 7818 2203 3416\n",
      "  966 2731 2392 4814 2226 6650  904 3402 7119 5720 2322  734 8547 2679\n",
      " 9389 4503 7347 1006 9750 8120 1169 5219 4244  602  604 5533 9594 5454\n",
      " 8484 2892 4074 6409 9662 6676 9685 9715 8592 8543 1405  298 9788 3992\n",
      " 2682 8594  711 4792 4044 1823 7807 1211 8998 5230 2069 6792 9102 7253\n",
      " 3637 6725 4928 7629 1357 5373 7117 2922  313 1332 1650 1564 4446 8069\n",
      " 6298 5392 1816 1498   88 1792 2688 3676 7743 6048 5033 3810 6877 3418\n",
      " 6227 3004 1155 6895 5220 6786  915 6512  275 9931 2504 2916 3336 3756\n",
      " 5593 6047 5479  914 3273 9459 5997  662 3380 4095  884  304 9473 8275\n",
      " 3775 7394 3344 7837 9975 7695 4633 3691 4498 5658 3863 8017 4669 4870\n",
      " 9004 4877 6588 4796 7926  159 7106 6287 2173  175 7573  113 9424 8638\n",
      " 3907 7547 8393  166 1476 1447 6365 9657 3150 6480 4077 2354 3420 1419\n",
      " 3139 4976 1636 2014 9324  870  934 8650 1677 2560 1010 2097 2859 6687\n",
      " 4146 6366 2038 1053 2034 1688 5953 5680 5136  746 5850 6078 8394 6041\n",
      " 4504 6006 6017 2137 8366 3563  495 1229 2920  979 1887 5277 2521 2563\n",
      " 5787 2166 1429 4781 4801 1139  157 7272 5645 3035 1750  849  233 1763\n",
      " 7490 8002 6773 9791 1797 7523  996 6828 7832 9848 9535 2575 6164   91\n",
      " 1854 1450  139 9840  855 6686 3851 2771 8451 7882 7559 5707 5047 4848\n",
      " 8985 6333 1748 7627 7911 8539 3718 7493 7245 3361 7223 8731 3178 7448\n",
      " 8721 9068 8122 8140 6838 8986 6663 4325 9664 8284 5427 4115 7235 3125\n",
      " 8066 8613 1924 2141 6234 1814 7457 1264 6004 2058 3596 5745 9298 7442\n",
      " 2234 9733 6728 2867 4362 9536 7331 9843 5988 9157 7313 2647 7679 5872\n",
      " 7543  704 5517 3502  805 6386 2553 5212 9311 6133 9350 2009 6798 8929\n",
      " 8114 9898 7153 3570 8024 6774 3982 1592 8558 2937 4345 1524 4600 9374\n",
      " 2375 6979 5684 9301 8146 2136  487 8016 3948 9743 3351 4484 4567 2245\n",
      " 4642 5773 3285 1900 2687 6128 1703 5217 9175 5116 5270 8281   66 8621\n",
      " 7269 7659 2432 8274 1690 3870 7453 6671 9652 6958  272 5512 9910 5545\n",
      " 2000  112 6716 6376 7520 1684 2606 6689 7449 9439 7180 8143 6208  502\n",
      " 5616 6998 1362 7365 3567 9811  477 3541  720 7696 1483 6447 3842 3937\n",
      " 9936  309 3871 7182 9036 3366 3172 4200 3128 5063   75 7707 9094 7092\n",
      " 5861 1187 9416 4331 3057 2221 6251 6866 3931 6947 3251 4093  164 4184\n",
      " 6629 3425 6823 8253 2410 2870 4509 3157 8128 1749 1284 4962 2955 7338\n",
      " 1385  808 5434 2179 3932 4501 5513 2510 1204 2418  236 9385 5424 9146\n",
      " 4308 3270  726 6231  395 2761 4907 2340 3833 3232 5771 7887 6723 2386\n",
      " 8201 2683 2292   20 4239 8975 4089 8671 5544 4538 3218 4027 3349 3627\n",
      " 2546 3921 7859 8126 8636 3447 8865 2650 5050 7972  270 6882 1059 4765\n",
      "  811 5109 1489 6712  544 6262 4173 2285 7502 5417 6479 5765 4271 5886\n",
      " 1472 8335 5772 6428 1885 4069 3806 1872 6304 3569 4760 4720 8908 9758\n",
      " 4021 9803 8427 3398 5952 1821 6680 2068 6031 3415 9167 8269 8904 3101\n",
      " 6988 4836 5688 1533 8048  316  133 1999 8452 4768 4046 6176 2279 6617\n",
      " 7492 1786  262 3903 5939 2109  124 7098 3354 4816 4019 4123 1196 2028\n",
      " 1692 6971 4929 9351 7854  654 6418 8168 5671 4819 5072 3411 4985 9507\n",
      " 5301 1058 1275 5663 4493 5689  757 6380 1052 9577 7686 3688 7907 7511\n",
      " 8133  675  959 9650 8326 8151 2189 2677 4776 2260 9272  630 6329  770\n",
      " 3608 4051 1017 1509 5131 9297 9380  745 6236 7973 4411  905 8742 9349\n",
      "  146 7167 7324 8478 7354 6008 4672 1621 9994 2298 6348 2327 8743 2454\n",
      " 4465 2005 2115 6820 4990 7330 8723 1051 9188 5006 5272 9687 8567 5310\n",
      " 8993 2749  225 5399 9099 3378 6576 4060 6744 4808 1559 8827 2200 4306\n",
      " 8205 9601 5357 9391 1659 5345 8826  853 5601 6991 5341 6504 3456 3840\n",
      " 8823 8164 4932 2492 3575 9676 5705 8971 3914  982  882  271 5630 3072\n",
      " 4112 8891 1824 2564 8497 8003 7427 9906 8096 9897 7591 8951 5819 6701\n",
      "  687 1798 8482 9342 1710  597 8680 6718  536 9345 5177 8757 1753 2253\n",
      "  501 3121 3583 5462 3217 7645  867 5879  920 5452 6204 2337 4769 5162\n",
      " 8492 7713 6221 2211  874 1539 3058 4185 9693 3027 7178 4973 1080 2112\n",
      " 3293 7083 1588 6429 9548 8107 3749 6628 9924 7204 3560 4015  568 2247\n",
      " 2728 4968 3892 2152 6740  137 6383 9943 7867  980 8535 8917 8518 9528\n",
      " 7049 3686  500 1496  215 1484 1152 2977 8154 2589 9946 1319 4949 7162\n",
      " 8173 1954  900 4356 4798 4979 7279 1795 9406 5327 2295 3074 4131 5125\n",
      " 1393 2304 6803 2381  741 2412 7770 4269 2145 6632 9076 5494 5752 3417\n",
      "  295 9118 5475 2572 8656 1780 7781 3404 8453 1849 5991  280  682 3134\n",
      " 3966 7238 2493 7070 4652 6582  414 4174 8461 1240 9583  938 1008 3223\n",
      " 1189  349 2131 4035  573    6 7596 2566 3818 2374 4795 6674 5017 8922\n",
      " 5028 9197 1521 9983 3190 2855 5733 2836 6142 8851 6732 5130 8242 5670\n",
      " 3694 4613 6313  503 7928 5764 5955 6987 3492 5224 2220 2804 6691 8345\n",
      " 3873 1660 8681 8730 3047 3836 3679 2093 5697 3203 4590 2818 2874 8616\n",
      " 3328 2959 3219 3501 2272 4004 5408 2359  201 2785 2548 4606 6054 8955\n",
      " 8318 7212 3668 9794 7218 8139 3068 5920 9892  329 2604 2462 9824  771\n",
      "   97 5661 8514 2006 6476 2011 8083 6089 1448  409 2797  539 2613 5283\n",
      " 2129 3299 1702 6806 2861  250 8766 1796 1023 3490 3613 4012 4631 3347\n",
      " 5815 3976 3086 4531 1345 4192 8085 6243  816 5693 4461 9989 4224 7157\n",
      " 5747 9501 1912 9585 5820 5650 5900 8892 4700 8519 6904 6529 7687 7283\n",
      " 3489 7847 7030 1535 9911 2543 1186  404 6098 2961 2838 7965 7321 3997\n",
      " 5261 4917 7329 9570 5119 2750 5444 1002 6592 5916 5982 6222 4699 9180\n",
      " 1174 7755 1039 1828 2899 2581  483 6766 4761  410 5863 2974 7221 5721\n",
      " 1623 1544 6036 8590 9555 3732  110 7311 6060 1851 7149 4764  204 3283\n",
      " 6360 4710 7994 7901 6581  120 3365 6183 9195 3226 6285 6223  946 7032\n",
      " 4856 6944 9139  454  510 3964 9970 7769 6422 2482 9865 8077 1125 6063\n",
      " 9742 9202 9709  549 2609 6905 4324 8652 6055 4874 4216 1411 4352 4649\n",
      " 9290 8517 9607 5057 4302  470  184 9337 2757 6849 2601 7366 4126 3341\n",
      " 2307 3200 4510 5664 2313 9359  513 8695 5983 5231 8027 6210 4209 3048\n",
      " 7549 6186 9872 5433   36 7569 8912 3245 8759 5546 2134 4589 9630 4999\n",
      " 5575 1316 2213 5813 2119 4440 7564 7495 9430 6724 4564 9226 9579 8141\n",
      " 6452 5529 5447 3108 6782  709  965 6459 2094  264 7407 2519 9638    1\n",
      " 6361 5082 6375 8491 7467  656 4248 6768 2487 6100 3265 3539  595 7342\n",
      "  809 3516  776 7595 2989 6071 1198 8644 9119 9456 9937 6322 6347 8367\n",
      " 4521 2494 9818 3811 9434 3469 3466 6975 1416  165 4452 2132 8293 6368\n",
      " 6875 3551 6290 1706 3296 9014  432 9749  652 8512  670 1466 2550 6837\n",
      " 6019 6268  138 1321 1842 2885 4970 9530 5458 1512 4817 3929 7835 4994\n",
      " 4226  419 7803 2441 6870 3468 3587 6771 2440  875 7608 9524 2460 8369\n",
      " 8756 8144 2258 1844 7710 7361 6896 2931 7199 5024 3642 7259 5013 4829\n",
      " 3189 4229  473 2662 6472 2130 6027 2905 1991 9163 5005 7764 8991 2953\n",
      " 8227 7244 9802 1040 2362 2727 3772 8110 5203  408 2073 1901  151 5542\n",
      " 4167 5817 4835  968 9837 4022 9097  699 9367 4774 6143 7636 7550 7951\n",
      " 3212 5767 4579  506 6239 8031 6150 5232 6860 5796 7983 9326 4890  288\n",
      " 7075  692 3234 2860 2271 8321 7577 4033 6862 2573 2918 9904  284 9147\n",
      " 4742 4762 4730 3211 8659 2656 9402 5348 7424 2851  100 5440 9212 2031\n",
      " 6705  206  135 1652 8368 3523 6213 3046 4005 1810 8008 2120 7910 9631\n",
      " 6619 2666 1309  838 6899 6241 8598 3016  818 6127 3581 8463 7286 7680\n",
      " 9469 3607 6340 5437 4573 1294 2660 2257 7280 1513 7248 7622 4327 6664\n",
      " 8390 7127 4377 6393 2065 1148  559 4289 2694 3649 3020 6107 2732 4525\n",
      " 4183 5516  519 1157 3011 8990 3969 2103  878 5637 1100 7375 9838  348\n",
      " 3465 8131  214 4380 6240 5127 7698 9296 2483 6087 7957  786 4855  997\n",
      " 8988 4197 3980 9610 9769 8784 7196 3152 4998 2090 3926 5640 7063 3053\n",
      " 5836 6924 7633 1054 4964 7914 9100 4066 3989 3289 8924 8435 4189 9599\n",
      "  305 4921  792 9552 1779 6942 3188 5709 1630   11 9246 2789 7307 5520\n",
      " 1839 3162 3894 7709 3480 8409 1339 5039 6516 8914 9763  846 1654 9224\n",
      " 4370 7082 8578 7772 2762  180 7055 4366 7929  565 8059  210 4864 2766\n",
      " 5034 4896 3979 6655 7466 9747 4147 6012 8230 7186 6831 2779 5748 6094\n",
      " 7723 2792 9539 5413 4373 9915 5196 8738  819 1583 5870 9414  428 7513\n",
      " 1756 4312   35 7722   70 3290  488 5101 7703 8521 6880 9659 6537 5576\n",
      " 1173 3464  444 9620   49 1615 7728 5288  558 4625 9518 8462 4668 4718\n",
      " 7323 1911 2996 4181 4802 4475 4909 2835 7626 5384 5706 1506  903 1289\n",
      " 2515 4201 1394 6914 6320 2620 4252 2667 8874  190 3443 4524 1245 6324\n",
      " 5243 2171 2168 6174 7734 8609 5725 2117 2219 9373 6522 3517 5147 8447\n",
      "   86 5659 1519 8460 6865 5922 3052  241  263 4867 2630 8709 5760 6912\n",
      "  714 9192 1801  828 6534 3645 9217 7185 1306 6613 7870 4386 7348 2764\n",
      " 9258 1096 4145 5383   60 2127 2622 7850 3717 5812  854 2055 6609 5810\n",
      " 2087 8557 1222 7643 8036 1968 8329 1705 7669 9452 9006 5312 8217 9061\n",
      " 3081 2686 7597 4259 4522 5128 8531 7242 7666  194  842 7665 4584 3896\n",
      " 4438 4482 2707 9537 5436 7481 3244 7824 1150 8696 5088 9718 6954 3974\n",
      "  891 5523 9110 6392 7385 2382 3710 6508 1990 3882 1729 3123 4129 9487\n",
      " 8669 5085 7193 6126  358 3599 2177 3834 8074 7890 3568  724 5632 1507\n",
      " 4344 5639 3102 9787 9815 6103 9741 7266 3631 8872 6466 4355 2216 2921\n",
      " 4303 7497 3957 3029 4062 6700 8185 9382 7924 5311  797 9223 9829 9330\n",
      " 5981 1867 6357 3051 3696 1979 7553 4486 5655 3886 2756  760 1330 3071\n",
      " 9560 7783 1826 5999 4379  516 3275 8413  345 7649 9950 2944 1642 4930\n",
      " 2768 2935 7057 6804 4108 5302  999 1936 9133  481 6737 3298 2474 7856\n",
      " 6855 9234 9003 6109 4119 7039 6395 7555  132 6948 5560  207 1784 6558\n",
      " 9059 1226 1206 9028 5644 6833 3730 5110 3530 6075 4064 1370 2242  520\n",
      " 1159 8555 4724 1619 2116 4171 8012 3689 2614   16 5618 8767 5474 8831\n",
      " 5917 1442 7993 8627 4611 3243 2201 5731 2104 9179 2224 5016 1323  836\n",
      " 8050 3754 4396 8134 5587  178 9486 9215 3671 5120 3875 2259 7341 1832\n",
      " 9209 5223 4847 1044 9808 2052 3331 3213 8783 2947 8883 5199 3830 9149\n",
      " 7614 4653   92 6085 7471 2517 5937 8218 9352 1897 5549 5781 8941 9932\n",
      " 9641 4079 7950 8623  567 5198 2330 1263  868 6679 6939 6984 8009  637\n",
      " 4121 5714 5993 4887 1293 1188 6884 5958 3309 3435 8019 9859 8573 1961\n",
      "  285 2240 6308 2397 9679 6369 8997 2992 2850 3685 3231  300 9917 4635\n",
      " 1037 9914 6355 5242 7410 6667 3755 4719 5378 1396 9203 3655 4256  388\n",
      " 2161 8355 4516 1761 4091 2107 4449  356 9034 3055 4372 8305 3242 6398\n",
      " 8444 6009 1555  954 9658 8992 4186 9874 4660 1960  350 5996 6066 4078\n",
      "  265 5860  995 4953 6625 2624 8028 6257 9384 3106 3222 8722  222  453\n",
      " 6750 7169 5344 1904 7545 1847 4684 7589 5553 7729 6175 9877 6244 9428\n",
      " 6974 4643 6453 4840 7096  616 5898 4142 2782 1726 6002  932 3816 7036\n",
      " 6557 6751 5579 5255 1073 3149 8124 4955 4651 5930 5320 9018 5159 6003\n",
      " 8965 3901 2962 3114  127 1492 5649 6160 8754 8725 8668 7958 9762 6190\n",
      " 8464 5641 7402 5091 3008 3412 1253 2816 4346 2834  248 6887 9926 5389\n",
      " 5179 1379  177 6455 1322 9616 1337   54 1986 4832  523 1884 9441 8020\n",
      " 3394 4124 2352 8710 3582 1314 8643 2986 8102 7862 2673 6505 7500 5548\n",
      " 3267 1422 5880 6591 6492 8259 6911 4139 7109 7268  504 8495 9947 8542\n",
      " 4820 2753 2949  209 3867 9012 7353 4732 7066 9563 1020 5755   52 8906\n",
      " 3105 2261 8553 6292 7786 7968 7524 1101 3340 3319  152 3651  424 7942\n",
      " 9095 8771 6764 3913  639 6992 7570 9956 7610 3500 6990 7675 7214 6050\n",
      " 2907 9007 4024 9935  722  230 5965 4283  422 2812 6813 1137 5928 2388\n",
      " 1773 7935 2170 9969 4447 8310 9510 5736 5103 5486 2598 4662 5519  369\n",
      " 7357 5972 8207 7560 7408 3325 6029 7076  779 2736 7668 4261 4445 3591\n",
      " 2555 6489  625 5065 4815 9942 5867  535 8698 3702 3786 3719 3660 5603\n",
      " 7077 4472 4080 6762 7337 2744 7692 1613  105 2584 4789 4207 2810 3054\n",
      " 4863 9985 3798 3030 3368 6451 4797 7738 1266   74  494 2035 5727 1326\n",
      "  182 9862  949 1552 7537 4099 6130 3734 5191 3210 7739 2685  191 9670\n",
      " 3561  752 5068 3625 9842  727 5592 5878 3799 1781 5003 5845  677 9582\n",
      " 5848 1437 3332 4336 9208  815 6770  449 6179 3528 9131 3451  620 1916\n",
      " 6162 8191 1549 4984 3777 4778 9029  465 5029 4539 4467 2938 4375 6267\n",
      " 6151 2646 2317 4481 5477 4023 9244  796 8909 9022 7623 4783 1820 6811\n",
      " 6454 9656 3589  885 9761 4477 8566 5167  259  756 1249 9796 3386 7051\n",
      " 1208  134 8964 4031 9426 3545 2048  128 7740 5527 2206  247 4527 8465\n",
      " 4871 4629 7161 4916 7836 5337 3820 5335 8119 7969 6976 7061 6343 3933\n",
      " 7748 2350 9541 4560  785 5480 7864 1870 7154 3699  985  540 4036 7026\n",
      " 7312  339  324 5894 6391 5070 1738 7454 8933 6913 5590 7446 6735 2507\n",
      " 5236 6481 3431 1708 5002 1553 8515 4583  216 7684 1499 9636 1248 7474\n",
      " 7600 7114 4894 3161 4591 8400 2754 9934 5049 6364 6372 3151 5370 6271\n",
      " 4674 5631 4830 2424 9619 4678 7849 7222 1875 7541 3043 5080 4766 7281\n",
      " 4926 6482 2070  731 5859 8585 2208 8063 9369 1680 6555 9475 2652 2193\n",
      " 5851 4688 6433 6919 9677 3883 2411 5666 4800  308 3675 9141 4664 1439\n",
      " 5190 8099 2078 3711 6448 7855 6747  509 2655  971 6123 3658 3566 7834\n",
      " 1340 4326 4435 1009 6038 6229 3941 7056 1570 7944 8804 7174  668 2364\n",
      " 5318 9176 9834 3272 5580 5269 6598 4879 4391 7159 9377 1955 7512 9846\n",
      " 1755 3556  952 4378 5237 2826 1510 9218 5919 6651 2413 1103 4404 8857\n",
      " 1329 3476  907 7947  431 8184 5718  391 8934  733 6259  142  793 2366\n",
      " 5695 5977 9154 4241 4812 8364 4409 5611 2904 4175 4838 9588 4942 2924\n",
      " 1307  751   65 8216  485 2990  691 2239 8795 8610 7982 8753  998 9038\n",
      " 5313 4618 4490 1106 6893 3986 4728  908 9052 1881 7037  641 2377 4683\n",
      " 8905 9684 1072 1392 2143  936 5906 8412  852 9660 3505 7147 7590 7685\n",
      " 1160 4073 8798  935  601 2900 1168 9364 3006 1752  364 3737 4799 2475\n",
      " 5495  196 4988 9841 4891 4744 3441 5561 5896 1276  528 4784 1371 7789\n",
      "  306 1351 7236 3681 3860 1491  371 8999  827 1352 8984 9259  101 7678\n",
      " 9239 1599 9576 6607 4743 5665 7654 3611  545 1366 5913  739 5485 3721\n",
      " 9828 2582 7247 1691 8332 1334 4462  839  764 3706   57 4287 7136 2280\n",
      " 2394 1170 3184 4845 2250 7721 8038 4422 4786 1149 2316  198 5935 4621\n",
      " 8516 7979 2017 2919 5530 9728 6665 7232 3918 7546 9120 1542 5087 5153\n",
      "  983 5152 3959 4780  269 4545 4726 5547 6158  821 5871 4897 8391 9698\n",
      " 8123 8996 7028 5798 4266 1178 2255 5254 7105 6463 7603 1325 6943   25\n",
      " 8530 8387 5629 6575 4497  924 5387  850 1845 1852 3973 6303 1942  397\n",
      " 9566 4376 9106  130 9748 3486 7689  319 2799 7293 6810 3809 3112 4215\n",
      " 3098 7406 8551 5582 4656  587 8254 8910 7128 5716 6941 6430 4347 7040\n",
      " 9960 3126  863 8825 7304 6688 6155 1097 3311 8135 6618 8873 1183 5329\n",
      " 3602 9017 5375 3580 5295  593 7793 7744 9643 1464 3826 1338 1675 4048\n",
      " 3677 3494 9189 2300 3978 1194 1863 3542  871 7027 2544 5398 6193 9340\n",
      " 1676 3111 4747 7287 2383 5514 1787 1686  220 9331 3590 7207 5317 9355\n",
      " 1130 5794 3399  629 1230 7521 6785 6584 9504 1477 9320 6659 3363 9446\n",
      " 9734 4563 7518 3198 4151 1237 8655 1016 3249 3089 6754 2526 9178 5491\n",
      " 3277 7376 7531  156 1127 1434 5338 9738 2108 5058 5451  484 9968 5262\n",
      " 1255  273 4053 6370 1171 2417 3322 1716 9069 7647  712  446 5976 6743\n",
      "  653 7350 2466 3628 4581 2051 4904 2695 2415  718 3215 2485 6800 6020\n",
      " 7936 2118 5628 3940 6108 4496 7278  171 6230 6197 9211 8875 7116 8371\n",
      " 4001 4813 8333 1219  693 6096 8552 8739 8138  161 3175 9612 3549 3252\n",
      "  804 3584 7332 3653  990 4661 1048 8762 3616 5407 8496 3407 1286 3850\n",
      " 2332 4003 7996 6920 6749  144 1903  560 6345  208 5923 3100 2156 6264\n",
      " 3837 7145 2997 2020 8620 4213 6139 4218 8348 7535 8228 3202 7874 4043\n",
      " 4191 9422 8469 2536  522 8540 9249 5453 2910 8791 8926 3849 7498  748\n",
      " 9082 9775 7008 3847  327 5740 4286 9489 8263 5124 2808 8646 1919 7899\n",
      " 8106  634 3343 9823 3255 6111 3406  443 3951 9291 1693 5186 3841 3504\n",
      " 5914 1095 8942 6876 2421 6274  898 7420  893  423 9712 8308 2641  669\n",
      " 2864 4385  631 9318 2644 4253 3904 8215 6458 2844 3271 1846 3743 1802\n",
      " 8564 4630 2204 7240 2751 5038 4341 2868 6282 4018 5019  960  170  318\n",
      " 6053 6940 3317 9060 8247 1487 7257 7714 9164 2659 3814  643 4740 9825\n",
      "  888 8677 1200 6057 9909 3033 6471 5902 2626 5646 4000 6778 2530 9001\n",
      " 3185   30 6972 3729 6058 4485 6573 8187 2794 5294 6690 6616  415 9512\n",
      " 7461   76 4413 2567 7852 5497 5280 1014 5368 1386 2228 1895 4158 8055\n",
      " 5788 9980 9132 2329 2657 2026 6199 5308 3588 9151  929 2602 9080 2238\n",
      " 4565  352 3927 9186 7195 6755 2724 1974 6597 9002 5446 6824 5431 9194\n",
      " 2416 5343 4217 3169 2831 4268 9227 7288 9798 4148 1843 6263 2605 5020\n",
      " 2476 2862 5702 2985 1111 2155 8907 5949   95 5164 1438 2580 1151 8344\n",
      " 4914 9517 8674   99 8548 9084 4354 5412 1541 9050 3181 8388 1868  933\n",
      " 9875 6885 1890 1088 7397 6879 7848 9303  192 5234 4182 4304 9522 3131\n",
      " 8403   13 8090 1078   78 6541 5676 4978 5595 1403 6040 9039 9465 9565\n",
      " 4433 8606 8812 7371 8486 1915 5979 5722 6184 7822 8649 5044 2180 8501\n",
      " 4569 4632 2194 3315 7522 1399 6514  847 8219 6090 2627 2154 3803 4427\n",
      " 6872 6030 4637 6533 7895  737 6909 1055 3895 1579  451 6073 7059  416\n",
      " 9392  640 1217  534 5683 8833 4267 3438 5333 1829 3360 7581 7825 9938\n",
      " 5614 7599 1569  777 9920 1994 9635 9663  841    2 7088 5926 4097 1350\n",
      " 5476 4636  406 6644   59 2422 3238  581 7197 9357 2384 9257 8418 2676\n",
      " 6136 4397 9720 1558 8884 5165  521 9702 2999   17 2897    8  342 9550\n",
      " 7620 3392 4235 4992 5594 1658 3726  346 4270 1262 7062 9961 1713 3180\n",
      " 8165 9269 7804 6307 3496 1987 3422  782  767 2019 6358 5856 7970 6265\n",
      " 5138 8570 5968 3452 6388 4343 2880 8718 2459 4508 9168 2508 5246 3876\n",
      " 1625 3182 7021 7184 6528 3205 1108  713  218 7940 8150 3276 3094 4320\n",
      "  468   53 4638  125 1120 1400 8068 2098  557 8936 4739 8897 1470 2315\n",
      " 7934 7079 2941 7568  367 4059  851 4316 1573 7795 3001 6932 1591 6694\n",
      " 6869 9513 5550 6861 6510 9292  941 5509    5 7892 2387 4753 8919 7208\n",
      " 2743 8285 6408 3831 1328 8015 9166 2229 2267 3437 3802 2520 9696 5974\n",
      " 9793 3034 8786 1806 8839 1344 5114 9500 4172  299 8935 6217 9868 9669\n",
      " 3728 5824 9103 3858 1203 3790 2501 7501 3099 5274 9483 4923 3383 1644\n",
      " 1577 9467 7389 2873 4432 9908 3023 5325 5115 1638 6181 4727 2528 1637\n",
      " 3278 1162 4284 9267 8537 3970 9854 3946 9284   58 8058 8867 4748 9705\n",
      " 9448  411 5291  576 7955    3 3104 1142 5518  183 7009 3320 3572 6832\n",
      " 6460  561 2172 3972  118  644  702 2029 9204 1957 3707  970 5188 7756\n",
      " 2360 7897 6622 9682 4451 9542 7637 4047 1079 5150 4592 7676 6013 3475\n",
      " 5782 1934 2044 7509 5204 3983 2583 1596 3529 4628  243 1918 9158 7486\n",
      " 1172 2733 8071 5803  403 1224 3389 1272 8386 8261 4419 4839 8805 8360\n",
      " 6857 9813 3825 1861 9533  475 4016 2806 9122 6841 1586 3077 1453 4220\n",
      " 4068 7690  681 1790 7000 7479 7022 4274 9056 3518 3127 1952 2577 8053\n",
      " 9680 9460 7124 7314 2333 1996 5229 4697 6394 3107 2111 6583  889  467\n",
      " 2968 5528 4559 9790 5811 5897 3844 7132    9 8178 5866 1296 5699 8276\n",
      "  897  439 9710 6938 6032 8769  355 3890 7699 3953 4494 5107 7225 8060\n",
      " 4086 1743 8972 9153 1075 4272 6630 4361 5273  927 5826 9462  892 6787\n",
      " 7229 5297 7873 8748 7683 1804 3257 9207 4857 4941  834 3345 7778 6930\n",
      " 1722 8095 5386 3725 4329 4310 9016 4851 1565 4118 2328 4384 9070 6983\n",
      "  386 6092 2714 1043 2447  512 9820 5701 9598 9952 7383 1992 6117 9596\n",
      " 8097 6527 6486 4702 2561 9289 6532 5175 4065 9438 8363 2022 3532 9866\n",
      " 1838 4530 8898 1697 2698 1725 2565 6180 1727 4599 2391  471  332 9033\n",
      " 1285 4470 5584 1191 5945 8415 3635 6842 1734 4519 5176 7496 5589 9261\n",
      " 5023  160 9152 3800  762 4703 5814 9575 2344 2128 3650  162  267 7386\n",
      " 7650 5330 1883 6997 5026  480 8408 3003 6359 8104 5369 7842 9432 2274\n",
      " 9772  551 4925 3424 5379 3960 7487 3605 8115 7534 9833 6554 7751 1876\n",
      " 9474 5816 4541 5106  556 7507 8918 8713 5847 2016 4782 3096 6946 2061\n",
      " 1905 4365 6553 5966 2499 4751 7733 7880 7165 8903 4517 3214 2894 3949\n",
      " 6587 5690 7630 4083 9953 5899 1514 4111 4392 6200 8045 7216 1166  425\n",
      " 8179 7002  456 3963  320 3952 5855 6016 1805 2930 1158  362 6713 5890\n",
      " 5907 2514 3947 9755  203 6276 6218 6698 4194 5123 9879  976 2890 3079\n",
      " 1153 9425 8267  543 2973 4568 8474 1110  939 1866 1081 3506 2348 3987\n",
      " 4412 6931 8108 4371 4246 6730 5207 6470 3945 2342 7961 7746 4844 6978\n",
      " 8499 7187 6765 7191 1566 9444 3659 3457 4359  476 8200  923 2578 9719\n",
      " 5607 9830 9992 5182 1720 3405 6272 8155 8170 8192 6973  902  114 8741\n",
      " 8212 6335  126 4878 8328 4922 1409 3956 5809 2709 9101  377 7190 4263\n",
      " 3848 1246  890 8684 7393  372  574  594 1818 2291 3965 3554 3829 9398\n",
      " 8477 6562 8169 3307 7251  172 6317 3082 8280 8196 7551 5652 5469 2710\n",
      " 2773 2312 8712  857 6125 7327 1878 6255 6279 5700 6551 8037 1382 3012\n",
      " 9557 6045 4417 4602 4052 8601 1789 8111 1138 7967  747 9637 6250 9046\n",
      " 2062 1300 1465  150 6756 2690 7046 4277 3993 6926 3470 4571 2633 1435\n",
      " 6981 2982 5441 2470 8687 7447 8622 5960 5490 1444 8629 4548 6776 4010\n",
      " 3216 8105 2263 1363 5216  619 6443 2532 4757 7891 8758  659 7220 5667\n",
      " 1972 9694 1532 9125 8161 2367 2748 6153 7930  333 8445 2001 3337 8977\n",
      " 7435 7730 5669 5202  575 6612 8807 1038 5257  174 7146 2356 8829 6457\n",
      " 8282 9461 9973 1840 6068 3056 4756 2776 4623 7458  729 3861  876 1181\n",
      " 2039 4002 5113 3313 1767 6121 2461 8545  774 2713  928 7702 9816 9305\n",
      " 1655 4607  910 6653 8304 2649 9273 6605 2040 9140 8297 5839 3794 7309\n",
      " 3308 2056  515 3473 7042 9881 2884 6950 7617 5035 2331 5876   68 8634\n",
      " 1214 6959 4547 1287 8927 2400  588 6112  981 1243 4549 8430 4491  344\n",
      " 6115 9300 5555 3716 3868 4007 5643 9329 8443 5346 7188 1417 4936 3369\n",
      " 1550 6018 2702  614 9187 2632   67 2813 5423 1598 6760 9532 8632 5849\n",
      " 2819 5227 9445   22 2830 5833 2869 8052 6574  802 1998 1494 5448 2308\n",
      " 6519 5365 7334 3067 5094 9971 5456 4281 8845 3621 2672 3423 3493 6769\n",
      " 2190  624 6611 4862 5324 4886 2967  986 1908 7943 7081 5653 7261 6207\n",
      " 3373 2252 3186 9939 4736 4288 9506 7179 6961 3954  754  260  413 5104\n",
      " 8837  648 7688 5734 5932 2351 9058 1778 2414 7112 3526 4231  440 1478\n",
      " 7094 6809  794 1657 6620 4826 1827 3118 7857 3731 6293 1575 4305 7790\n",
      " 4408 6152 7409 4471 1771 7921 1254 2684 8529 4639 5278  956 7552 1397\n",
      " 1109 1231 6400 5309 3535 4576 2163 2326 5536 9523 5189  255 7445 2471\n",
      " 7956 7369 1298 3119 3261  400 2303 2972 4729 6993 5743 9185 2405 1950\n",
      " 5409  205 9551 3449  579 4807 5404  330 2401 6956 8885 7047  623 7782\n",
      " 1179 9756 7228 6825 7064  765 7246 1458 7538 9966 9407 6780 5621 4673\n",
      " 7962 4050  753 3797 4339 6996  683  310  122  116 7578 3227 9519 3256\n",
      " 6560 1067 7877 2738 3557 7155  268 5430 9672 9220  645 7010 8534 8582\n",
      " 1947 6093 1730 4745 7336 4424 8174 8204  553  365 1835 5470 2264  176\n",
      " 7294 6852 1220  583 1241 8808 9617 2144 2133 2442 4529 5036 8376 1143\n",
      " 8980 4624 8569 4029 9064 8525 4981 8579 9395 3155 1641 5141 5818 6288\n",
      " 9655 7328 3909 7841 1025 8156   46 8608 9623 7902 2495 7919 9005 3880\n",
      " 7484 9283 9604  944 8600 9592  684 5499 4687 8511 9982 9333 4196 4169\n",
      " 8320 8902 3436 2769  234 1467 4357 3083 3778 1886 7345 9104 9394 1819\n",
      " 4608 8473 5171 8625   85 2450  106 2879 6715 7829 2858 7472 6777 3025\n",
      " 2233 1892 9639 5885 8602 5797  769 2496 1941 7423 4230 8498 3598 8004\n",
      " 5472 2373 6124 8888 2188 8210  276 3032 7358 4785 7339 9561 7767 1983\n",
      " 3687 8700 9751 4987 9668 3381 8576 7131 2452 1747  407 4961 9797 5298\n",
      " 5496 4434 9024 5823 1261 4944 5698 2638 3736 1451 1042 5093 7440 2593\n",
      " 4132 7430 8921 1645 4899 2463 7720 8290 6328 1858  972 6670 4258 6284\n",
      " 5478 2960 4156 2739 4821 3610 9112 3751  266 8640 6538 6783 6539 9443\n",
      " 2306 5558 7018 8589 1436  660 4297  140 7465 8871 9447 8706 1527 7110\n",
      " 4058 8116 6384 3015  866 8925 1462 1590 8209  800 5532 2430 1320 8322\n",
      " 8729 9562 6382  676 6182 1430  541 4725  554 8382 5984 8520 7456 7254\n",
      " 4869 7805 7704 3287  781 3049 4243 1669 3805 6791 6407 4138 7121 4314\n",
      " 2801 5276 9945 8848  469 9233  145 3116 4759 6079 3544 5742 8915 2092\n",
      " 8081 6294 5929 5556 1269  649 3597 8822  379 2554 6802 3713 7415 5363\n",
      " 9614 3484 9789 5784 9328  685 9580 7615 3400  347 8358 9077 7705  723\n",
      " 1712 1624 9965 4221 5048 7437 7421 7034 3310 2486 2293 1114 2015 7396\n",
      " 1486 6631 1368  984 9156 7640 2318 9214 3467 7584  303 7525 9198 2372\n",
      "  317 9096 6248 9336 9826 4596 3533  202 2282 7422 1714 1517 8401 7412\n",
      " 8563 5990 6846 1543  674 6634 5821 4387 6672 7379  384 1118 5156 6256\n",
      "  378  337 8100 9597 1764   32 3236 8397 7489 4214 4843 1931 9894 7651\n",
      " 8086 8494 4298 1030 4685 8836 1584 6278 7883 6530 8299 8334 3194 1036\n",
      " 8802 4168 1859 8251 6789 9362 4641 9013 5336 4746  360 4842 9624 1856\n",
      " 6822 4211 6736 6784 3538 8645 5802 4420 1785 5633 7183 8752 7820 7619\n",
      "  189 7480 5846  450 5842 1928 7806 9801 3330 4437  673 8039 8682 4695\n",
      " 7516 6321 2385 2126  185 1740 1982 2336 5142 6258  822 1105 3897 4975\n",
      " 6775 5483  951 3537  223 3439 3540 1468 8719 7909 6572 3804 6633 9544\n",
      " 7024 8422 5394 2506  627 8224  899 2640 6685 9907 4098 4480 4889 7090\n",
      " 4593  380 4367 5380 9850  373 3143  632 9225 8658 2361 2653 8862 6157\n",
      "  307 4872   45 5978 4260  642 2478 4067 1600 1007 1667 4114 2876   71\n",
      " 6498 4866  578 3747 9899 4931 9784 5225 9023 8272 5350 9948 2433 1132\n",
      " 2513 6224 3950 6134 4647 6088 9160 7932 7872 3187 3133 2043 7230 1906\n",
      " 4825 1175 7809 1531 4245 9130  768 9353 8770 5289 8152  586 6703 4873\n",
      " 6405 2509 6169 6871 9786 7813 5726 7301 7598 2089 7939 8911 4506 1594\n",
      " 6095 8693 4045 4225 4149 4334 7349 7302 1381 5869 9354  195 8761 5053\n",
      " 1062 5025 5007 5187 4853 2917 1457 3090 4208 8947  517 6311 4165 3854\n",
      " 7712 5912 9299 9847 8846 3781 2913 9116 4441 7023 8159 3498 2534 3815\n",
      "  108 8030 2712 7171 6666 8047 9436 6891 7224 7808 3943 4382 8657 5059\n",
      " 8619 3531 3843 1937 4487 1719 3998 5962  655 5994 1259 4507 2479 8419\n",
      " 4734 3246 5158 3247 9306 3822 1474 5185 3700  328 7468 9282  564  859\n",
      " 4285  396 5043 8796 9891 7830  864 6444 9081 5360 3103 5874 4479  832\n",
      " 8248 3459 6719 9949  472 9688 8858 2723 6421 1404 9181 7992 2928 5466\n",
      " 8944 2003 6608 4648 9242 6396 8423 9893   41 9067 8599 6146 5183 8790\n",
      " 1090 9170  296 8666 5905 3153   63 7470 9205 3382 7104 3639 8471 8379\n",
      " 5054 3230 3224 1894 1408 1946  698  527 8732 9466 5285 1358 9871  744\n",
      " 2923 5662 1282 1958 7073 6065 3021 3666 6797 7014 9819 7463 6101 7644\n",
      " 7656 1862 5463 9957 9572  606 7846 8183 1742 3445 9477 3259 8001 6779\n",
      " 4850 4919 2740  582 8006  129 9609  707 8745 5566 4262 5776 2781 4421\n",
      " 6952 8035 6661 1223 6695 5954 6144 7491 1679 5415 7102 7084 1699 9011\n",
      " 3624 6122 2574 1913 3129 4360 5239 3515 7631 2817 1374 2854 2473 6675\n",
      "  530 9584 6469 4806 4423  835 8127 5986 6189 9902 4313 5078 8626 9032\n",
      " 6589 8222 3647 8651 3286 7984 3069 2099 4133 3376 5061  708  281 4317\n",
      " 1021 8283 7544 2643 6297 8175 4122 1336 2207 8286 4716 5304  848 7641\n",
      " 7089 6417 1546 1662 5086 3446 7671   14 8843 6596 5154 6699 9210 1031\n",
      " 7517 2991 5052 3014 3377 9778 8574 9057 7558 2993  906 3387 2296 9844\n",
      " 3975 1762 5397 9451 3703 4459 7050 4188 5376 4127 6509 4818 5931 2821\n",
      "  429 6397 6856 9109 6483 8241 1390 6648 1889 2353 2076 7388 9000 8437\n",
      " 5174 4585 5377 4273  799 3070 6571 6341 7750 4580 3601 7742 9817 4770\n",
      " 4650 5750 5400 8779  817 3656 6275 8323 4374  730 5149 6427 9481 4882\n",
      " 2552  633 7905 3785 2113 6014 2940 7403 5841 2429 5009 1855  478 2805\n",
      " 8359 6845  663 6362 9316 7515  283 3618 8978 8079  253 3499 7087 1207\n",
      " 6219 8377 8396 5268 5535  274 7093 8054 6205 2903 7428 7775 6767 5293\n",
      " 2760 6086 6074 3314 3633 8838 8603 6714 1107 2275 1227 2468 7886 1737\n",
      " 2438 3832 5146 8665 6154 2047 7308 7091 5951 9200 3632 2998 1375 5342\n",
      " 7815 6475 7554 2778 4309 1161 9745 2755 4368 6245  895 8604 8522 9785\n",
      " 3414 6790 1488 6434 8125 1242 8171 9325 3593 1012 3955 8524  598 2500\n",
      " 5956 7624 5075 7802 6266 4971 6763 8701 3065 4349 8084 3201 6906 3885\n",
      " 4707 3173 3641 2346 5568 8533 7642 8737 3657 6334 2747 7754 1028  695\n",
      " 3769 2095 7898 2976 3553  775 8147 2176 7938 2717 3220 8232 1770 5790\n",
      " 4566 1235 2950  507]\n",
      "[9995 9996 9997 9998 9999]\n",
      "[9999 9998 9997 9996 9995]\n"
     ]
    }
   ],
   "source": [
    "Z = np.arange(10000)\n",
    "np.random.shuffle(Z)\n",
    "n = 5\n",
    "print(Z)\n",
    "# Slow\n",
    "print (Z[np.argsort(Z)[-n:]])\n",
    "\n",
    "# Fast\n",
    "print (Z[np.argpartition(-Z,n)[:n]])"
   ]
  },
  {
   "cell_type": "markdown",
   "metadata": {
    "id": "pAo0LjwFiaXE"
   },
   "source": [
    "#### 90. Given an arbitrary number of vectors, build the cartesian product (every combinations of every item) (★★★) \n",
    "(**hint**: np.indices)"
   ]
  },
  {
   "cell_type": "code",
   "execution_count": 327,
   "metadata": {
    "id": "MXFsoJZwiaXE",
    "scrolled": true
   },
   "outputs": [
    {
     "name": "stdout",
     "output_type": "stream",
     "text": [
      "[[1 4 6]\n",
      " [1 4 7]\n",
      " [1 5 6]\n",
      " [1 5 7]\n",
      " [2 4 6]\n",
      " [2 4 7]\n",
      " [2 5 6]\n",
      " [2 5 7]\n",
      " [3 4 6]\n",
      " [3 4 7]\n",
      " [3 5 6]\n",
      " [3 5 7]]\n"
     ]
    }
   ],
   "source": [
    "def cartesian(arrays):\n",
    "    arrays = [np.asarray(a) for a in arrays]\n",
    "    shape = (len(x) for x in arrays)\n",
    "\n",
    "    ix = np.indices(shape, dtype=int)\n",
    "    ix = ix.reshape(len(arrays), -1).T\n",
    "\n",
    "    for n, arr in enumerate(arrays):\n",
    "        ix[:, n] = arrays[n][ix[:, n]]\n",
    "\n",
    "    return ix\n",
    "\n",
    "print (cartesian(([1, 2, 3], [4, 5], [6, 7])))"
   ]
  },
  {
   "cell_type": "markdown",
   "metadata": {
    "id": "zDdXjlw8iaXE"
   },
   "source": [
    "#### 91. How to create a record array from a regular array? (★★★) \n",
    "(**hint**: np.core.records.fromarrays)"
   ]
  },
  {
   "cell_type": "code",
   "execution_count": 330,
   "metadata": {
    "id": "NLN44pNqiaXE"
   },
   "outputs": [
    {
     "name": "stdout",
     "output_type": "stream",
     "text": [
      "[['Hello' '2.5' '3']\n",
      " ['World' '3.6' '2']]\n",
      "[(b'Hello', 2.5, 3) (b'World', 3.6, 2)]\n"
     ]
    }
   ],
   "source": [
    "Z = np.array([(\"Hello\", 2.5, 3),\n",
    "              (\"World\", 3.6, 2)])\n",
    "print(Z)\n",
    "R = np.core.records.fromarrays(Z.T, \n",
    "                               names='col1, col2, col3',\n",
    "                               formats = 'S8, f8, i8')\n",
    "print(R)"
   ]
  },
  {
   "cell_type": "markdown",
   "metadata": {
    "id": "ilo-XPumiaXF"
   },
   "source": [
    "#### 92. Consider a large vector Z, compute Z to the power of 3 using 3 different methods (★★★) \n",
    "(**hint**: np.power, \\*, np.einsum)"
   ]
  },
  {
   "cell_type": "code",
   "execution_count": 342,
   "metadata": {
    "id": "BlPh-cIgiaXF"
   },
   "outputs": [
    {
     "name": "stdout",
     "output_type": "stream",
     "text": [
      "1.22 µs ± 49.2 ns per loop (mean ± std. dev. of 7 runs, 1000000 loops each)\n",
      "146 ns ± 5.78 ns per loop (mean ± std. dev. of 7 runs, 10000000 loops each)\n"
     ]
    },
    {
     "ename": "ValueError",
     "evalue": "einstein sum subscripts string contains too many subscripts for operand 0",
     "output_type": "error",
     "traceback": [
      "\u001b[1;31m---------------------------------------------------------------------------\u001b[0m",
      "\u001b[1;31mValueError\u001b[0m                                Traceback (most recent call last)",
      "\u001b[1;32m<ipython-input-342-cea581837ccf>\u001b[0m in \u001b[0;36m<module>\u001b[1;34m\u001b[0m\n\u001b[0;32m      3\u001b[0m \u001b[0mget_ipython\u001b[0m\u001b[1;33m(\u001b[0m\u001b[1;33m)\u001b[0m\u001b[1;33m.\u001b[0m\u001b[0mrun_line_magic\u001b[0m\u001b[1;33m(\u001b[0m\u001b[1;34m'timeit'\u001b[0m\u001b[1;33m,\u001b[0m \u001b[1;34m'np.power(Z,3)'\u001b[0m\u001b[1;33m)\u001b[0m\u001b[1;33m\u001b[0m\u001b[1;33m\u001b[0m\u001b[0m\n\u001b[0;32m      4\u001b[0m \u001b[0mget_ipython\u001b[0m\u001b[1;33m(\u001b[0m\u001b[1;33m)\u001b[0m\u001b[1;33m.\u001b[0m\u001b[0mrun_line_magic\u001b[0m\u001b[1;33m(\u001b[0m\u001b[1;34m'timeit'\u001b[0m\u001b[1;33m,\u001b[0m \u001b[1;34m'Z*Z*Z'\u001b[0m\u001b[1;33m)\u001b[0m\u001b[1;33m\u001b[0m\u001b[1;33m\u001b[0m\u001b[0m\n\u001b[1;32m----> 5\u001b[1;33m \u001b[0mget_ipython\u001b[0m\u001b[1;33m(\u001b[0m\u001b[1;33m)\u001b[0m\u001b[1;33m.\u001b[0m\u001b[0mrun_line_magic\u001b[0m\u001b[1;33m(\u001b[0m\u001b[1;34m'timeit'\u001b[0m\u001b[1;33m,\u001b[0m \u001b[1;34m\"np.einsum('i,i,i->i',Z,Z,Z)\"\u001b[0m\u001b[1;33m)\u001b[0m\u001b[1;33m\u001b[0m\u001b[1;33m\u001b[0m\u001b[0m\n\u001b[0m",
      "\u001b[1;32mC:\\Anaconda\\lib\\site-packages\\IPython\\core\\interactiveshell.py\u001b[0m in \u001b[0;36mrun_line_magic\u001b[1;34m(self, magic_name, line, _stack_depth)\u001b[0m\n\u001b[0;32m   2311\u001b[0m                 \u001b[0mkwargs\u001b[0m\u001b[1;33m[\u001b[0m\u001b[1;34m'local_ns'\u001b[0m\u001b[1;33m]\u001b[0m \u001b[1;33m=\u001b[0m \u001b[0msys\u001b[0m\u001b[1;33m.\u001b[0m\u001b[0m_getframe\u001b[0m\u001b[1;33m(\u001b[0m\u001b[0mstack_depth\u001b[0m\u001b[1;33m)\u001b[0m\u001b[1;33m.\u001b[0m\u001b[0mf_locals\u001b[0m\u001b[1;33m\u001b[0m\u001b[1;33m\u001b[0m\u001b[0m\n\u001b[0;32m   2312\u001b[0m             \u001b[1;32mwith\u001b[0m \u001b[0mself\u001b[0m\u001b[1;33m.\u001b[0m\u001b[0mbuiltin_trap\u001b[0m\u001b[1;33m:\u001b[0m\u001b[1;33m\u001b[0m\u001b[1;33m\u001b[0m\u001b[0m\n\u001b[1;32m-> 2313\u001b[1;33m                 \u001b[0mresult\u001b[0m \u001b[1;33m=\u001b[0m \u001b[0mfn\u001b[0m\u001b[1;33m(\u001b[0m\u001b[1;33m*\u001b[0m\u001b[0margs\u001b[0m\u001b[1;33m,\u001b[0m \u001b[1;33m**\u001b[0m\u001b[0mkwargs\u001b[0m\u001b[1;33m)\u001b[0m\u001b[1;33m\u001b[0m\u001b[1;33m\u001b[0m\u001b[0m\n\u001b[0m\u001b[0;32m   2314\u001b[0m             \u001b[1;32mreturn\u001b[0m \u001b[0mresult\u001b[0m\u001b[1;33m\u001b[0m\u001b[1;33m\u001b[0m\u001b[0m\n\u001b[0;32m   2315\u001b[0m \u001b[1;33m\u001b[0m\u001b[0m\n",
      "\u001b[1;32m<C:\\Anaconda\\lib\\site-packages\\decorator.py:decorator-gen-61>\u001b[0m in \u001b[0;36mtimeit\u001b[1;34m(self, line, cell, local_ns)\u001b[0m\n",
      "\u001b[1;32mC:\\Anaconda\\lib\\site-packages\\IPython\\core\\magic.py\u001b[0m in \u001b[0;36m<lambda>\u001b[1;34m(f, *a, **k)\u001b[0m\n\u001b[0;32m    185\u001b[0m     \u001b[1;31m# but it's overkill for just that one bit of state.\u001b[0m\u001b[1;33m\u001b[0m\u001b[1;33m\u001b[0m\u001b[1;33m\u001b[0m\u001b[0m\n\u001b[0;32m    186\u001b[0m     \u001b[1;32mdef\u001b[0m \u001b[0mmagic_deco\u001b[0m\u001b[1;33m(\u001b[0m\u001b[0marg\u001b[0m\u001b[1;33m)\u001b[0m\u001b[1;33m:\u001b[0m\u001b[1;33m\u001b[0m\u001b[1;33m\u001b[0m\u001b[0m\n\u001b[1;32m--> 187\u001b[1;33m         \u001b[0mcall\u001b[0m \u001b[1;33m=\u001b[0m \u001b[1;32mlambda\u001b[0m \u001b[0mf\u001b[0m\u001b[1;33m,\u001b[0m \u001b[1;33m*\u001b[0m\u001b[0ma\u001b[0m\u001b[1;33m,\u001b[0m \u001b[1;33m**\u001b[0m\u001b[0mk\u001b[0m\u001b[1;33m:\u001b[0m \u001b[0mf\u001b[0m\u001b[1;33m(\u001b[0m\u001b[1;33m*\u001b[0m\u001b[0ma\u001b[0m\u001b[1;33m,\u001b[0m \u001b[1;33m**\u001b[0m\u001b[0mk\u001b[0m\u001b[1;33m)\u001b[0m\u001b[1;33m\u001b[0m\u001b[1;33m\u001b[0m\u001b[0m\n\u001b[0m\u001b[0;32m    188\u001b[0m \u001b[1;33m\u001b[0m\u001b[0m\n\u001b[0;32m    189\u001b[0m         \u001b[1;32mif\u001b[0m \u001b[0mcallable\u001b[0m\u001b[1;33m(\u001b[0m\u001b[0marg\u001b[0m\u001b[1;33m)\u001b[0m\u001b[1;33m:\u001b[0m\u001b[1;33m\u001b[0m\u001b[1;33m\u001b[0m\u001b[0m\n",
      "\u001b[1;32mC:\\Anaconda\\lib\\site-packages\\IPython\\core\\magics\\execution.py\u001b[0m in \u001b[0;36mtimeit\u001b[1;34m(self, line, cell, local_ns)\u001b[0m\n\u001b[0;32m   1156\u001b[0m             \u001b[1;32mfor\u001b[0m \u001b[0mindex\u001b[0m \u001b[1;32min\u001b[0m \u001b[0mrange\u001b[0m\u001b[1;33m(\u001b[0m\u001b[1;36m0\u001b[0m\u001b[1;33m,\u001b[0m \u001b[1;36m10\u001b[0m\u001b[1;33m)\u001b[0m\u001b[1;33m:\u001b[0m\u001b[1;33m\u001b[0m\u001b[1;33m\u001b[0m\u001b[0m\n\u001b[0;32m   1157\u001b[0m                 \u001b[0mnumber\u001b[0m \u001b[1;33m=\u001b[0m \u001b[1;36m10\u001b[0m \u001b[1;33m**\u001b[0m \u001b[0mindex\u001b[0m\u001b[1;33m\u001b[0m\u001b[1;33m\u001b[0m\u001b[0m\n\u001b[1;32m-> 1158\u001b[1;33m                 \u001b[0mtime_number\u001b[0m \u001b[1;33m=\u001b[0m \u001b[0mtimer\u001b[0m\u001b[1;33m.\u001b[0m\u001b[0mtimeit\u001b[0m\u001b[1;33m(\u001b[0m\u001b[0mnumber\u001b[0m\u001b[1;33m)\u001b[0m\u001b[1;33m\u001b[0m\u001b[1;33m\u001b[0m\u001b[0m\n\u001b[0m\u001b[0;32m   1159\u001b[0m                 \u001b[1;32mif\u001b[0m \u001b[0mtime_number\u001b[0m \u001b[1;33m>=\u001b[0m \u001b[1;36m0.2\u001b[0m\u001b[1;33m:\u001b[0m\u001b[1;33m\u001b[0m\u001b[1;33m\u001b[0m\u001b[0m\n\u001b[0;32m   1160\u001b[0m                     \u001b[1;32mbreak\u001b[0m\u001b[1;33m\u001b[0m\u001b[1;33m\u001b[0m\u001b[0m\n",
      "\u001b[1;32mC:\\Anaconda\\lib\\site-packages\\IPython\\core\\magics\\execution.py\u001b[0m in \u001b[0;36mtimeit\u001b[1;34m(self, number)\u001b[0m\n\u001b[0;32m    167\u001b[0m         \u001b[0mgc\u001b[0m\u001b[1;33m.\u001b[0m\u001b[0mdisable\u001b[0m\u001b[1;33m(\u001b[0m\u001b[1;33m)\u001b[0m\u001b[1;33m\u001b[0m\u001b[1;33m\u001b[0m\u001b[0m\n\u001b[0;32m    168\u001b[0m         \u001b[1;32mtry\u001b[0m\u001b[1;33m:\u001b[0m\u001b[1;33m\u001b[0m\u001b[1;33m\u001b[0m\u001b[0m\n\u001b[1;32m--> 169\u001b[1;33m             \u001b[0mtiming\u001b[0m \u001b[1;33m=\u001b[0m \u001b[0mself\u001b[0m\u001b[1;33m.\u001b[0m\u001b[0minner\u001b[0m\u001b[1;33m(\u001b[0m\u001b[0mit\u001b[0m\u001b[1;33m,\u001b[0m \u001b[0mself\u001b[0m\u001b[1;33m.\u001b[0m\u001b[0mtimer\u001b[0m\u001b[1;33m)\u001b[0m\u001b[1;33m\u001b[0m\u001b[1;33m\u001b[0m\u001b[0m\n\u001b[0m\u001b[0;32m    170\u001b[0m         \u001b[1;32mfinally\u001b[0m\u001b[1;33m:\u001b[0m\u001b[1;33m\u001b[0m\u001b[1;33m\u001b[0m\u001b[0m\n\u001b[0;32m    171\u001b[0m             \u001b[1;32mif\u001b[0m \u001b[0mgcold\u001b[0m\u001b[1;33m:\u001b[0m\u001b[1;33m\u001b[0m\u001b[1;33m\u001b[0m\u001b[0m\n",
      "\u001b[1;32m<magic-timeit>\u001b[0m in \u001b[0;36minner\u001b[1;34m(_it, _timer)\u001b[0m\n",
      "\u001b[1;32mC:\\Anaconda\\lib\\site-packages\\numpy\\core\\einsumfunc.py\u001b[0m in \u001b[0;36meinsum\u001b[1;34m(*operands, **kwargs)\u001b[0m\n\u001b[0;32m   1344\u001b[0m     \u001b[1;31m# If no optimization, run pure einsum\u001b[0m\u001b[1;33m\u001b[0m\u001b[1;33m\u001b[0m\u001b[1;33m\u001b[0m\u001b[0m\n\u001b[0;32m   1345\u001b[0m     \u001b[1;32mif\u001b[0m \u001b[0moptimize_arg\u001b[0m \u001b[1;32mis\u001b[0m \u001b[1;32mFalse\u001b[0m\u001b[1;33m:\u001b[0m\u001b[1;33m\u001b[0m\u001b[1;33m\u001b[0m\u001b[0m\n\u001b[1;32m-> 1346\u001b[1;33m         \u001b[1;32mreturn\u001b[0m \u001b[0mc_einsum\u001b[0m\u001b[1;33m(\u001b[0m\u001b[1;33m*\u001b[0m\u001b[0moperands\u001b[0m\u001b[1;33m,\u001b[0m \u001b[1;33m**\u001b[0m\u001b[0mkwargs\u001b[0m\u001b[1;33m)\u001b[0m\u001b[1;33m\u001b[0m\u001b[1;33m\u001b[0m\u001b[0m\n\u001b[0m\u001b[0;32m   1347\u001b[0m \u001b[1;33m\u001b[0m\u001b[0m\n\u001b[0;32m   1348\u001b[0m     \u001b[0mvalid_einsum_kwargs\u001b[0m \u001b[1;33m=\u001b[0m \u001b[1;33m[\u001b[0m\u001b[1;34m'out'\u001b[0m\u001b[1;33m,\u001b[0m \u001b[1;34m'dtype'\u001b[0m\u001b[1;33m,\u001b[0m \u001b[1;34m'order'\u001b[0m\u001b[1;33m,\u001b[0m \u001b[1;34m'casting'\u001b[0m\u001b[1;33m]\u001b[0m\u001b[1;33m\u001b[0m\u001b[1;33m\u001b[0m\u001b[0m\n",
      "\u001b[1;31mValueError\u001b[0m: einstein sum subscripts string contains too many subscripts for operand 0"
     ]
    }
   ],
   "source": [
    "Z = np.random.randint(5e7)\n",
    "\n",
    "%timeit np.power(Z,3)\n",
    "%timeit Z*Z*Z\n",
    "%timeit np.einsum('i,i,i->i',Z,Z,Z)"
   ]
  },
  {
   "cell_type": "markdown",
   "metadata": {
    "id": "nX_ynm5iiaXF"
   },
   "source": [
    "#### 93. Consider two arrays A and B of shape (8,3) and (2,2). How to find rows of A that contain elements of each row of B regardless of the order of the elements in B? (★★★) \n",
    "(**hint**: np.where)"
   ]
  },
  {
   "cell_type": "code",
   "execution_count": 343,
   "metadata": {
    "id": "EvDW3QzwiaXF"
   },
   "outputs": [
    {
     "name": "stdout",
     "output_type": "stream",
     "text": [
      "[0 3 4 5]\n"
     ]
    }
   ],
   "source": [
    "A = np.random.randint(0,5,(8,3))\n",
    "B = np.random.randint(0,5,(2,2))\n",
    "\n",
    "C = (A[..., np.newaxis, np.newaxis] == B)\n",
    "rows = np.where(C.any((3,1)).all(1))[0]\n",
    "print(rows)"
   ]
  },
  {
   "cell_type": "markdown",
   "metadata": {
    "id": "b39WiKEziaXF"
   },
   "source": [
    "#### 94. Considering a 10x3 matrix, extract rows with unequal values (e.g. \\[2,2,3\\]) (★★★)"
   ]
  },
  {
   "cell_type": "code",
   "execution_count": 344,
   "metadata": {
    "id": "CErbzspYiaXG"
   },
   "outputs": [
    {
     "name": "stdout",
     "output_type": "stream",
     "text": [
      "[[2 3 0]\n",
      " [1 2 3]\n",
      " [3 3 4]\n",
      " [4 1 3]\n",
      " [1 1 2]\n",
      " [1 2 4]\n",
      " [3 4 1]\n",
      " [0 1 0]\n",
      " [0 1 0]\n",
      " [4 1 0]]\n",
      "[[2 3 0]\n",
      " [1 2 3]\n",
      " [3 3 4]\n",
      " [4 1 3]\n",
      " [1 1 2]\n",
      " [1 2 4]\n",
      " [3 4 1]\n",
      " [0 1 0]\n",
      " [0 1 0]\n",
      " [4 1 0]]\n",
      "[[2 3 0]\n",
      " [1 2 3]\n",
      " [3 3 4]\n",
      " [4 1 3]\n",
      " [1 1 2]\n",
      " [1 2 4]\n",
      " [3 4 1]\n",
      " [0 1 0]\n",
      " [0 1 0]\n",
      " [4 1 0]]\n"
     ]
    }
   ],
   "source": [
    "Z = np.random.randint(0,5,(10,3))\n",
    "print(Z)\n",
    "# solution for arrays of all dtypes (including string arrays and record arrays)\n",
    "E = np.all(Z[:,1:] == Z[:,:-1], axis=1)\n",
    "U = Z[~E]\n",
    "print(U)\n",
    "# soluiton for numerical arrays only, will work for any number of columns in Z\n",
    "U = Z[Z.max(axis=1) != Z.min(axis=1),:]\n",
    "print(U)"
   ]
  },
  {
   "cell_type": "markdown",
   "metadata": {
    "id": "iY7vt2gyiaXG"
   },
   "source": [
    "#### 95. Convert a vector of ints into a matrix binary representation (★★★) \n",
    "(**hint**: np.unpackbits)"
   ]
  },
  {
   "cell_type": "code",
   "execution_count": 345,
   "metadata": {
    "id": "IBhraJk2iaXG"
   },
   "outputs": [
    {
     "name": "stdout",
     "output_type": "stream",
     "text": [
      "[[0 0 0 0 0 0 0 0]\n",
      " [0 0 0 0 0 0 0 1]\n",
      " [0 0 0 0 0 0 1 0]\n",
      " [0 0 0 0 0 0 1 1]\n",
      " [0 0 0 0 1 1 1 1]\n",
      " [0 0 0 1 0 0 0 0]\n",
      " [0 0 1 0 0 0 0 0]\n",
      " [0 1 0 0 0 0 0 0]\n",
      " [1 0 0 0 0 0 0 0]]\n"
     ]
    }
   ],
   "source": [
    "I = np.array([0, 1, 2, 3, 15, 16, 32, 64, 128], dtype=np.uint8)\n",
    "print(np.unpackbits(I[:, np.newaxis], axis=1))"
   ]
  },
  {
   "cell_type": "markdown",
   "metadata": {
    "id": "bIqrj1CQiaXG"
   },
   "source": [
    "#### 96. Given a two dimensional array, how to extract unique rows? (★★★) \n",
    "(**hint**: np.ascontiguousarray)"
   ]
  },
  {
   "cell_type": "code",
   "execution_count": 346,
   "metadata": {
    "id": "asE0HHApiaXG"
   },
   "outputs": [
    {
     "name": "stdout",
     "output_type": "stream",
     "text": [
      "[[0 0 0]\n",
      " [0 1 0]\n",
      " [0 1 1]\n",
      " [1 0 0]\n",
      " [1 0 1]\n",
      " [1 1 0]]\n"
     ]
    }
   ],
   "source": [
    "Z = np.random.randint(0,2,(6,3))\n",
    "T = np.ascontiguousarray(Z).view(np.dtype((np.void, Z.dtype.itemsize * Z.shape[1])))\n",
    "_, idx = np.unique(T, return_index=True)\n",
    "uZ = Z[idx]\n",
    "print(uZ)"
   ]
  },
  {
   "cell_type": "markdown",
   "metadata": {
    "id": "deA99hITiaXH"
   },
   "source": [
    "#### 97. Considering 2 vectors A & B, write the einsum equivalent of inner, outer, sum, and mul function (★★★) \n",
    "(**hint**: np.einsum)"
   ]
  },
  {
   "cell_type": "code",
   "execution_count": 348,
   "metadata": {
    "id": "t5YpyUakiaXI"
   },
   "outputs": [
    {
     "name": "stdout",
     "output_type": "stream",
     "text": [
      "3.7052973075346416\n",
      "[0.18990941 0.37496764 0.16401373 0.12059957 0.47175293 0.08892022\n",
      " 0.00721622 0.04868379 0.26272007 0.05828393]\n",
      "1.7870674995153308\n",
      "[[0.18990941 0.19883339 0.11936109 0.08589411 0.10938468 0.04488717\n",
      "  0.01074069 0.20150755 0.09376367 0.14974492]\n",
      " [0.35813845 0.37496764 0.22509572 0.16198242 0.20628184 0.08464995\n",
      "  0.0202552  0.38001068 0.17682312 0.28239471]\n",
      " [0.26095398 0.27321639 0.16401373 0.11802686 0.15030518 0.06167933\n",
      "  0.01475875 0.27689095 0.12884039 0.20576406]\n",
      " [0.26664217 0.27917188 0.16758885 0.12059957 0.15358149 0.0630238\n",
      "  0.01508046 0.28292653 0.13164881 0.21024924]\n",
      " [0.81903897 0.8575262  0.51477903 0.37044308 0.47175293 0.19358884\n",
      "  0.04632231 0.8690593  0.40438279 0.64581804]\n",
      " [0.37620519 0.39388334 0.23645095 0.17015382 0.21668798 0.08892022\n",
      "  0.021277   0.39918078 0.18574318 0.29664046]\n",
      " [0.12759219 0.13358784 0.08019372 0.05770866 0.07349099 0.03015781\n",
      "  0.00721622 0.1353845  0.06299589 0.10060735]\n",
      " [0.0458817  0.04803772 0.02883738 0.02075183 0.0264271  0.01084464\n",
      "  0.00259493 0.04868379 0.0226531  0.03617805]\n",
      " [0.53211458 0.55711902 0.33444249 0.24067007 0.30648922 0.12577111\n",
      "  0.03009476 0.56461187 0.26272007 0.41957612]\n",
      " [0.07391681 0.07739021 0.04645789 0.03343183 0.04257486 0.01747105\n",
      "  0.00418051 0.07843105 0.03649483 0.05828393]]\n"
     ]
    }
   ],
   "source": [
    "A = np.random.uniform(0,1,10)\n",
    "B = np.random.uniform(0,1,10)\n",
    "\n",
    "print(np.einsum('i->', A))      # np.sum(A)\n",
    "print(np.einsum('i,i->i', A, B)) # A * B\n",
    "print(np.einsum('i,i', A, B))    # np.inner(A, B)\n",
    "print(np.einsum('i,j->ij', A, B))   # np.outer(A, B)"
   ]
  },
  {
   "cell_type": "markdown",
   "metadata": {
    "id": "333mmfj2iaXI"
   },
   "source": [
    "#### 98. Considering a path described by two vectors (X,Y), how to sample it using equidistant samples (★★★)? \n",
    "(**hint**: np.cumsum, np.interp)"
   ]
  },
  {
   "cell_type": "code",
   "execution_count": 349,
   "metadata": {
    "id": "Dbl2f93piaXI"
   },
   "outputs": [],
   "source": [
    "phi = np.arange(0, 10*np.pi, 0.1)\n",
    "a = 1\n",
    "x = a*phi*np.cos(phi)\n",
    "y = a*phi*np.sin(phi)\n",
    "\n",
    "dr = (np.diff(x)**2 + np.diff(y)**2)**.5 # segment lengths\n",
    "r = np.zeros_like(x)\n",
    "r[1:] = np.cumsum(dr)                # integrate path\n",
    "r_int = np.linspace(0, r.max(), 200) # regular spaced path\n",
    "x_int = np.interp(r_int, r, x)       # integrate path\n",
    "y_int = np.interp(r_int, r, y)"
   ]
  },
  {
   "cell_type": "markdown",
   "metadata": {
    "id": "1Me8OUrAiaXI"
   },
   "source": [
    "#### 99. Given an integer n and a 2D array X, select from X the rows which can be interpreted as draws from a multinomial distribution with n degrees, i.e., the rows which only contain integers and which sum to n. (★★★) \n",
    "(**hint**: np.logical\\_and.reduce, np.mod)"
   ]
  },
  {
   "cell_type": "code",
   "execution_count": 350,
   "metadata": {
    "id": "suubfqEAiaXI"
   },
   "outputs": [
    {
     "name": "stdout",
     "output_type": "stream",
     "text": [
      "[[2. 0. 1. 1.]]\n"
     ]
    }
   ],
   "source": [
    "X = np.asarray([[1.0, 0.0, 3.0, 8.0],\n",
    "                [2.0, 0.0, 1.0, 1.0],\n",
    "                [1.5, 2.5, 1.0, 0.0]])\n",
    "n = 4\n",
    "M = np.logical_and.reduce(np.mod(X, 1) == 0, axis=-1)\n",
    "M &= (X.sum(axis=-1) == n)\n",
    "print(X[M])"
   ]
  },
  {
   "cell_type": "markdown",
   "metadata": {
    "id": "RoMZrnuYiaXI"
   },
   "source": [
    "#### 100. Compute bootstrapped 95% confidence intervals for the mean of a 1D array X (i.e., resample the elements of an array with replacement N times, compute the mean of each sample, and then compute percentiles over the means). (★★★) \n",
    "(**hint**: np.percentile)"
   ]
  },
  {
   "cell_type": "code",
   "execution_count": 351,
   "metadata": {
    "id": "yY7iDkv-iaXJ"
   },
   "outputs": [
    {
     "name": "stdout",
     "output_type": "stream",
     "text": [
      "[-0.19120377  0.18106109]\n"
     ]
    }
   ],
   "source": [
    "X = np.random.randn(100) # random 1D array\n",
    "N = 1000 # number of bootstrap samples\n",
    "idx = np.random.randint(0, X.size, (N, X.size))\n",
    "means = X[idx].mean(axis=1)\n",
    "confint = np.percentile(means, [2.5, 97.5])\n",
    "print(confint)"
   ]
  },
  {
   "cell_type": "code",
   "execution_count": null,
   "metadata": {},
   "outputs": [],
   "source": []
  }
 ],
 "metadata": {
  "colab": {
   "name": "Numpy_tasks.ipynb",
   "provenance": []
  },
  "kernelspec": {
   "display_name": "Python 3",
   "language": "python",
   "name": "python3"
  },
  "language_info": {
   "codemirror_mode": {
    "name": "ipython",
    "version": 3
   },
   "file_extension": ".py",
   "mimetype": "text/x-python",
   "name": "python",
   "nbconvert_exporter": "python",
   "pygments_lexer": "ipython3",
   "version": "3.7.3"
  }
 },
 "nbformat": 4,
 "nbformat_minor": 1
}
